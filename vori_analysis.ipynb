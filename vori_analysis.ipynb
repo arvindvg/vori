{
  "metadata": {
    "bento_stylesheets": {
      "bento/extensions/flow/main.css": true,
      "bento/extensions/kernel_selector/main.css": true,
      "bento/extensions/kernel_ui/main.css": true,
      "bento/extensions/new_kernel/main.css": true,
      "bento/extensions/system_usage/main.css": true,
      "bento/extensions/theme/main.css": true
    },
    "kernelspec": {
      "display_name": "Python 3",
      "language": "python",
      "name": "bento_kernel_default",
      "metadata": {
        "kernel_name": "bento_kernel_default",
        "nightly_builds": true,
        "fbpkg_supported": true,
        "is_prebuilt": true
      }
    },
    "language_info": {
      "codemirror_mode": {
        "name": "ipython",
        "version": 3
      },
      "file_extension": ".py",
      "mimetype": "text/x-python",
      "name": "python",
      "nbconvert_exporter": "python",
      "pygments_lexer": "ipython3"
    },
    "last_server_session_id": "1f03618e-0c86-47fe-9d6f-0e0d526bd705",
    "last_kernel_id": "096e7b0e-ae9d-4256-b3d8-f46fbf37e387",
    "last_base_url": "https://7624.od.fbinfra.net:443/",
    "last_msg_id": "5fc54cb4-74e27e8aa464c7edbc1abf87_4283",
    "outputWidgetContext": {}
  },
  "nbformat": 4,
  "nbformat_minor": 2,
  "cells": [
    {
      "cell_type": "code",
      "metadata": {
        "collapsed": false,
        "originalKey": "64dcc642-5f9b-4a9a-8226-10d0f6806b0c",
        "code_folding": [],
        "hidden_ranges": [],
        "requestMsgId": "4faa3778-edac-4bcc-ace4-fe263365b5a9",
        "executionStartTime": 1642028624065,
        "executionStopTime": 1642028624934
      },
      "source": [
        "import matplotlib.pyplot as plt\n",
        "import matplotlib.ticker as ticker\n",
        "import numpy as np\n",
        "import pandas as pd\n",
        "import seaborn as sns\n",
        "from scipy.sparse import csr_matrix\n",
        "\n",
        "\n",
        "%matplotlib inline\n",
        "plt.figure(figsize=(10, 6))\n",
        "sns.set(style=\"whitegrid\")"
      ],
      "execution_count": 143,
      "outputs": [
        {
          "output_type": "display_data",
          "data": {
            "text/plain": "<Figure size 720x432 with 0 Axes>"
          },
          "metadata": {
            "bento_obj_id": "140323489960384"
          }
        }
      ]
    },
    {
      "cell_type": "code",
      "metadata": {
        "originalKey": "00444c7e-6322-48ab-b227-46273c7991dc",
        "showInput": true,
        "customInput": null,
        "code_folding": [],
        "hidden_ranges": [],
        "collapsed": false,
        "requestMsgId": "fc70c015-d8f3-4966-808f-5ca0e876a374",
        "executionStartTime": 1642023935842,
        "executionStopTime": 1642023957806
      },
      "source": [
        "df = pd.read_csv(\"/home/arvindvg/persistent/private-90d/bq-results-20210911-124803-9qakdvu821wd.csv\")\n",
        ""
      ],
      "execution_count": 9,
      "outputs": [
        {
          "output_type": "stream",
          "name": "stderr",
          "text": [
            "/mnt/xarfuse/uid-25219/1ca99666-seed-nspid4026532555_cgpid28569970-ns-4026532547/IPython/core/interactiveshell.py:3165: DtypeWarning:\n\nColumns (27) have mixed types.Specify dtype option on import or set low_memory=False.\n\n"
          ]
        }
      ]
    },
    {
      "cell_type": "code",
      "metadata": {
        "originalKey": "9c5c1088-74dc-43bd-98f0-cf5156dff6c7",
        "showInput": true,
        "customInput": null,
        "code_folding": [],
        "hidden_ranges": [],
        "collapsed": false,
        "requestMsgId": "c092bbe3-15a4-4a6c-8a82-dc634fc4ad7b",
        "executionStartTime": 1642027575150,
        "executionStopTime": 1642027575326
      },
      "source": [
        "df.query('productID == \"YSFsRmsXBkeLOTI5pQLQ\"')\n",
        ""
      ],
      "execution_count": 115,
      "outputs": [
        {
          "output_type": "execute_result",
          "data": {
            "text/plain": "                     orderID  ...                       product_brandID\n186648  TWXv9vyJkeygIied1Qpv  ...  1d02aa07-9d92-4770-bd24-47f36b7f938c\n\n[1 rows x 47 columns]",
            "text/html": "<div>\n<style scoped>\n    .dataframe tbody tr th:only-of-type {\n        vertical-align: middle;\n    }\n\n    .dataframe tbody tr th {\n        vertical-align: top;\n    }\n\n    .dataframe thead th {\n        text-align: right;\n    }\n</style>\n<table border=\"1\" class=\"dataframe\">\n  <thead>\n    <tr style=\"text-align: right;\">\n      <th></th>\n      <th>orderID</th>\n      <th>storeID</th>\n      <th>distributorID</th>\n      <th>orderDate</th>\n      <th>deliveryDate</th>\n      <th>itemCount</th>\n      <th>numFreeItems</th>\n      <th>purchaseOrderNum</th>\n      <th>client</th>\n      <th>hasMisscans</th>\n      <th>orderPlaced</th>\n      <th>isVendorInitiatedOrder</th>\n      <th>totalPrice</th>\n      <th>subtotal</th>\n      <th>discount</th>\n      <th>productID</th>\n      <th>price</th>\n      <th>quantity</th>\n      <th>isCase</th>\n      <th>product_caseCRV</th>\n      <th>product_caseUPC</th>\n      <th>product_caseSize</th>\n      <th>product_description</th>\n      <th>product_itemCode</th>\n      <th>product_lastUpdated</th>\n      <th>product_packUPC</th>\n      <th>product_unitCRV</th>\n      <th>product_unitUPC</th>\n      <th>product_unitVolume</th>\n      <th>product_vendorID</th>\n      <th>product_wholesaleCasePrice</th>\n      <th>product_wholesaleUnitPrice</th>\n      <th>store_bannerID</th>\n      <th>store_storeType</th>\n      <th>vendor_allowMisScans</th>\n      <th>vendor_id</th>\n      <th>vendor_lockUOMSelection</th>\n      <th>vendor_misscanPolicy</th>\n      <th>vendor_orderDeadline</th>\n      <th>vendor_orderMin</th>\n      <th>vendor_showImages</th>\n      <th>vendor_sortCatalogBy</th>\n      <th>vendor_status</th>\n      <th>placedByUser_companyID</th>\n      <th>placedByUser_id</th>\n      <th>placedByUser_userType</th>\n      <th>product_brandID</th>\n    </tr>\n  </thead>\n  <tbody>\n    <tr>\n      <th>186648</th>\n      <td>TWXv9vyJkeygIied1Qpv</td>\n      <td>UzhjAOKa1lhdpfi6NxhD</td>\n      <td>rI1abW2sjI9q6TLinAik</td>\n      <td>2021-06-14 18:30:23 UTC</td>\n      <td>NaN</td>\n      <td>92</td>\n      <td>0</td>\n      <td>1623695423498</td>\n      <td>IOS</td>\n      <td>False</td>\n      <td>True</td>\n      <td>False</td>\n      <td>637.5</td>\n      <td>637.5</td>\n      <td>0.0</td>\n      <td>YSFsRmsXBkeLOTI5pQLQ</td>\n      <td>7.5</td>\n      <td>6</td>\n      <td>False</td>\n      <td>NaN</td>\n      <td>NaN</td>\n      <td>1.0</td>\n      <td>Flour Sacks, Set Of 3, Neutrals</td>\n      <td>FS 46381</td>\n      <td>2021-09-03 21:27:50.116018 UTC</td>\n      <td>NaN</td>\n      <td>NaN</td>\n      <td>844260046381</td>\n      <td>NaN</td>\n      <td>rI1abW2sjI9q6TLinAik</td>\n      <td>750.0</td>\n      <td>750.0</td>\n      <td>zo6SdsNzqa4mzvgCfobp</td>\n      <td>MULTI_A</td>\n      <td>NaN</td>\n      <td>rI1abW2sjI9q6TLinAik</td>\n      <td>none</td>\n      <td>STANDARD</td>\n      <td>NaN</td>\n      <td>150</td>\n      <td>False</td>\n      <td>ITEM_CODE</td>\n      <td>PROVIDED_CATALOG</td>\n      <td>NaN</td>\n      <td>NaN</td>\n      <td>NaN</td>\n      <td>1d02aa07-9d92-4770-bd24-47f36b7f938c</td>\n    </tr>\n  </tbody>\n</table>\n</div>",
            "application/vnd.dataresource+json": {
              "schema": {
                "fields": [
                  {
                    "name": "index",
                    "type": "integer"
                  },
                  {
                    "name": "orderID",
                    "type": "string"
                  },
                  {
                    "name": "storeID",
                    "type": "string"
                  },
                  {
                    "name": "distributorID",
                    "type": "string"
                  },
                  {
                    "name": "orderDate",
                    "type": "string"
                  },
                  {
                    "name": "deliveryDate",
                    "type": "string"
                  },
                  {
                    "name": "itemCount",
                    "type": "integer"
                  },
                  {
                    "name": "numFreeItems",
                    "type": "integer"
                  },
                  {
                    "name": "purchaseOrderNum",
                    "type": "integer"
                  },
                  {
                    "name": "client",
                    "type": "string"
                  },
                  {
                    "name": "hasMisscans",
                    "type": "boolean"
                  },
                  {
                    "name": "orderPlaced",
                    "type": "boolean"
                  },
                  {
                    "name": "isVendorInitiatedOrder",
                    "type": "boolean"
                  },
                  {
                    "name": "totalPrice",
                    "type": "number"
                  },
                  {
                    "name": "subtotal",
                    "type": "number"
                  },
                  {
                    "name": "discount",
                    "type": "number"
                  },
                  {
                    "name": "productID",
                    "type": "string"
                  },
                  {
                    "name": "price",
                    "type": "number"
                  },
                  {
                    "name": "quantity",
                    "type": "integer"
                  },
                  {
                    "name": "isCase",
                    "type": "boolean"
                  },
                  {
                    "name": "product_caseCRV",
                    "type": "number"
                  },
                  {
                    "name": "product_caseUPC",
                    "type": "number"
                  },
                  {
                    "name": "product_caseSize",
                    "type": "number"
                  },
                  {
                    "name": "product_description",
                    "type": "string"
                  },
                  {
                    "name": "product_itemCode",
                    "type": "string"
                  },
                  {
                    "name": "product_lastUpdated",
                    "type": "string"
                  },
                  {
                    "name": "product_packUPC",
                    "type": "number"
                  },
                  {
                    "name": "product_unitCRV",
                    "type": "number"
                  },
                  {
                    "name": "product_unitUPC",
                    "type": "string"
                  },
                  {
                    "name": "product_unitVolume",
                    "type": "string"
                  },
                  {
                    "name": "product_vendorID",
                    "type": "string"
                  },
                  {
                    "name": "product_wholesaleCasePrice",
                    "type": "number"
                  },
                  {
                    "name": "product_wholesaleUnitPrice",
                    "type": "number"
                  },
                  {
                    "name": "store_bannerID",
                    "type": "string"
                  },
                  {
                    "name": "store_storeType",
                    "type": "string"
                  },
                  {
                    "name": "vendor_allowMisScans",
                    "type": "number"
                  },
                  {
                    "name": "vendor_id",
                    "type": "string"
                  },
                  {
                    "name": "vendor_lockUOMSelection",
                    "type": "string"
                  },
                  {
                    "name": "vendor_misscanPolicy",
                    "type": "string"
                  },
                  {
                    "name": "vendor_orderDeadline",
                    "type": "string"
                  },
                  {
                    "name": "vendor_orderMin",
                    "type": "string"
                  },
                  {
                    "name": "vendor_showImages",
                    "type": "string"
                  },
                  {
                    "name": "vendor_sortCatalogBy",
                    "type": "string"
                  },
                  {
                    "name": "vendor_status",
                    "type": "string"
                  },
                  {
                    "name": "placedByUser_companyID",
                    "type": "string"
                  },
                  {
                    "name": "placedByUser_id",
                    "type": "string"
                  },
                  {
                    "name": "placedByUser_userType",
                    "type": "string"
                  },
                  {
                    "name": "product_brandID",
                    "type": "string"
                  }
                ],
                "primaryKey": [
                  "index"
                ],
                "pandas_version": "0.20.0"
              },
              "data": [
                {
                  "index": 186648,
                  "orderID": "TWXv9vyJkeygIied1Qpv",
                  "storeID": "UzhjAOKa1lhdpfi6NxhD",
                  "distributorID": "rI1abW2sjI9q6TLinAik",
                  "orderDate": "2021-06-14 18:30:23 UTC",
                  "deliveryDate": null,
                  "itemCount": 92,
                  "numFreeItems": 0,
                  "purchaseOrderNum": 1623695423498,
                  "client": "IOS",
                  "hasMisscans": false,
                  "orderPlaced": true,
                  "isVendorInitiatedOrder": false,
                  "totalPrice": 637.5,
                  "subtotal": 637.5,
                  "discount": 0,
                  "productID": "YSFsRmsXBkeLOTI5pQLQ",
                  "price": 7.5,
                  "quantity": 6,
                  "isCase": false,
                  "product_caseCRV": null,
                  "product_caseUPC": null,
                  "product_caseSize": 1,
                  "product_description": "Flour Sacks, Set Of 3, Neutrals",
                  "product_itemCode": "FS 46381",
                  "product_lastUpdated": "2021-09-03 21:27:50.116018 UTC",
                  "product_packUPC": null,
                  "product_unitCRV": null,
                  "product_unitUPC": "844260046381",
                  "product_unitVolume": null,
                  "product_vendorID": "rI1abW2sjI9q6TLinAik",
                  "product_wholesaleCasePrice": 750,
                  "product_wholesaleUnitPrice": 750,
                  "store_bannerID": "zo6SdsNzqa4mzvgCfobp",
                  "store_storeType": "MULTI_A",
                  "vendor_allowMisScans": null,
                  "vendor_id": "rI1abW2sjI9q6TLinAik",
                  "vendor_lockUOMSelection": "none",
                  "vendor_misscanPolicy": "STANDARD",
                  "vendor_orderDeadline": null,
                  "vendor_orderMin": "150",
                  "vendor_showImages": false,
                  "vendor_sortCatalogBy": "ITEM_CODE",
                  "vendor_status": "PROVIDED_CATALOG",
                  "placedByUser_companyID": null,
                  "placedByUser_id": null,
                  "placedByUser_userType": null,
                  "product_brandID": "1d02aa07-9d92-4770-bd24-47f36b7f938c"
                }
              ]
            }
          },
          "metadata": {
            "bento_obj_id": "140323343731200"
          },
          "execution_count": 115
        }
      ]
    },
    {
      "cell_type": "code",
      "metadata": {
        "originalKey": "4d83d0f2-9e6f-4b9b-86a3-8c4ddbd78762",
        "showInput": true,
        "customInput": null,
        "code_folding": [],
        "hidden_ranges": [],
        "collapsed": false,
        "requestMsgId": "4cfa6941-dcc9-4911-bdf2-71eca2013e48",
        "executionStartTime": 1642027343041,
        "executionStopTime": 1642027343271
      },
      "source": [
        "df.query('orderID == \"BF7WM4PMG9if86Dlyxef\"')\n",
        ""
      ],
      "execution_count": 106,
      "outputs": [
        {
          "output_type": "execute_result",
          "data": {
            "text/plain": "                    orderID  ...                       product_brandID\n19730  BF7WM4PMG9if86Dlyxef  ...  2a807618-7e2f-4211-b053-7dad04dadc21\n19731  BF7WM4PMG9if86Dlyxef  ...  8481f6bd-133b-4b03-9ad9-b46c0d35fbd5\n19732  BF7WM4PMG9if86Dlyxef  ...  4c485d0a-a497-4f4e-8f32-635a42d3e3b6\n19733  BF7WM4PMG9if86Dlyxef  ...  5f1e0e82-70ff-445d-9f5e-95ae9475c65f\n19734  BF7WM4PMG9if86Dlyxef  ...  8481f6bd-133b-4b03-9ad9-b46c0d35fbd5\n19735  BF7WM4PMG9if86Dlyxef  ...  2a807618-7e2f-4211-b053-7dad04dadc21\n19736  BF7WM4PMG9if86Dlyxef  ...  e1d9fde4-2f5e-43fa-b596-b677de696d76\n19737  BF7WM4PMG9if86Dlyxef  ...  1e00dc4e-22b8-4bff-848f-4d5a35ac284b\n19738  BF7WM4PMG9if86Dlyxef  ...  99477096-70f4-4bfe-b85b-09285be38411\n19739  BF7WM4PMG9if86Dlyxef  ...  701be4be-1204-407c-9fca-254e6117f202\n19740  BF7WM4PMG9if86Dlyxef  ...  1e00dc4e-22b8-4bff-848f-4d5a35ac284b\n19741  BF7WM4PMG9if86Dlyxef  ...  99477096-70f4-4bfe-b85b-09285be38411\n19742  BF7WM4PMG9if86Dlyxef  ...  4c485d0a-a497-4f4e-8f32-635a42d3e3b6\n19743  BF7WM4PMG9if86Dlyxef  ...  e267252f-ef86-4eef-a033-1f301c5be7ef\n19744  BF7WM4PMG9if86Dlyxef  ...  8481f6bd-133b-4b03-9ad9-b46c0d35fbd5\n19745  BF7WM4PMG9if86Dlyxef  ...  701be4be-1204-407c-9fca-254e6117f202\n19746  BF7WM4PMG9if86Dlyxef  ...  1e00dc4e-22b8-4bff-848f-4d5a35ac284b\n19747  BF7WM4PMG9if86Dlyxef  ...  99477096-70f4-4bfe-b85b-09285be38411\n19748  BF7WM4PMG9if86Dlyxef  ...  2a807618-7e2f-4211-b053-7dad04dadc21\n\n[19 rows x 47 columns]",
            "text/html": "<div>\n<style scoped>\n    .dataframe tbody tr th:only-of-type {\n        vertical-align: middle;\n    }\n\n    .dataframe tbody tr th {\n        vertical-align: top;\n    }\n\n    .dataframe thead th {\n        text-align: right;\n    }\n</style>\n<table border=\"1\" class=\"dataframe\">\n  <thead>\n    <tr style=\"text-align: right;\">\n      <th></th>\n      <th>orderID</th>\n      <th>storeID</th>\n      <th>distributorID</th>\n      <th>orderDate</th>\n      <th>deliveryDate</th>\n      <th>itemCount</th>\n      <th>numFreeItems</th>\n      <th>purchaseOrderNum</th>\n      <th>client</th>\n      <th>hasMisscans</th>\n      <th>orderPlaced</th>\n      <th>isVendorInitiatedOrder</th>\n      <th>totalPrice</th>\n      <th>subtotal</th>\n      <th>discount</th>\n      <th>productID</th>\n      <th>price</th>\n      <th>quantity</th>\n      <th>isCase</th>\n      <th>product_caseCRV</th>\n      <th>product_caseUPC</th>\n      <th>product_caseSize</th>\n      <th>product_description</th>\n      <th>product_itemCode</th>\n      <th>product_lastUpdated</th>\n      <th>product_packUPC</th>\n      <th>product_unitCRV</th>\n      <th>product_unitUPC</th>\n      <th>product_unitVolume</th>\n      <th>product_vendorID</th>\n      <th>product_wholesaleCasePrice</th>\n      <th>product_wholesaleUnitPrice</th>\n      <th>store_bannerID</th>\n      <th>store_storeType</th>\n      <th>vendor_allowMisScans</th>\n      <th>vendor_id</th>\n      <th>vendor_lockUOMSelection</th>\n      <th>vendor_misscanPolicy</th>\n      <th>vendor_orderDeadline</th>\n      <th>vendor_orderMin</th>\n      <th>vendor_showImages</th>\n      <th>vendor_sortCatalogBy</th>\n      <th>vendor_status</th>\n      <th>placedByUser_companyID</th>\n      <th>placedByUser_id</th>\n      <th>placedByUser_userType</th>\n      <th>product_brandID</th>\n    </tr>\n  </thead>\n  <tbody>\n    <tr>\n      <th>19730</th>\n      <td>BF7WM4PMG9if86Dlyxef</td>\n      <td>bbQsO513CADTfN6nudFj</td>\n      <td>S0nm6P597r1wrlkJDzwr</td>\n      <td>2021-08-25 18:42:19 UTC</td>\n      <td>NaN</td>\n      <td>19</td>\n      <td>0</td>\n      <td>1629916939895</td>\n      <td>IOS</td>\n      <td>False</td>\n      <td>True</td>\n      <td>False</td>\n      <td>543.73</td>\n      <td>543.73</td>\n      <td>0.0</td>\n      <td>cBVFaIWzIth5etYzwOwj</td>\n      <td>54.45</td>\n      <td>1</td>\n      <td>True</td>\n      <td>NaN</td>\n      <td>NaN</td>\n      <td>15.0</td>\n      <td>Organic Cage Free Extra Large Brown Eggs</td>\n      <td>1018</td>\n      <td>2021-09-03 21:28:30.854249 UTC</td>\n      <td>NaN</td>\n      <td>NaN</td>\n      <td>21428951354</td>\n      <td>dz</td>\n      <td>S0nm6P597r1wrlkJDzwr</td>\n      <td>5445.0</td>\n      <td>363.0</td>\n      <td>NaN</td>\n      <td>SINGLE_B</td>\n      <td>NaN</td>\n      <td>S0nm6P597r1wrlkJDzwr</td>\n      <td>none</td>\n      <td>STANDARD</td>\n      <td>NaN</td>\n      <td>500</td>\n      <td>True</td>\n      <td>ITEM_CODE</td>\n      <td>CERTIFIED</td>\n      <td>bbQsO513CADTfN6nudFj</td>\n      <td>09MmcHEodaU030qkAz67zjjgsQy2</td>\n      <td>buyer</td>\n      <td>2a807618-7e2f-4211-b053-7dad04dadc21</td>\n    </tr>\n    <tr>\n      <th>19731</th>\n      <td>BF7WM4PMG9if86Dlyxef</td>\n      <td>bbQsO513CADTfN6nudFj</td>\n      <td>S0nm6P597r1wrlkJDzwr</td>\n      <td>2021-08-25 18:42:19 UTC</td>\n      <td>NaN</td>\n      <td>19</td>\n      <td>0</td>\n      <td>1629916939895</td>\n      <td>IOS</td>\n      <td>False</td>\n      <td>True</td>\n      <td>False</td>\n      <td>543.73</td>\n      <td>543.73</td>\n      <td>0.0</td>\n      <td>wXKiqBIOFDFHwB2WqzW4</td>\n      <td>22.20</td>\n      <td>1</td>\n      <td>True</td>\n      <td>NaN</td>\n      <td>NaN</td>\n      <td>6.0</td>\n      <td>Lf Blueberry Kefir</td>\n      <td>1496</td>\n      <td>2021-09-03 21:32:41.026951 UTC</td>\n      <td>NaN</td>\n      <td>NaN</td>\n      <td>17077109322</td>\n      <td>32oz</td>\n      <td>S0nm6P597r1wrlkJDzwr</td>\n      <td>2220.0</td>\n      <td>370.0</td>\n      <td>NaN</td>\n      <td>SINGLE_B</td>\n      <td>NaN</td>\n      <td>S0nm6P597r1wrlkJDzwr</td>\n      <td>none</td>\n      <td>STANDARD</td>\n      <td>NaN</td>\n      <td>500</td>\n      <td>True</td>\n      <td>ITEM_CODE</td>\n      <td>CERTIFIED</td>\n      <td>bbQsO513CADTfN6nudFj</td>\n      <td>09MmcHEodaU030qkAz67zjjgsQy2</td>\n      <td>buyer</td>\n      <td>8481f6bd-133b-4b03-9ad9-b46c0d35fbd5</td>\n    </tr>\n    <tr>\n      <th>19732</th>\n      <td>BF7WM4PMG9if86Dlyxef</td>\n      <td>bbQsO513CADTfN6nudFj</td>\n      <td>S0nm6P597r1wrlkJDzwr</td>\n      <td>2021-08-25 18:42:19 UTC</td>\n      <td>NaN</td>\n      <td>19</td>\n      <td>0</td>\n      <td>1629916939895</td>\n      <td>IOS</td>\n      <td>False</td>\n      <td>True</td>\n      <td>False</td>\n      <td>543.73</td>\n      <td>543.73</td>\n      <td>0.0</td>\n      <td>hu9k1lDhQfgvtDbiYhjJ</td>\n      <td>15.60</td>\n      <td>1</td>\n      <td>True</td>\n      <td>NaN</td>\n      <td>NaN</td>\n      <td>12.0</td>\n      <td>0% Fat Plain Greek Yogurt</td>\n      <td>1185</td>\n      <td>2021-09-03 21:29:42.681281 UTC</td>\n      <td>NaN</td>\n      <td>NaN</td>\n      <td>894700010014</td>\n      <td>5.3oz</td>\n      <td>S0nm6P597r1wrlkJDzwr</td>\n      <td>1560.0</td>\n      <td>130.0</td>\n      <td>NaN</td>\n      <td>SINGLE_B</td>\n      <td>NaN</td>\n      <td>S0nm6P597r1wrlkJDzwr</td>\n      <td>none</td>\n      <td>STANDARD</td>\n      <td>NaN</td>\n      <td>500</td>\n      <td>True</td>\n      <td>ITEM_CODE</td>\n      <td>CERTIFIED</td>\n      <td>bbQsO513CADTfN6nudFj</td>\n      <td>09MmcHEodaU030qkAz67zjjgsQy2</td>\n      <td>buyer</td>\n      <td>4c485d0a-a497-4f4e-8f32-635a42d3e3b6</td>\n    </tr>\n    <tr>\n      <th>19733</th>\n      <td>BF7WM4PMG9if86Dlyxef</td>\n      <td>bbQsO513CADTfN6nudFj</td>\n      <td>S0nm6P597r1wrlkJDzwr</td>\n      <td>2021-08-25 18:42:19 UTC</td>\n      <td>NaN</td>\n      <td>19</td>\n      <td>0</td>\n      <td>1629916939895</td>\n      <td>IOS</td>\n      <td>False</td>\n      <td>True</td>\n      <td>False</td>\n      <td>543.73</td>\n      <td>543.73</td>\n      <td>0.0</td>\n      <td>kngJkJT7LnvWu93jBKjS</td>\n      <td>62.82</td>\n      <td>1</td>\n      <td>True</td>\n      <td>NaN</td>\n      <td>NaN</td>\n      <td>18.0</td>\n      <td>Organic Patured Extra Large Brown 6pk Eggs</td>\n      <td>2032</td>\n      <td>2021-09-03 21:30:18.929508 UTC</td>\n      <td>NaN</td>\n      <td>NaN</td>\n      <td>21428951972</td>\n      <td>6pk</td>\n      <td>S0nm6P597r1wrlkJDzwr</td>\n      <td>6282.0</td>\n      <td>349.0</td>\n      <td>NaN</td>\n      <td>SINGLE_B</td>\n      <td>NaN</td>\n      <td>S0nm6P597r1wrlkJDzwr</td>\n      <td>none</td>\n      <td>STANDARD</td>\n      <td>NaN</td>\n      <td>500</td>\n      <td>True</td>\n      <td>ITEM_CODE</td>\n      <td>CERTIFIED</td>\n      <td>bbQsO513CADTfN6nudFj</td>\n      <td>09MmcHEodaU030qkAz67zjjgsQy2</td>\n      <td>buyer</td>\n      <td>5f1e0e82-70ff-445d-9f5e-95ae9475c65f</td>\n    </tr>\n    <tr>\n      <th>19734</th>\n      <td>BF7WM4PMG9if86Dlyxef</td>\n      <td>bbQsO513CADTfN6nudFj</td>\n      <td>S0nm6P597r1wrlkJDzwr</td>\n      <td>2021-08-25 18:42:19 UTC</td>\n      <td>NaN</td>\n      <td>19</td>\n      <td>0</td>\n      <td>1629916939895</td>\n      <td>IOS</td>\n      <td>False</td>\n      <td>True</td>\n      <td>False</td>\n      <td>543.73</td>\n      <td>543.73</td>\n      <td>0.0</td>\n      <td>yAPHjoXRZ6els4VNT0gT</td>\n      <td>22.20</td>\n      <td>1</td>\n      <td>True</td>\n      <td>NaN</td>\n      <td>NaN</td>\n      <td>6.0</td>\n      <td>Lf Mango Kefir</td>\n      <td>1491</td>\n      <td>2021-09-03 21:32:57.077786 UTC</td>\n      <td>NaN</td>\n      <td>NaN</td>\n      <td>17077171328</td>\n      <td>32oz</td>\n      <td>S0nm6P597r1wrlkJDzwr</td>\n      <td>2220.0</td>\n      <td>370.0</td>\n      <td>NaN</td>\n      <td>SINGLE_B</td>\n      <td>NaN</td>\n      <td>S0nm6P597r1wrlkJDzwr</td>\n      <td>none</td>\n      <td>STANDARD</td>\n      <td>NaN</td>\n      <td>500</td>\n      <td>True</td>\n      <td>ITEM_CODE</td>\n      <td>CERTIFIED</td>\n      <td>bbQsO513CADTfN6nudFj</td>\n      <td>09MmcHEodaU030qkAz67zjjgsQy2</td>\n      <td>buyer</td>\n      <td>8481f6bd-133b-4b03-9ad9-b46c0d35fbd5</td>\n    </tr>\n    <tr>\n      <th>19735</th>\n      <td>BF7WM4PMG9if86Dlyxef</td>\n      <td>bbQsO513CADTfN6nudFj</td>\n      <td>S0nm6P597r1wrlkJDzwr</td>\n      <td>2021-08-25 18:42:19 UTC</td>\n      <td>NaN</td>\n      <td>19</td>\n      <td>0</td>\n      <td>1629916939895</td>\n      <td>IOS</td>\n      <td>False</td>\n      <td>True</td>\n      <td>False</td>\n      <td>543.73</td>\n      <td>543.73</td>\n      <td>0.0</td>\n      <td>MV8qaDx3p6kGxs1thWWp</td>\n      <td>51.70</td>\n      <td>1</td>\n      <td>True</td>\n      <td>NaN</td>\n      <td>NaN</td>\n      <td>10.0</td>\n      <td>Organic Cage Free Large Brown 18pk Eggs</td>\n      <td>1029</td>\n      <td>2021-09-03 21:25:32.999712 UTC</td>\n      <td>NaN</td>\n      <td>NaN</td>\n      <td>21428952290</td>\n      <td>18pks</td>\n      <td>S0nm6P597r1wrlkJDzwr</td>\n      <td>5170.0</td>\n      <td>517.0</td>\n      <td>NaN</td>\n      <td>SINGLE_B</td>\n      <td>NaN</td>\n      <td>S0nm6P597r1wrlkJDzwr</td>\n      <td>none</td>\n      <td>STANDARD</td>\n      <td>NaN</td>\n      <td>500</td>\n      <td>True</td>\n      <td>ITEM_CODE</td>\n      <td>CERTIFIED</td>\n      <td>bbQsO513CADTfN6nudFj</td>\n      <td>09MmcHEodaU030qkAz67zjjgsQy2</td>\n      <td>buyer</td>\n      <td>2a807618-7e2f-4211-b053-7dad04dadc21</td>\n    </tr>\n    <tr>\n      <th>19736</th>\n      <td>BF7WM4PMG9if86Dlyxef</td>\n      <td>bbQsO513CADTfN6nudFj</td>\n      <td>S0nm6P597r1wrlkJDzwr</td>\n      <td>2021-08-25 18:42:19 UTC</td>\n      <td>NaN</td>\n      <td>19</td>\n      <td>0</td>\n      <td>1629916939895</td>\n      <td>IOS</td>\n      <td>False</td>\n      <td>True</td>\n      <td>False</td>\n      <td>543.73</td>\n      <td>543.73</td>\n      <td>0.0</td>\n      <td>fqU4myj6rXIbKJ0WUboT</td>\n      <td>31.08</td>\n      <td>1</td>\n      <td>True</td>\n      <td>NaN</td>\n      <td>NaN</td>\n      <td>12.0</td>\n      <td>Organic Matcha Latte</td>\n      <td>3814</td>\n      <td>2021-09-03 21:29:13.584932 UTC</td>\n      <td>NaN</td>\n      <td>NaN</td>\n      <td>858148003106</td>\n      <td>12oz</td>\n      <td>S0nm6P597r1wrlkJDzwr</td>\n      <td>3108.0</td>\n      <td>259.0</td>\n      <td>NaN</td>\n      <td>SINGLE_B</td>\n      <td>NaN</td>\n      <td>S0nm6P597r1wrlkJDzwr</td>\n      <td>none</td>\n      <td>STANDARD</td>\n      <td>NaN</td>\n      <td>500</td>\n      <td>True</td>\n      <td>ITEM_CODE</td>\n      <td>CERTIFIED</td>\n      <td>bbQsO513CADTfN6nudFj</td>\n      <td>09MmcHEodaU030qkAz67zjjgsQy2</td>\n      <td>buyer</td>\n      <td>e1d9fde4-2f5e-43fa-b596-b677de696d76</td>\n    </tr>\n    <tr>\n      <th>19737</th>\n      <td>BF7WM4PMG9if86Dlyxef</td>\n      <td>bbQsO513CADTfN6nudFj</td>\n      <td>S0nm6P597r1wrlkJDzwr</td>\n      <td>2021-08-25 18:42:19 UTC</td>\n      <td>NaN</td>\n      <td>19</td>\n      <td>0</td>\n      <td>1629916939895</td>\n      <td>IOS</td>\n      <td>False</td>\n      <td>True</td>\n      <td>False</td>\n      <td>543.73</td>\n      <td>543.73</td>\n      <td>0.0</td>\n      <td>8NS3koxVRaFgwdJzJElC</td>\n      <td>27.66</td>\n      <td>1</td>\n      <td>True</td>\n      <td>NaN</td>\n      <td>NaN</td>\n      <td>6.0</td>\n      <td>Three Citrus &amp; Mint Leaf</td>\n      <td>2623</td>\n      <td>2021-09-03 21:22:57.067856 UTC</td>\n      <td>NaN</td>\n      <td>NaN</td>\n      <td>860329001825</td>\n      <td>16oz</td>\n      <td>S0nm6P597r1wrlkJDzwr</td>\n      <td>2766.0</td>\n      <td>461.0</td>\n      <td>NaN</td>\n      <td>SINGLE_B</td>\n      <td>NaN</td>\n      <td>S0nm6P597r1wrlkJDzwr</td>\n      <td>none</td>\n      <td>STANDARD</td>\n      <td>NaN</td>\n      <td>500</td>\n      <td>True</td>\n      <td>ITEM_CODE</td>\n      <td>CERTIFIED</td>\n      <td>bbQsO513CADTfN6nudFj</td>\n      <td>09MmcHEodaU030qkAz67zjjgsQy2</td>\n      <td>buyer</td>\n      <td>1e00dc4e-22b8-4bff-848f-4d5a35ac284b</td>\n    </tr>\n    <tr>\n      <th>19738</th>\n      <td>BF7WM4PMG9if86Dlyxef</td>\n      <td>bbQsO513CADTfN6nudFj</td>\n      <td>S0nm6P597r1wrlkJDzwr</td>\n      <td>2021-08-25 18:42:19 UTC</td>\n      <td>NaN</td>\n      <td>19</td>\n      <td>0</td>\n      <td>1629916939895</td>\n      <td>IOS</td>\n      <td>False</td>\n      <td>True</td>\n      <td>False</td>\n      <td>543.73</td>\n      <td>543.73</td>\n      <td>0.0</td>\n      <td>bNO5z1kzYTqzmyIYs8cf</td>\n      <td>12.96</td>\n      <td>1</td>\n      <td>True</td>\n      <td>NaN</td>\n      <td>NaN</td>\n      <td>6.0</td>\n      <td>Whole Chocolate Milk In Glass Bottles</td>\n      <td>8062</td>\n      <td>2021-09-03 21:28:22.0508 UTC</td>\n      <td>NaN</td>\n      <td>NaN</td>\n      <td>856599003744</td>\n      <td>12oz</td>\n      <td>S0nm6P597r1wrlkJDzwr</td>\n      <td>1296.0</td>\n      <td>216.0</td>\n      <td>NaN</td>\n      <td>SINGLE_B</td>\n      <td>NaN</td>\n      <td>S0nm6P597r1wrlkJDzwr</td>\n      <td>none</td>\n      <td>STANDARD</td>\n      <td>NaN</td>\n      <td>500</td>\n      <td>True</td>\n      <td>ITEM_CODE</td>\n      <td>CERTIFIED</td>\n      <td>bbQsO513CADTfN6nudFj</td>\n      <td>09MmcHEodaU030qkAz67zjjgsQy2</td>\n      <td>buyer</td>\n      <td>99477096-70f4-4bfe-b85b-09285be38411</td>\n    </tr>\n    <tr>\n      <th>19739</th>\n      <td>BF7WM4PMG9if86Dlyxef</td>\n      <td>bbQsO513CADTfN6nudFj</td>\n      <td>S0nm6P597r1wrlkJDzwr</td>\n      <td>2021-08-25 18:42:19 UTC</td>\n      <td>NaN</td>\n      <td>19</td>\n      <td>0</td>\n      <td>1629916939895</td>\n      <td>IOS</td>\n      <td>False</td>\n      <td>True</td>\n      <td>False</td>\n      <td>543.73</td>\n      <td>543.73</td>\n      <td>0.0</td>\n      <td>OeGm5CxigWQUSyh3dify</td>\n      <td>27.30</td>\n      <td>1</td>\n      <td>True</td>\n      <td>NaN</td>\n      <td>NaN</td>\n      <td>6.0</td>\n      <td>Organic Reduced Fat 2% Milk In Glass Bottles</td>\n      <td>7997</td>\n      <td>2021-09-03 21:25:56.757181 UTC</td>\n      <td>NaN</td>\n      <td>NaN</td>\n      <td>784830000910</td>\n      <td>Hgal</td>\n      <td>S0nm6P597r1wrlkJDzwr</td>\n      <td>2730.0</td>\n      <td>455.0</td>\n      <td>NaN</td>\n      <td>SINGLE_B</td>\n      <td>NaN</td>\n      <td>S0nm6P597r1wrlkJDzwr</td>\n      <td>none</td>\n      <td>STANDARD</td>\n      <td>NaN</td>\n      <td>500</td>\n      <td>True</td>\n      <td>ITEM_CODE</td>\n      <td>CERTIFIED</td>\n      <td>bbQsO513CADTfN6nudFj</td>\n      <td>09MmcHEodaU030qkAz67zjjgsQy2</td>\n      <td>buyer</td>\n      <td>701be4be-1204-407c-9fca-254e6117f202</td>\n    </tr>\n    <tr>\n      <th>19740</th>\n      <td>BF7WM4PMG9if86Dlyxef</td>\n      <td>bbQsO513CADTfN6nudFj</td>\n      <td>S0nm6P597r1wrlkJDzwr</td>\n      <td>2021-08-25 18:42:19 UTC</td>\n      <td>NaN</td>\n      <td>19</td>\n      <td>0</td>\n      <td>1629916939895</td>\n      <td>IOS</td>\n      <td>False</td>\n      <td>True</td>\n      <td>False</td>\n      <td>543.73</td>\n      <td>543.73</td>\n      <td>0.0</td>\n      <td>ckKEJOMZ1XkgSMzQvhSv</td>\n      <td>27.66</td>\n      <td>1</td>\n      <td>True</td>\n      <td>NaN</td>\n      <td>NaN</td>\n      <td>6.0</td>\n      <td>Catus Pear</td>\n      <td>2621</td>\n      <td>2021-09-03 21:28:36.745004 UTC</td>\n      <td>NaN</td>\n      <td>NaN</td>\n      <td>860329001801</td>\n      <td>16oz</td>\n      <td>S0nm6P597r1wrlkJDzwr</td>\n      <td>2766.0</td>\n      <td>461.0</td>\n      <td>NaN</td>\n      <td>SINGLE_B</td>\n      <td>NaN</td>\n      <td>S0nm6P597r1wrlkJDzwr</td>\n      <td>none</td>\n      <td>STANDARD</td>\n      <td>NaN</td>\n      <td>500</td>\n      <td>True</td>\n      <td>ITEM_CODE</td>\n      <td>CERTIFIED</td>\n      <td>bbQsO513CADTfN6nudFj</td>\n      <td>09MmcHEodaU030qkAz67zjjgsQy2</td>\n      <td>buyer</td>\n      <td>1e00dc4e-22b8-4bff-848f-4d5a35ac284b</td>\n    </tr>\n    <tr>\n      <th>19741</th>\n      <td>BF7WM4PMG9if86Dlyxef</td>\n      <td>bbQsO513CADTfN6nudFj</td>\n      <td>S0nm6P597r1wrlkJDzwr</td>\n      <td>2021-08-25 18:42:19 UTC</td>\n      <td>NaN</td>\n      <td>19</td>\n      <td>0</td>\n      <td>1629916939895</td>\n      <td>IOS</td>\n      <td>False</td>\n      <td>True</td>\n      <td>False</td>\n      <td>543.73</td>\n      <td>543.73</td>\n      <td>0.0</td>\n      <td>BWW9ul0LAccoqQFbAEWH</td>\n      <td>12.96</td>\n      <td>1</td>\n      <td>True</td>\n      <td>NaN</td>\n      <td>NaN</td>\n      <td>6.0</td>\n      <td>Whole Banana Milk In Glass Bottles</td>\n      <td>8064</td>\n      <td>2021-09-03 21:23:30.787923 UTC</td>\n      <td>NaN</td>\n      <td>NaN</td>\n      <td>856599003775</td>\n      <td>12oz</td>\n      <td>S0nm6P597r1wrlkJDzwr</td>\n      <td>1296.0</td>\n      <td>216.0</td>\n      <td>NaN</td>\n      <td>SINGLE_B</td>\n      <td>NaN</td>\n      <td>S0nm6P597r1wrlkJDzwr</td>\n      <td>none</td>\n      <td>STANDARD</td>\n      <td>NaN</td>\n      <td>500</td>\n      <td>True</td>\n      <td>ITEM_CODE</td>\n      <td>CERTIFIED</td>\n      <td>bbQsO513CADTfN6nudFj</td>\n      <td>09MmcHEodaU030qkAz67zjjgsQy2</td>\n      <td>buyer</td>\n      <td>99477096-70f4-4bfe-b85b-09285be38411</td>\n    </tr>\n    <tr>\n      <th>19742</th>\n      <td>BF7WM4PMG9if86Dlyxef</td>\n      <td>bbQsO513CADTfN6nudFj</td>\n      <td>S0nm6P597r1wrlkJDzwr</td>\n      <td>2021-08-25 18:42:19 UTC</td>\n      <td>NaN</td>\n      <td>19</td>\n      <td>0</td>\n      <td>1629916939895</td>\n      <td>IOS</td>\n      <td>False</td>\n      <td>True</td>\n      <td>False</td>\n      <td>543.73</td>\n      <td>543.73</td>\n      <td>0.0</td>\n      <td>TALslJqkrTJAjREwJMv4</td>\n      <td>15.60</td>\n      <td>1</td>\n      <td>True</td>\n      <td>NaN</td>\n      <td>NaN</td>\n      <td>12.0</td>\n      <td>Wm Lemon &amp; Cream Greek Yogurt</td>\n      <td>1196</td>\n      <td>2021-09-03 21:26:46.376574 UTC</td>\n      <td>NaN</td>\n      <td>NaN</td>\n      <td>894700010090</td>\n      <td>5.3oz</td>\n      <td>S0nm6P597r1wrlkJDzwr</td>\n      <td>1560.0</td>\n      <td>130.0</td>\n      <td>NaN</td>\n      <td>SINGLE_B</td>\n      <td>NaN</td>\n      <td>S0nm6P597r1wrlkJDzwr</td>\n      <td>none</td>\n      <td>STANDARD</td>\n      <td>NaN</td>\n      <td>500</td>\n      <td>True</td>\n      <td>ITEM_CODE</td>\n      <td>CERTIFIED</td>\n      <td>bbQsO513CADTfN6nudFj</td>\n      <td>09MmcHEodaU030qkAz67zjjgsQy2</td>\n      <td>buyer</td>\n      <td>4c485d0a-a497-4f4e-8f32-635a42d3e3b6</td>\n    </tr>\n    <tr>\n      <th>19743</th>\n      <td>BF7WM4PMG9if86Dlyxef</td>\n      <td>bbQsO513CADTfN6nudFj</td>\n      <td>S0nm6P597r1wrlkJDzwr</td>\n      <td>2021-08-25 18:42:19 UTC</td>\n      <td>NaN</td>\n      <td>19</td>\n      <td>0</td>\n      <td>1629916939895</td>\n      <td>IOS</td>\n      <td>False</td>\n      <td>True</td>\n      <td>False</td>\n      <td>543.73</td>\n      <td>543.73</td>\n      <td>0.0</td>\n      <td>Jda1OB4UwE0KtJrJ0Oik</td>\n      <td>29.28</td>\n      <td>1</td>\n      <td>True</td>\n      <td>NaN</td>\n      <td>NaN</td>\n      <td>12.0</td>\n      <td>Organic Firm Water Pack Tofu</td>\n      <td>7135</td>\n      <td>2021-09-03 21:25:04.030169 UTC</td>\n      <td>NaN</td>\n      <td>NaN</td>\n      <td>30871302163</td>\n      <td>14oz</td>\n      <td>S0nm6P597r1wrlkJDzwr</td>\n      <td>2928.0</td>\n      <td>244.0</td>\n      <td>NaN</td>\n      <td>SINGLE_B</td>\n      <td>NaN</td>\n      <td>S0nm6P597r1wrlkJDzwr</td>\n      <td>none</td>\n      <td>STANDARD</td>\n      <td>NaN</td>\n      <td>500</td>\n      <td>True</td>\n      <td>ITEM_CODE</td>\n      <td>CERTIFIED</td>\n      <td>bbQsO513CADTfN6nudFj</td>\n      <td>09MmcHEodaU030qkAz67zjjgsQy2</td>\n      <td>buyer</td>\n      <td>e267252f-ef86-4eef-a033-1f301c5be7ef</td>\n    </tr>\n    <tr>\n      <th>19744</th>\n      <td>BF7WM4PMG9if86Dlyxef</td>\n      <td>bbQsO513CADTfN6nudFj</td>\n      <td>S0nm6P597r1wrlkJDzwr</td>\n      <td>2021-08-25 18:42:19 UTC</td>\n      <td>NaN</td>\n      <td>19</td>\n      <td>0</td>\n      <td>1629916939895</td>\n      <td>IOS</td>\n      <td>False</td>\n      <td>True</td>\n      <td>False</td>\n      <td>543.73</td>\n      <td>543.73</td>\n      <td>0.0</td>\n      <td>Qx71CrvrguSH0STi2mNO</td>\n      <td>22.20</td>\n      <td>1</td>\n      <td>True</td>\n      <td>NaN</td>\n      <td>NaN</td>\n      <td>6.0</td>\n      <td>Lf Raspberry Kefir</td>\n      <td>1493</td>\n      <td>2021-09-03 21:26:22.134913 UTC</td>\n      <td>NaN</td>\n      <td>NaN</td>\n      <td>17077104326</td>\n      <td>32oz</td>\n      <td>S0nm6P597r1wrlkJDzwr</td>\n      <td>2220.0</td>\n      <td>370.0</td>\n      <td>NaN</td>\n      <td>SINGLE_B</td>\n      <td>NaN</td>\n      <td>S0nm6P597r1wrlkJDzwr</td>\n      <td>none</td>\n      <td>STANDARD</td>\n      <td>NaN</td>\n      <td>500</td>\n      <td>True</td>\n      <td>ITEM_CODE</td>\n      <td>CERTIFIED</td>\n      <td>bbQsO513CADTfN6nudFj</td>\n      <td>09MmcHEodaU030qkAz67zjjgsQy2</td>\n      <td>buyer</td>\n      <td>8481f6bd-133b-4b03-9ad9-b46c0d35fbd5</td>\n    </tr>\n    <tr>\n      <th>19745</th>\n      <td>BF7WM4PMG9if86Dlyxef</td>\n      <td>bbQsO513CADTfN6nudFj</td>\n      <td>S0nm6P597r1wrlkJDzwr</td>\n      <td>2021-08-25 18:42:19 UTC</td>\n      <td>NaN</td>\n      <td>19</td>\n      <td>0</td>\n      <td>1629916939895</td>\n      <td>IOS</td>\n      <td>False</td>\n      <td>True</td>\n      <td>False</td>\n      <td>543.73</td>\n      <td>543.73</td>\n      <td>0.0</td>\n      <td>cX9cknidRWhtTn5TIptP</td>\n      <td>27.30</td>\n      <td>1</td>\n      <td>True</td>\n      <td>NaN</td>\n      <td>NaN</td>\n      <td>6.0</td>\n      <td>Organic Whole Milk In Glass Bottles</td>\n      <td>7995</td>\n      <td>2021-09-03 21:28:33.890894 UTC</td>\n      <td>NaN</td>\n      <td>NaN</td>\n      <td>784830000118</td>\n      <td>Hgal</td>\n      <td>S0nm6P597r1wrlkJDzwr</td>\n      <td>2730.0</td>\n      <td>455.0</td>\n      <td>NaN</td>\n      <td>SINGLE_B</td>\n      <td>NaN</td>\n      <td>S0nm6P597r1wrlkJDzwr</td>\n      <td>none</td>\n      <td>STANDARD</td>\n      <td>NaN</td>\n      <td>500</td>\n      <td>True</td>\n      <td>ITEM_CODE</td>\n      <td>CERTIFIED</td>\n      <td>bbQsO513CADTfN6nudFj</td>\n      <td>09MmcHEodaU030qkAz67zjjgsQy2</td>\n      <td>buyer</td>\n      <td>701be4be-1204-407c-9fca-254e6117f202</td>\n    </tr>\n    <tr>\n      <th>19746</th>\n      <td>BF7WM4PMG9if86Dlyxef</td>\n      <td>bbQsO513CADTfN6nudFj</td>\n      <td>S0nm6P597r1wrlkJDzwr</td>\n      <td>2021-08-25 18:42:19 UTC</td>\n      <td>NaN</td>\n      <td>19</td>\n      <td>0</td>\n      <td>1629916939895</td>\n      <td>IOS</td>\n      <td>False</td>\n      <td>True</td>\n      <td>False</td>\n      <td>543.73</td>\n      <td>543.73</td>\n      <td>0.0</td>\n      <td>bhfAlQWsO8tMxsGXrNG9</td>\n      <td>27.66</td>\n      <td>1</td>\n      <td>True</td>\n      <td>NaN</td>\n      <td>NaN</td>\n      <td>6.0</td>\n      <td>Pineapple &amp; Ginger Root</td>\n      <td>2624</td>\n      <td>2021-09-03 21:28:25.07017 UTC</td>\n      <td>NaN</td>\n      <td>NaN</td>\n      <td>860329001849</td>\n      <td>16oz</td>\n      <td>S0nm6P597r1wrlkJDzwr</td>\n      <td>2766.0</td>\n      <td>461.0</td>\n      <td>NaN</td>\n      <td>SINGLE_B</td>\n      <td>NaN</td>\n      <td>S0nm6P597r1wrlkJDzwr</td>\n      <td>none</td>\n      <td>STANDARD</td>\n      <td>NaN</td>\n      <td>500</td>\n      <td>True</td>\n      <td>ITEM_CODE</td>\n      <td>CERTIFIED</td>\n      <td>bbQsO513CADTfN6nudFj</td>\n      <td>09MmcHEodaU030qkAz67zjjgsQy2</td>\n      <td>buyer</td>\n      <td>1e00dc4e-22b8-4bff-848f-4d5a35ac284b</td>\n    </tr>\n    <tr>\n      <th>19747</th>\n      <td>BF7WM4PMG9if86Dlyxef</td>\n      <td>bbQsO513CADTfN6nudFj</td>\n      <td>S0nm6P597r1wrlkJDzwr</td>\n      <td>2021-08-25 18:42:19 UTC</td>\n      <td>NaN</td>\n      <td>19</td>\n      <td>0</td>\n      <td>1629916939895</td>\n      <td>IOS</td>\n      <td>False</td>\n      <td>True</td>\n      <td>False</td>\n      <td>543.73</td>\n      <td>543.73</td>\n      <td>0.0</td>\n      <td>Vtiwsfg2yGAx8Gus1m19</td>\n      <td>12.96</td>\n      <td>1</td>\n      <td>True</td>\n      <td>NaN</td>\n      <td>NaN</td>\n      <td>6.0</td>\n      <td>Whole Strawberry Milk In Glass Bottles</td>\n      <td>8063</td>\n      <td>2021-09-03 21:27:21.495653 UTC</td>\n      <td>NaN</td>\n      <td>NaN</td>\n      <td>856599003768</td>\n      <td>12oz</td>\n      <td>S0nm6P597r1wrlkJDzwr</td>\n      <td>1296.0</td>\n      <td>216.0</td>\n      <td>NaN</td>\n      <td>SINGLE_B</td>\n      <td>NaN</td>\n      <td>S0nm6P597r1wrlkJDzwr</td>\n      <td>none</td>\n      <td>STANDARD</td>\n      <td>NaN</td>\n      <td>500</td>\n      <td>True</td>\n      <td>ITEM_CODE</td>\n      <td>CERTIFIED</td>\n      <td>bbQsO513CADTfN6nudFj</td>\n      <td>09MmcHEodaU030qkAz67zjjgsQy2</td>\n      <td>buyer</td>\n      <td>99477096-70f4-4bfe-b85b-09285be38411</td>\n    </tr>\n    <tr>\n      <th>19748</th>\n      <td>BF7WM4PMG9if86Dlyxef</td>\n      <td>bbQsO513CADTfN6nudFj</td>\n      <td>S0nm6P597r1wrlkJDzwr</td>\n      <td>2021-08-25 18:42:19 UTC</td>\n      <td>NaN</td>\n      <td>19</td>\n      <td>0</td>\n      <td>1629916939895</td>\n      <td>IOS</td>\n      <td>False</td>\n      <td>True</td>\n      <td>False</td>\n      <td>543.73</td>\n      <td>543.73</td>\n      <td>0.0</td>\n      <td>TWEEIbGE3otejkDxa781</td>\n      <td>40.14</td>\n      <td>1</td>\n      <td>True</td>\n      <td>NaN</td>\n      <td>NaN</td>\n      <td>18.0</td>\n      <td>Organic Oemga-2 Cage Free Extra Large Brown 6p...</td>\n      <td>2016</td>\n      <td>2021-09-03 21:26:50.411532 UTC</td>\n      <td>NaN</td>\n      <td>NaN</td>\n      <td>21428951279</td>\n      <td>6pks</td>\n      <td>S0nm6P597r1wrlkJDzwr</td>\n      <td>4014.0</td>\n      <td>223.0</td>\n      <td>NaN</td>\n      <td>SINGLE_B</td>\n      <td>NaN</td>\n      <td>S0nm6P597r1wrlkJDzwr</td>\n      <td>none</td>\n      <td>STANDARD</td>\n      <td>NaN</td>\n      <td>500</td>\n      <td>True</td>\n      <td>ITEM_CODE</td>\n      <td>CERTIFIED</td>\n      <td>bbQsO513CADTfN6nudFj</td>\n      <td>09MmcHEodaU030qkAz67zjjgsQy2</td>\n      <td>buyer</td>\n      <td>2a807618-7e2f-4211-b053-7dad04dadc21</td>\n    </tr>\n  </tbody>\n</table>\n</div>",
            "application/vnd.dataresource+json": {
              "schema": {
                "fields": [
                  {
                    "name": "index",
                    "type": "integer"
                  },
                  {
                    "name": "orderID",
                    "type": "string"
                  },
                  {
                    "name": "storeID",
                    "type": "string"
                  },
                  {
                    "name": "distributorID",
                    "type": "string"
                  },
                  {
                    "name": "orderDate",
                    "type": "string"
                  },
                  {
                    "name": "deliveryDate",
                    "type": "string"
                  },
                  {
                    "name": "itemCount",
                    "type": "integer"
                  },
                  {
                    "name": "numFreeItems",
                    "type": "integer"
                  },
                  {
                    "name": "purchaseOrderNum",
                    "type": "integer"
                  },
                  {
                    "name": "client",
                    "type": "string"
                  },
                  {
                    "name": "hasMisscans",
                    "type": "boolean"
                  },
                  {
                    "name": "orderPlaced",
                    "type": "boolean"
                  },
                  {
                    "name": "isVendorInitiatedOrder",
                    "type": "boolean"
                  },
                  {
                    "name": "totalPrice",
                    "type": "number"
                  },
                  {
                    "name": "subtotal",
                    "type": "number"
                  },
                  {
                    "name": "discount",
                    "type": "number"
                  },
                  {
                    "name": "productID",
                    "type": "string"
                  },
                  {
                    "name": "price",
                    "type": "number"
                  },
                  {
                    "name": "quantity",
                    "type": "integer"
                  },
                  {
                    "name": "isCase",
                    "type": "boolean"
                  },
                  {
                    "name": "product_caseCRV",
                    "type": "number"
                  },
                  {
                    "name": "product_caseUPC",
                    "type": "number"
                  },
                  {
                    "name": "product_caseSize",
                    "type": "number"
                  },
                  {
                    "name": "product_description",
                    "type": "string"
                  },
                  {
                    "name": "product_itemCode",
                    "type": "string"
                  },
                  {
                    "name": "product_lastUpdated",
                    "type": "string"
                  },
                  {
                    "name": "product_packUPC",
                    "type": "number"
                  },
                  {
                    "name": "product_unitCRV",
                    "type": "number"
                  },
                  {
                    "name": "product_unitUPC",
                    "type": "string"
                  },
                  {
                    "name": "product_unitVolume",
                    "type": "string"
                  },
                  {
                    "name": "product_vendorID",
                    "type": "string"
                  },
                  {
                    "name": "product_wholesaleCasePrice",
                    "type": "number"
                  },
                  {
                    "name": "product_wholesaleUnitPrice",
                    "type": "number"
                  },
                  {
                    "name": "store_bannerID",
                    "type": "string"
                  },
                  {
                    "name": "store_storeType",
                    "type": "string"
                  },
                  {
                    "name": "vendor_allowMisScans",
                    "type": "number"
                  },
                  {
                    "name": "vendor_id",
                    "type": "string"
                  },
                  {
                    "name": "vendor_lockUOMSelection",
                    "type": "string"
                  },
                  {
                    "name": "vendor_misscanPolicy",
                    "type": "string"
                  },
                  {
                    "name": "vendor_orderDeadline",
                    "type": "string"
                  },
                  {
                    "name": "vendor_orderMin",
                    "type": "string"
                  },
                  {
                    "name": "vendor_showImages",
                    "type": "string"
                  },
                  {
                    "name": "vendor_sortCatalogBy",
                    "type": "string"
                  },
                  {
                    "name": "vendor_status",
                    "type": "string"
                  },
                  {
                    "name": "placedByUser_companyID",
                    "type": "string"
                  },
                  {
                    "name": "placedByUser_id",
                    "type": "string"
                  },
                  {
                    "name": "placedByUser_userType",
                    "type": "string"
                  },
                  {
                    "name": "product_brandID",
                    "type": "string"
                  }
                ],
                "primaryKey": [
                  "index"
                ],
                "pandas_version": "0.20.0"
              },
              "data": [
                {
                  "index": 19730,
                  "orderID": "BF7WM4PMG9if86Dlyxef",
                  "storeID": "bbQsO513CADTfN6nudFj",
                  "distributorID": "S0nm6P597r1wrlkJDzwr",
                  "orderDate": "2021-08-25 18:42:19 UTC",
                  "deliveryDate": null,
                  "itemCount": 19,
                  "numFreeItems": 0,
                  "purchaseOrderNum": 1629916939895,
                  "client": "IOS",
                  "hasMisscans": false,
                  "orderPlaced": true,
                  "isVendorInitiatedOrder": false,
                  "totalPrice": 543.73,
                  "subtotal": 543.73,
                  "discount": 0,
                  "productID": "cBVFaIWzIth5etYzwOwj",
                  "price": 54.45,
                  "quantity": 1,
                  "isCase": true,
                  "product_caseCRV": null,
                  "product_caseUPC": null,
                  "product_caseSize": 15,
                  "product_description": "Organic Cage Free Extra Large Brown Eggs",
                  "product_itemCode": "1018",
                  "product_lastUpdated": "2021-09-03 21:28:30.854249 UTC",
                  "product_packUPC": null,
                  "product_unitCRV": null,
                  "product_unitUPC": "21428951354",
                  "product_unitVolume": "dz",
                  "product_vendorID": "S0nm6P597r1wrlkJDzwr",
                  "product_wholesaleCasePrice": 5445,
                  "product_wholesaleUnitPrice": 363,
                  "store_bannerID": null,
                  "store_storeType": "SINGLE_B",
                  "vendor_allowMisScans": null,
                  "vendor_id": "S0nm6P597r1wrlkJDzwr",
                  "vendor_lockUOMSelection": "none",
                  "vendor_misscanPolicy": "STANDARD",
                  "vendor_orderDeadline": null,
                  "vendor_orderMin": "500",
                  "vendor_showImages": true,
                  "vendor_sortCatalogBy": "ITEM_CODE",
                  "vendor_status": "CERTIFIED",
                  "placedByUser_companyID": "bbQsO513CADTfN6nudFj",
                  "placedByUser_id": "09MmcHEodaU030qkAz67zjjgsQy2",
                  "placedByUser_userType": "buyer",
                  "product_brandID": "2a807618-7e2f-4211-b053-7dad04dadc21"
                },
                {
                  "index": 19731,
                  "orderID": "BF7WM4PMG9if86Dlyxef",
                  "storeID": "bbQsO513CADTfN6nudFj",
                  "distributorID": "S0nm6P597r1wrlkJDzwr",
                  "orderDate": "2021-08-25 18:42:19 UTC",
                  "deliveryDate": null,
                  "itemCount": 19,
                  "numFreeItems": 0,
                  "purchaseOrderNum": 1629916939895,
                  "client": "IOS",
                  "hasMisscans": false,
                  "orderPlaced": true,
                  "isVendorInitiatedOrder": false,
                  "totalPrice": 543.73,
                  "subtotal": 543.73,
                  "discount": 0,
                  "productID": "wXKiqBIOFDFHwB2WqzW4",
                  "price": 22.2,
                  "quantity": 1,
                  "isCase": true,
                  "product_caseCRV": null,
                  "product_caseUPC": null,
                  "product_caseSize": 6,
                  "product_description": "Lf Blueberry Kefir",
                  "product_itemCode": "1496",
                  "product_lastUpdated": "2021-09-03 21:32:41.026951 UTC",
                  "product_packUPC": null,
                  "product_unitCRV": null,
                  "product_unitUPC": "17077109322",
                  "product_unitVolume": "32oz",
                  "product_vendorID": "S0nm6P597r1wrlkJDzwr",
                  "product_wholesaleCasePrice": 2220,
                  "product_wholesaleUnitPrice": 370,
                  "store_bannerID": null,
                  "store_storeType": "SINGLE_B",
                  "vendor_allowMisScans": null,
                  "vendor_id": "S0nm6P597r1wrlkJDzwr",
                  "vendor_lockUOMSelection": "none",
                  "vendor_misscanPolicy": "STANDARD",
                  "vendor_orderDeadline": null,
                  "vendor_orderMin": "500",
                  "vendor_showImages": true,
                  "vendor_sortCatalogBy": "ITEM_CODE",
                  "vendor_status": "CERTIFIED",
                  "placedByUser_companyID": "bbQsO513CADTfN6nudFj",
                  "placedByUser_id": "09MmcHEodaU030qkAz67zjjgsQy2",
                  "placedByUser_userType": "buyer",
                  "product_brandID": "8481f6bd-133b-4b03-9ad9-b46c0d35fbd5"
                },
                {
                  "index": 19732,
                  "orderID": "BF7WM4PMG9if86Dlyxef",
                  "storeID": "bbQsO513CADTfN6nudFj",
                  "distributorID": "S0nm6P597r1wrlkJDzwr",
                  "orderDate": "2021-08-25 18:42:19 UTC",
                  "deliveryDate": null,
                  "itemCount": 19,
                  "numFreeItems": 0,
                  "purchaseOrderNum": 1629916939895,
                  "client": "IOS",
                  "hasMisscans": false,
                  "orderPlaced": true,
                  "isVendorInitiatedOrder": false,
                  "totalPrice": 543.73,
                  "subtotal": 543.73,
                  "discount": 0,
                  "productID": "hu9k1lDhQfgvtDbiYhjJ",
                  "price": 15.6,
                  "quantity": 1,
                  "isCase": true,
                  "product_caseCRV": null,
                  "product_caseUPC": null,
                  "product_caseSize": 12,
                  "product_description": "0% Fat Plain Greek Yogurt",
                  "product_itemCode": "1185",
                  "product_lastUpdated": "2021-09-03 21:29:42.681281 UTC",
                  "product_packUPC": null,
                  "product_unitCRV": null,
                  "product_unitUPC": "894700010014",
                  "product_unitVolume": "5.3oz",
                  "product_vendorID": "S0nm6P597r1wrlkJDzwr",
                  "product_wholesaleCasePrice": 1560,
                  "product_wholesaleUnitPrice": 130,
                  "store_bannerID": null,
                  "store_storeType": "SINGLE_B",
                  "vendor_allowMisScans": null,
                  "vendor_id": "S0nm6P597r1wrlkJDzwr",
                  "vendor_lockUOMSelection": "none",
                  "vendor_misscanPolicy": "STANDARD",
                  "vendor_orderDeadline": null,
                  "vendor_orderMin": "500",
                  "vendor_showImages": true,
                  "vendor_sortCatalogBy": "ITEM_CODE",
                  "vendor_status": "CERTIFIED",
                  "placedByUser_companyID": "bbQsO513CADTfN6nudFj",
                  "placedByUser_id": "09MmcHEodaU030qkAz67zjjgsQy2",
                  "placedByUser_userType": "buyer",
                  "product_brandID": "4c485d0a-a497-4f4e-8f32-635a42d3e3b6"
                },
                {
                  "index": 19733,
                  "orderID": "BF7WM4PMG9if86Dlyxef",
                  "storeID": "bbQsO513CADTfN6nudFj",
                  "distributorID": "S0nm6P597r1wrlkJDzwr",
                  "orderDate": "2021-08-25 18:42:19 UTC",
                  "deliveryDate": null,
                  "itemCount": 19,
                  "numFreeItems": 0,
                  "purchaseOrderNum": 1629916939895,
                  "client": "IOS",
                  "hasMisscans": false,
                  "orderPlaced": true,
                  "isVendorInitiatedOrder": false,
                  "totalPrice": 543.73,
                  "subtotal": 543.73,
                  "discount": 0,
                  "productID": "kngJkJT7LnvWu93jBKjS",
                  "price": 62.82,
                  "quantity": 1,
                  "isCase": true,
                  "product_caseCRV": null,
                  "product_caseUPC": null,
                  "product_caseSize": 18,
                  "product_description": "Organic Patured Extra Large Brown 6pk Eggs",
                  "product_itemCode": "2032",
                  "product_lastUpdated": "2021-09-03 21:30:18.929508 UTC",
                  "product_packUPC": null,
                  "product_unitCRV": null,
                  "product_unitUPC": "21428951972",
                  "product_unitVolume": "6pk",
                  "product_vendorID": "S0nm6P597r1wrlkJDzwr",
                  "product_wholesaleCasePrice": 6282,
                  "product_wholesaleUnitPrice": 349,
                  "store_bannerID": null,
                  "store_storeType": "SINGLE_B",
                  "vendor_allowMisScans": null,
                  "vendor_id": "S0nm6P597r1wrlkJDzwr",
                  "vendor_lockUOMSelection": "none",
                  "vendor_misscanPolicy": "STANDARD",
                  "vendor_orderDeadline": null,
                  "vendor_orderMin": "500",
                  "vendor_showImages": true,
                  "vendor_sortCatalogBy": "ITEM_CODE",
                  "vendor_status": "CERTIFIED",
                  "placedByUser_companyID": "bbQsO513CADTfN6nudFj",
                  "placedByUser_id": "09MmcHEodaU030qkAz67zjjgsQy2",
                  "placedByUser_userType": "buyer",
                  "product_brandID": "5f1e0e82-70ff-445d-9f5e-95ae9475c65f"
                },
                {
                  "index": 19734,
                  "orderID": "BF7WM4PMG9if86Dlyxef",
                  "storeID": "bbQsO513CADTfN6nudFj",
                  "distributorID": "S0nm6P597r1wrlkJDzwr",
                  "orderDate": "2021-08-25 18:42:19 UTC",
                  "deliveryDate": null,
                  "itemCount": 19,
                  "numFreeItems": 0,
                  "purchaseOrderNum": 1629916939895,
                  "client": "IOS",
                  "hasMisscans": false,
                  "orderPlaced": true,
                  "isVendorInitiatedOrder": false,
                  "totalPrice": 543.73,
                  "subtotal": 543.73,
                  "discount": 0,
                  "productID": "yAPHjoXRZ6els4VNT0gT",
                  "price": 22.2,
                  "quantity": 1,
                  "isCase": true,
                  "product_caseCRV": null,
                  "product_caseUPC": null,
                  "product_caseSize": 6,
                  "product_description": "Lf Mango Kefir",
                  "product_itemCode": "1491",
                  "product_lastUpdated": "2021-09-03 21:32:57.077786 UTC",
                  "product_packUPC": null,
                  "product_unitCRV": null,
                  "product_unitUPC": "17077171328",
                  "product_unitVolume": "32oz",
                  "product_vendorID": "S0nm6P597r1wrlkJDzwr",
                  "product_wholesaleCasePrice": 2220,
                  "product_wholesaleUnitPrice": 370,
                  "store_bannerID": null,
                  "store_storeType": "SINGLE_B",
                  "vendor_allowMisScans": null,
                  "vendor_id": "S0nm6P597r1wrlkJDzwr",
                  "vendor_lockUOMSelection": "none",
                  "vendor_misscanPolicy": "STANDARD",
                  "vendor_orderDeadline": null,
                  "vendor_orderMin": "500",
                  "vendor_showImages": true,
                  "vendor_sortCatalogBy": "ITEM_CODE",
                  "vendor_status": "CERTIFIED",
                  "placedByUser_companyID": "bbQsO513CADTfN6nudFj",
                  "placedByUser_id": "09MmcHEodaU030qkAz67zjjgsQy2",
                  "placedByUser_userType": "buyer",
                  "product_brandID": "8481f6bd-133b-4b03-9ad9-b46c0d35fbd5"
                },
                {
                  "index": 19735,
                  "orderID": "BF7WM4PMG9if86Dlyxef",
                  "storeID": "bbQsO513CADTfN6nudFj",
                  "distributorID": "S0nm6P597r1wrlkJDzwr",
                  "orderDate": "2021-08-25 18:42:19 UTC",
                  "deliveryDate": null,
                  "itemCount": 19,
                  "numFreeItems": 0,
                  "purchaseOrderNum": 1629916939895,
                  "client": "IOS",
                  "hasMisscans": false,
                  "orderPlaced": true,
                  "isVendorInitiatedOrder": false,
                  "totalPrice": 543.73,
                  "subtotal": 543.73,
                  "discount": 0,
                  "productID": "MV8qaDx3p6kGxs1thWWp",
                  "price": 51.7,
                  "quantity": 1,
                  "isCase": true,
                  "product_caseCRV": null,
                  "product_caseUPC": null,
                  "product_caseSize": 10,
                  "product_description": "Organic Cage Free Large Brown 18pk Eggs",
                  "product_itemCode": "1029",
                  "product_lastUpdated": "2021-09-03 21:25:32.999712 UTC",
                  "product_packUPC": null,
                  "product_unitCRV": null,
                  "product_unitUPC": "21428952290",
                  "product_unitVolume": "18pks",
                  "product_vendorID": "S0nm6P597r1wrlkJDzwr",
                  "product_wholesaleCasePrice": 5170,
                  "product_wholesaleUnitPrice": 517,
                  "store_bannerID": null,
                  "store_storeType": "SINGLE_B",
                  "vendor_allowMisScans": null,
                  "vendor_id": "S0nm6P597r1wrlkJDzwr",
                  "vendor_lockUOMSelection": "none",
                  "vendor_misscanPolicy": "STANDARD",
                  "vendor_orderDeadline": null,
                  "vendor_orderMin": "500",
                  "vendor_showImages": true,
                  "vendor_sortCatalogBy": "ITEM_CODE",
                  "vendor_status": "CERTIFIED",
                  "placedByUser_companyID": "bbQsO513CADTfN6nudFj",
                  "placedByUser_id": "09MmcHEodaU030qkAz67zjjgsQy2",
                  "placedByUser_userType": "buyer",
                  "product_brandID": "2a807618-7e2f-4211-b053-7dad04dadc21"
                },
                {
                  "index": 19736,
                  "orderID": "BF7WM4PMG9if86Dlyxef",
                  "storeID": "bbQsO513CADTfN6nudFj",
                  "distributorID": "S0nm6P597r1wrlkJDzwr",
                  "orderDate": "2021-08-25 18:42:19 UTC",
                  "deliveryDate": null,
                  "itemCount": 19,
                  "numFreeItems": 0,
                  "purchaseOrderNum": 1629916939895,
                  "client": "IOS",
                  "hasMisscans": false,
                  "orderPlaced": true,
                  "isVendorInitiatedOrder": false,
                  "totalPrice": 543.73,
                  "subtotal": 543.73,
                  "discount": 0,
                  "productID": "fqU4myj6rXIbKJ0WUboT",
                  "price": 31.08,
                  "quantity": 1,
                  "isCase": true,
                  "product_caseCRV": null,
                  "product_caseUPC": null,
                  "product_caseSize": 12,
                  "product_description": "Organic Matcha Latte",
                  "product_itemCode": "3814",
                  "product_lastUpdated": "2021-09-03 21:29:13.584932 UTC",
                  "product_packUPC": null,
                  "product_unitCRV": null,
                  "product_unitUPC": "858148003106",
                  "product_unitVolume": "12oz",
                  "product_vendorID": "S0nm6P597r1wrlkJDzwr",
                  "product_wholesaleCasePrice": 3108,
                  "product_wholesaleUnitPrice": 259,
                  "store_bannerID": null,
                  "store_storeType": "SINGLE_B",
                  "vendor_allowMisScans": null,
                  "vendor_id": "S0nm6P597r1wrlkJDzwr",
                  "vendor_lockUOMSelection": "none",
                  "vendor_misscanPolicy": "STANDARD",
                  "vendor_orderDeadline": null,
                  "vendor_orderMin": "500",
                  "vendor_showImages": true,
                  "vendor_sortCatalogBy": "ITEM_CODE",
                  "vendor_status": "CERTIFIED",
                  "placedByUser_companyID": "bbQsO513CADTfN6nudFj",
                  "placedByUser_id": "09MmcHEodaU030qkAz67zjjgsQy2",
                  "placedByUser_userType": "buyer",
                  "product_brandID": "e1d9fde4-2f5e-43fa-b596-b677de696d76"
                },
                {
                  "index": 19737,
                  "orderID": "BF7WM4PMG9if86Dlyxef",
                  "storeID": "bbQsO513CADTfN6nudFj",
                  "distributorID": "S0nm6P597r1wrlkJDzwr",
                  "orderDate": "2021-08-25 18:42:19 UTC",
                  "deliveryDate": null,
                  "itemCount": 19,
                  "numFreeItems": 0,
                  "purchaseOrderNum": 1629916939895,
                  "client": "IOS",
                  "hasMisscans": false,
                  "orderPlaced": true,
                  "isVendorInitiatedOrder": false,
                  "totalPrice": 543.73,
                  "subtotal": 543.73,
                  "discount": 0,
                  "productID": "8NS3koxVRaFgwdJzJElC",
                  "price": 27.66,
                  "quantity": 1,
                  "isCase": true,
                  "product_caseCRV": null,
                  "product_caseUPC": null,
                  "product_caseSize": 6,
                  "product_description": "Three Citrus & Mint Leaf",
                  "product_itemCode": "2623",
                  "product_lastUpdated": "2021-09-03 21:22:57.067856 UTC",
                  "product_packUPC": null,
                  "product_unitCRV": null,
                  "product_unitUPC": "860329001825",
                  "product_unitVolume": "16oz",
                  "product_vendorID": "S0nm6P597r1wrlkJDzwr",
                  "product_wholesaleCasePrice": 2766,
                  "product_wholesaleUnitPrice": 461,
                  "store_bannerID": null,
                  "store_storeType": "SINGLE_B",
                  "vendor_allowMisScans": null,
                  "vendor_id": "S0nm6P597r1wrlkJDzwr",
                  "vendor_lockUOMSelection": "none",
                  "vendor_misscanPolicy": "STANDARD",
                  "vendor_orderDeadline": null,
                  "vendor_orderMin": "500",
                  "vendor_showImages": true,
                  "vendor_sortCatalogBy": "ITEM_CODE",
                  "vendor_status": "CERTIFIED",
                  "placedByUser_companyID": "bbQsO513CADTfN6nudFj",
                  "placedByUser_id": "09MmcHEodaU030qkAz67zjjgsQy2",
                  "placedByUser_userType": "buyer",
                  "product_brandID": "1e00dc4e-22b8-4bff-848f-4d5a35ac284b"
                },
                {
                  "index": 19738,
                  "orderID": "BF7WM4PMG9if86Dlyxef",
                  "storeID": "bbQsO513CADTfN6nudFj",
                  "distributorID": "S0nm6P597r1wrlkJDzwr",
                  "orderDate": "2021-08-25 18:42:19 UTC",
                  "deliveryDate": null,
                  "itemCount": 19,
                  "numFreeItems": 0,
                  "purchaseOrderNum": 1629916939895,
                  "client": "IOS",
                  "hasMisscans": false,
                  "orderPlaced": true,
                  "isVendorInitiatedOrder": false,
                  "totalPrice": 543.73,
                  "subtotal": 543.73,
                  "discount": 0,
                  "productID": "bNO5z1kzYTqzmyIYs8cf",
                  "price": 12.96,
                  "quantity": 1,
                  "isCase": true,
                  "product_caseCRV": null,
                  "product_caseUPC": null,
                  "product_caseSize": 6,
                  "product_description": "Whole Chocolate Milk In Glass Bottles",
                  "product_itemCode": "8062",
                  "product_lastUpdated": "2021-09-03 21:28:22.0508 UTC",
                  "product_packUPC": null,
                  "product_unitCRV": null,
                  "product_unitUPC": "856599003744",
                  "product_unitVolume": "12oz",
                  "product_vendorID": "S0nm6P597r1wrlkJDzwr",
                  "product_wholesaleCasePrice": 1296,
                  "product_wholesaleUnitPrice": 216,
                  "store_bannerID": null,
                  "store_storeType": "SINGLE_B",
                  "vendor_allowMisScans": null,
                  "vendor_id": "S0nm6P597r1wrlkJDzwr",
                  "vendor_lockUOMSelection": "none",
                  "vendor_misscanPolicy": "STANDARD",
                  "vendor_orderDeadline": null,
                  "vendor_orderMin": "500",
                  "vendor_showImages": true,
                  "vendor_sortCatalogBy": "ITEM_CODE",
                  "vendor_status": "CERTIFIED",
                  "placedByUser_companyID": "bbQsO513CADTfN6nudFj",
                  "placedByUser_id": "09MmcHEodaU030qkAz67zjjgsQy2",
                  "placedByUser_userType": "buyer",
                  "product_brandID": "99477096-70f4-4bfe-b85b-09285be38411"
                },
                {
                  "index": 19739,
                  "orderID": "BF7WM4PMG9if86Dlyxef",
                  "storeID": "bbQsO513CADTfN6nudFj",
                  "distributorID": "S0nm6P597r1wrlkJDzwr",
                  "orderDate": "2021-08-25 18:42:19 UTC",
                  "deliveryDate": null,
                  "itemCount": 19,
                  "numFreeItems": 0,
                  "purchaseOrderNum": 1629916939895,
                  "client": "IOS",
                  "hasMisscans": false,
                  "orderPlaced": true,
                  "isVendorInitiatedOrder": false,
                  "totalPrice": 543.73,
                  "subtotal": 543.73,
                  "discount": 0,
                  "productID": "OeGm5CxigWQUSyh3dify",
                  "price": 27.3,
                  "quantity": 1,
                  "isCase": true,
                  "product_caseCRV": null,
                  "product_caseUPC": null,
                  "product_caseSize": 6,
                  "product_description": "Organic Reduced Fat 2% Milk In Glass Bottles",
                  "product_itemCode": "7997",
                  "product_lastUpdated": "2021-09-03 21:25:56.757181 UTC",
                  "product_packUPC": null,
                  "product_unitCRV": null,
                  "product_unitUPC": "784830000910",
                  "product_unitVolume": "Hgal",
                  "product_vendorID": "S0nm6P597r1wrlkJDzwr",
                  "product_wholesaleCasePrice": 2730,
                  "product_wholesaleUnitPrice": 455,
                  "store_bannerID": null,
                  "store_storeType": "SINGLE_B",
                  "vendor_allowMisScans": null,
                  "vendor_id": "S0nm6P597r1wrlkJDzwr",
                  "vendor_lockUOMSelection": "none",
                  "vendor_misscanPolicy": "STANDARD",
                  "vendor_orderDeadline": null,
                  "vendor_orderMin": "500",
                  "vendor_showImages": true,
                  "vendor_sortCatalogBy": "ITEM_CODE",
                  "vendor_status": "CERTIFIED",
                  "placedByUser_companyID": "bbQsO513CADTfN6nudFj",
                  "placedByUser_id": "09MmcHEodaU030qkAz67zjjgsQy2",
                  "placedByUser_userType": "buyer",
                  "product_brandID": "701be4be-1204-407c-9fca-254e6117f202"
                },
                {
                  "index": 19740,
                  "orderID": "BF7WM4PMG9if86Dlyxef",
                  "storeID": "bbQsO513CADTfN6nudFj",
                  "distributorID": "S0nm6P597r1wrlkJDzwr",
                  "orderDate": "2021-08-25 18:42:19 UTC",
                  "deliveryDate": null,
                  "itemCount": 19,
                  "numFreeItems": 0,
                  "purchaseOrderNum": 1629916939895,
                  "client": "IOS",
                  "hasMisscans": false,
                  "orderPlaced": true,
                  "isVendorInitiatedOrder": false,
                  "totalPrice": 543.73,
                  "subtotal": 543.73,
                  "discount": 0,
                  "productID": "ckKEJOMZ1XkgSMzQvhSv",
                  "price": 27.66,
                  "quantity": 1,
                  "isCase": true,
                  "product_caseCRV": null,
                  "product_caseUPC": null,
                  "product_caseSize": 6,
                  "product_description": "Catus Pear",
                  "product_itemCode": "2621",
                  "product_lastUpdated": "2021-09-03 21:28:36.745004 UTC",
                  "product_packUPC": null,
                  "product_unitCRV": null,
                  "product_unitUPC": "860329001801",
                  "product_unitVolume": "16oz",
                  "product_vendorID": "S0nm6P597r1wrlkJDzwr",
                  "product_wholesaleCasePrice": 2766,
                  "product_wholesaleUnitPrice": 461,
                  "store_bannerID": null,
                  "store_storeType": "SINGLE_B",
                  "vendor_allowMisScans": null,
                  "vendor_id": "S0nm6P597r1wrlkJDzwr",
                  "vendor_lockUOMSelection": "none",
                  "vendor_misscanPolicy": "STANDARD",
                  "vendor_orderDeadline": null,
                  "vendor_orderMin": "500",
                  "vendor_showImages": true,
                  "vendor_sortCatalogBy": "ITEM_CODE",
                  "vendor_status": "CERTIFIED",
                  "placedByUser_companyID": "bbQsO513CADTfN6nudFj",
                  "placedByUser_id": "09MmcHEodaU030qkAz67zjjgsQy2",
                  "placedByUser_userType": "buyer",
                  "product_brandID": "1e00dc4e-22b8-4bff-848f-4d5a35ac284b"
                },
                {
                  "index": 19741,
                  "orderID": "BF7WM4PMG9if86Dlyxef",
                  "storeID": "bbQsO513CADTfN6nudFj",
                  "distributorID": "S0nm6P597r1wrlkJDzwr",
                  "orderDate": "2021-08-25 18:42:19 UTC",
                  "deliveryDate": null,
                  "itemCount": 19,
                  "numFreeItems": 0,
                  "purchaseOrderNum": 1629916939895,
                  "client": "IOS",
                  "hasMisscans": false,
                  "orderPlaced": true,
                  "isVendorInitiatedOrder": false,
                  "totalPrice": 543.73,
                  "subtotal": 543.73,
                  "discount": 0,
                  "productID": "BWW9ul0LAccoqQFbAEWH",
                  "price": 12.96,
                  "quantity": 1,
                  "isCase": true,
                  "product_caseCRV": null,
                  "product_caseUPC": null,
                  "product_caseSize": 6,
                  "product_description": "Whole Banana Milk In Glass Bottles",
                  "product_itemCode": "8064",
                  "product_lastUpdated": "2021-09-03 21:23:30.787923 UTC",
                  "product_packUPC": null,
                  "product_unitCRV": null,
                  "product_unitUPC": "856599003775",
                  "product_unitVolume": "12oz",
                  "product_vendorID": "S0nm6P597r1wrlkJDzwr",
                  "product_wholesaleCasePrice": 1296,
                  "product_wholesaleUnitPrice": 216,
                  "store_bannerID": null,
                  "store_storeType": "SINGLE_B",
                  "vendor_allowMisScans": null,
                  "vendor_id": "S0nm6P597r1wrlkJDzwr",
                  "vendor_lockUOMSelection": "none",
                  "vendor_misscanPolicy": "STANDARD",
                  "vendor_orderDeadline": null,
                  "vendor_orderMin": "500",
                  "vendor_showImages": true,
                  "vendor_sortCatalogBy": "ITEM_CODE",
                  "vendor_status": "CERTIFIED",
                  "placedByUser_companyID": "bbQsO513CADTfN6nudFj",
                  "placedByUser_id": "09MmcHEodaU030qkAz67zjjgsQy2",
                  "placedByUser_userType": "buyer",
                  "product_brandID": "99477096-70f4-4bfe-b85b-09285be38411"
                },
                {
                  "index": 19742,
                  "orderID": "BF7WM4PMG9if86Dlyxef",
                  "storeID": "bbQsO513CADTfN6nudFj",
                  "distributorID": "S0nm6P597r1wrlkJDzwr",
                  "orderDate": "2021-08-25 18:42:19 UTC",
                  "deliveryDate": null,
                  "itemCount": 19,
                  "numFreeItems": 0,
                  "purchaseOrderNum": 1629916939895,
                  "client": "IOS",
                  "hasMisscans": false,
                  "orderPlaced": true,
                  "isVendorInitiatedOrder": false,
                  "totalPrice": 543.73,
                  "subtotal": 543.73,
                  "discount": 0,
                  "productID": "TALslJqkrTJAjREwJMv4",
                  "price": 15.6,
                  "quantity": 1,
                  "isCase": true,
                  "product_caseCRV": null,
                  "product_caseUPC": null,
                  "product_caseSize": 12,
                  "product_description": "Wm Lemon & Cream Greek Yogurt",
                  "product_itemCode": "1196",
                  "product_lastUpdated": "2021-09-03 21:26:46.376574 UTC",
                  "product_packUPC": null,
                  "product_unitCRV": null,
                  "product_unitUPC": "894700010090",
                  "product_unitVolume": "5.3oz",
                  "product_vendorID": "S0nm6P597r1wrlkJDzwr",
                  "product_wholesaleCasePrice": 1560,
                  "product_wholesaleUnitPrice": 130,
                  "store_bannerID": null,
                  "store_storeType": "SINGLE_B",
                  "vendor_allowMisScans": null,
                  "vendor_id": "S0nm6P597r1wrlkJDzwr",
                  "vendor_lockUOMSelection": "none",
                  "vendor_misscanPolicy": "STANDARD",
                  "vendor_orderDeadline": null,
                  "vendor_orderMin": "500",
                  "vendor_showImages": true,
                  "vendor_sortCatalogBy": "ITEM_CODE",
                  "vendor_status": "CERTIFIED",
                  "placedByUser_companyID": "bbQsO513CADTfN6nudFj",
                  "placedByUser_id": "09MmcHEodaU030qkAz67zjjgsQy2",
                  "placedByUser_userType": "buyer",
                  "product_brandID": "4c485d0a-a497-4f4e-8f32-635a42d3e3b6"
                },
                {
                  "index": 19743,
                  "orderID": "BF7WM4PMG9if86Dlyxef",
                  "storeID": "bbQsO513CADTfN6nudFj",
                  "distributorID": "S0nm6P597r1wrlkJDzwr",
                  "orderDate": "2021-08-25 18:42:19 UTC",
                  "deliveryDate": null,
                  "itemCount": 19,
                  "numFreeItems": 0,
                  "purchaseOrderNum": 1629916939895,
                  "client": "IOS",
                  "hasMisscans": false,
                  "orderPlaced": true,
                  "isVendorInitiatedOrder": false,
                  "totalPrice": 543.73,
                  "subtotal": 543.73,
                  "discount": 0,
                  "productID": "Jda1OB4UwE0KtJrJ0Oik",
                  "price": 29.28,
                  "quantity": 1,
                  "isCase": true,
                  "product_caseCRV": null,
                  "product_caseUPC": null,
                  "product_caseSize": 12,
                  "product_description": "Organic Firm Water Pack Tofu",
                  "product_itemCode": "7135",
                  "product_lastUpdated": "2021-09-03 21:25:04.030169 UTC",
                  "product_packUPC": null,
                  "product_unitCRV": null,
                  "product_unitUPC": "30871302163",
                  "product_unitVolume": "14oz",
                  "product_vendorID": "S0nm6P597r1wrlkJDzwr",
                  "product_wholesaleCasePrice": 2928,
                  "product_wholesaleUnitPrice": 244,
                  "store_bannerID": null,
                  "store_storeType": "SINGLE_B",
                  "vendor_allowMisScans": null,
                  "vendor_id": "S0nm6P597r1wrlkJDzwr",
                  "vendor_lockUOMSelection": "none",
                  "vendor_misscanPolicy": "STANDARD",
                  "vendor_orderDeadline": null,
                  "vendor_orderMin": "500",
                  "vendor_showImages": true,
                  "vendor_sortCatalogBy": "ITEM_CODE",
                  "vendor_status": "CERTIFIED",
                  "placedByUser_companyID": "bbQsO513CADTfN6nudFj",
                  "placedByUser_id": "09MmcHEodaU030qkAz67zjjgsQy2",
                  "placedByUser_userType": "buyer",
                  "product_brandID": "e267252f-ef86-4eef-a033-1f301c5be7ef"
                },
                {
                  "index": 19744,
                  "orderID": "BF7WM4PMG9if86Dlyxef",
                  "storeID": "bbQsO513CADTfN6nudFj",
                  "distributorID": "S0nm6P597r1wrlkJDzwr",
                  "orderDate": "2021-08-25 18:42:19 UTC",
                  "deliveryDate": null,
                  "itemCount": 19,
                  "numFreeItems": 0,
                  "purchaseOrderNum": 1629916939895,
                  "client": "IOS",
                  "hasMisscans": false,
                  "orderPlaced": true,
                  "isVendorInitiatedOrder": false,
                  "totalPrice": 543.73,
                  "subtotal": 543.73,
                  "discount": 0,
                  "productID": "Qx71CrvrguSH0STi2mNO",
                  "price": 22.2,
                  "quantity": 1,
                  "isCase": true,
                  "product_caseCRV": null,
                  "product_caseUPC": null,
                  "product_caseSize": 6,
                  "product_description": "Lf Raspberry Kefir",
                  "product_itemCode": "1493",
                  "product_lastUpdated": "2021-09-03 21:26:22.134913 UTC",
                  "product_packUPC": null,
                  "product_unitCRV": null,
                  "product_unitUPC": "17077104326",
                  "product_unitVolume": "32oz",
                  "product_vendorID": "S0nm6P597r1wrlkJDzwr",
                  "product_wholesaleCasePrice": 2220,
                  "product_wholesaleUnitPrice": 370,
                  "store_bannerID": null,
                  "store_storeType": "SINGLE_B",
                  "vendor_allowMisScans": null,
                  "vendor_id": "S0nm6P597r1wrlkJDzwr",
                  "vendor_lockUOMSelection": "none",
                  "vendor_misscanPolicy": "STANDARD",
                  "vendor_orderDeadline": null,
                  "vendor_orderMin": "500",
                  "vendor_showImages": true,
                  "vendor_sortCatalogBy": "ITEM_CODE",
                  "vendor_status": "CERTIFIED",
                  "placedByUser_companyID": "bbQsO513CADTfN6nudFj",
                  "placedByUser_id": "09MmcHEodaU030qkAz67zjjgsQy2",
                  "placedByUser_userType": "buyer",
                  "product_brandID": "8481f6bd-133b-4b03-9ad9-b46c0d35fbd5"
                },
                {
                  "index": 19745,
                  "orderID": "BF7WM4PMG9if86Dlyxef",
                  "storeID": "bbQsO513CADTfN6nudFj",
                  "distributorID": "S0nm6P597r1wrlkJDzwr",
                  "orderDate": "2021-08-25 18:42:19 UTC",
                  "deliveryDate": null,
                  "itemCount": 19,
                  "numFreeItems": 0,
                  "purchaseOrderNum": 1629916939895,
                  "client": "IOS",
                  "hasMisscans": false,
                  "orderPlaced": true,
                  "isVendorInitiatedOrder": false,
                  "totalPrice": 543.73,
                  "subtotal": 543.73,
                  "discount": 0,
                  "productID": "cX9cknidRWhtTn5TIptP",
                  "price": 27.3,
                  "quantity": 1,
                  "isCase": true,
                  "product_caseCRV": null,
                  "product_caseUPC": null,
                  "product_caseSize": 6,
                  "product_description": "Organic Whole Milk In Glass Bottles",
                  "product_itemCode": "7995",
                  "product_lastUpdated": "2021-09-03 21:28:33.890894 UTC",
                  "product_packUPC": null,
                  "product_unitCRV": null,
                  "product_unitUPC": "784830000118",
                  "product_unitVolume": "Hgal",
                  "product_vendorID": "S0nm6P597r1wrlkJDzwr",
                  "product_wholesaleCasePrice": 2730,
                  "product_wholesaleUnitPrice": 455,
                  "store_bannerID": null,
                  "store_storeType": "SINGLE_B",
                  "vendor_allowMisScans": null,
                  "vendor_id": "S0nm6P597r1wrlkJDzwr",
                  "vendor_lockUOMSelection": "none",
                  "vendor_misscanPolicy": "STANDARD",
                  "vendor_orderDeadline": null,
                  "vendor_orderMin": "500",
                  "vendor_showImages": true,
                  "vendor_sortCatalogBy": "ITEM_CODE",
                  "vendor_status": "CERTIFIED",
                  "placedByUser_companyID": "bbQsO513CADTfN6nudFj",
                  "placedByUser_id": "09MmcHEodaU030qkAz67zjjgsQy2",
                  "placedByUser_userType": "buyer",
                  "product_brandID": "701be4be-1204-407c-9fca-254e6117f202"
                },
                {
                  "index": 19746,
                  "orderID": "BF7WM4PMG9if86Dlyxef",
                  "storeID": "bbQsO513CADTfN6nudFj",
                  "distributorID": "S0nm6P597r1wrlkJDzwr",
                  "orderDate": "2021-08-25 18:42:19 UTC",
                  "deliveryDate": null,
                  "itemCount": 19,
                  "numFreeItems": 0,
                  "purchaseOrderNum": 1629916939895,
                  "client": "IOS",
                  "hasMisscans": false,
                  "orderPlaced": true,
                  "isVendorInitiatedOrder": false,
                  "totalPrice": 543.73,
                  "subtotal": 543.73,
                  "discount": 0,
                  "productID": "bhfAlQWsO8tMxsGXrNG9",
                  "price": 27.66,
                  "quantity": 1,
                  "isCase": true,
                  "product_caseCRV": null,
                  "product_caseUPC": null,
                  "product_caseSize": 6,
                  "product_description": "Pineapple & Ginger Root",
                  "product_itemCode": "2624",
                  "product_lastUpdated": "2021-09-03 21:28:25.07017 UTC",
                  "product_packUPC": null,
                  "product_unitCRV": null,
                  "product_unitUPC": "860329001849",
                  "product_unitVolume": "16oz",
                  "product_vendorID": "S0nm6P597r1wrlkJDzwr",
                  "product_wholesaleCasePrice": 2766,
                  "product_wholesaleUnitPrice": 461,
                  "store_bannerID": null,
                  "store_storeType": "SINGLE_B",
                  "vendor_allowMisScans": null,
                  "vendor_id": "S0nm6P597r1wrlkJDzwr",
                  "vendor_lockUOMSelection": "none",
                  "vendor_misscanPolicy": "STANDARD",
                  "vendor_orderDeadline": null,
                  "vendor_orderMin": "500",
                  "vendor_showImages": true,
                  "vendor_sortCatalogBy": "ITEM_CODE",
                  "vendor_status": "CERTIFIED",
                  "placedByUser_companyID": "bbQsO513CADTfN6nudFj",
                  "placedByUser_id": "09MmcHEodaU030qkAz67zjjgsQy2",
                  "placedByUser_userType": "buyer",
                  "product_brandID": "1e00dc4e-22b8-4bff-848f-4d5a35ac284b"
                },
                {
                  "index": 19747,
                  "orderID": "BF7WM4PMG9if86Dlyxef",
                  "storeID": "bbQsO513CADTfN6nudFj",
                  "distributorID": "S0nm6P597r1wrlkJDzwr",
                  "orderDate": "2021-08-25 18:42:19 UTC",
                  "deliveryDate": null,
                  "itemCount": 19,
                  "numFreeItems": 0,
                  "purchaseOrderNum": 1629916939895,
                  "client": "IOS",
                  "hasMisscans": false,
                  "orderPlaced": true,
                  "isVendorInitiatedOrder": false,
                  "totalPrice": 543.73,
                  "subtotal": 543.73,
                  "discount": 0,
                  "productID": "Vtiwsfg2yGAx8Gus1m19",
                  "price": 12.96,
                  "quantity": 1,
                  "isCase": true,
                  "product_caseCRV": null,
                  "product_caseUPC": null,
                  "product_caseSize": 6,
                  "product_description": "Whole Strawberry Milk In Glass Bottles",
                  "product_itemCode": "8063",
                  "product_lastUpdated": "2021-09-03 21:27:21.495653 UTC",
                  "product_packUPC": null,
                  "product_unitCRV": null,
                  "product_unitUPC": "856599003768",
                  "product_unitVolume": "12oz",
                  "product_vendorID": "S0nm6P597r1wrlkJDzwr",
                  "product_wholesaleCasePrice": 1296,
                  "product_wholesaleUnitPrice": 216,
                  "store_bannerID": null,
                  "store_storeType": "SINGLE_B",
                  "vendor_allowMisScans": null,
                  "vendor_id": "S0nm6P597r1wrlkJDzwr",
                  "vendor_lockUOMSelection": "none",
                  "vendor_misscanPolicy": "STANDARD",
                  "vendor_orderDeadline": null,
                  "vendor_orderMin": "500",
                  "vendor_showImages": true,
                  "vendor_sortCatalogBy": "ITEM_CODE",
                  "vendor_status": "CERTIFIED",
                  "placedByUser_companyID": "bbQsO513CADTfN6nudFj",
                  "placedByUser_id": "09MmcHEodaU030qkAz67zjjgsQy2",
                  "placedByUser_userType": "buyer",
                  "product_brandID": "99477096-70f4-4bfe-b85b-09285be38411"
                },
                {
                  "index": 19748,
                  "orderID": "BF7WM4PMG9if86Dlyxef",
                  "storeID": "bbQsO513CADTfN6nudFj",
                  "distributorID": "S0nm6P597r1wrlkJDzwr",
                  "orderDate": "2021-08-25 18:42:19 UTC",
                  "deliveryDate": null,
                  "itemCount": 19,
                  "numFreeItems": 0,
                  "purchaseOrderNum": 1629916939895,
                  "client": "IOS",
                  "hasMisscans": false,
                  "orderPlaced": true,
                  "isVendorInitiatedOrder": false,
                  "totalPrice": 543.73,
                  "subtotal": 543.73,
                  "discount": 0,
                  "productID": "TWEEIbGE3otejkDxa781",
                  "price": 40.14,
                  "quantity": 1,
                  "isCase": true,
                  "product_caseCRV": null,
                  "product_caseUPC": null,
                  "product_caseSize": 18,
                  "product_description": "Organic Oemga-2 Cage Free Extra Large Brown 6pk Eggs",
                  "product_itemCode": "2016",
                  "product_lastUpdated": "2021-09-03 21:26:50.411532 UTC",
                  "product_packUPC": null,
                  "product_unitCRV": null,
                  "product_unitUPC": "21428951279",
                  "product_unitVolume": "6pks",
                  "product_vendorID": "S0nm6P597r1wrlkJDzwr",
                  "product_wholesaleCasePrice": 4014,
                  "product_wholesaleUnitPrice": 223,
                  "store_bannerID": null,
                  "store_storeType": "SINGLE_B",
                  "vendor_allowMisScans": null,
                  "vendor_id": "S0nm6P597r1wrlkJDzwr",
                  "vendor_lockUOMSelection": "none",
                  "vendor_misscanPolicy": "STANDARD",
                  "vendor_orderDeadline": null,
                  "vendor_orderMin": "500",
                  "vendor_showImages": true,
                  "vendor_sortCatalogBy": "ITEM_CODE",
                  "vendor_status": "CERTIFIED",
                  "placedByUser_companyID": "bbQsO513CADTfN6nudFj",
                  "placedByUser_id": "09MmcHEodaU030qkAz67zjjgsQy2",
                  "placedByUser_userType": "buyer",
                  "product_brandID": "2a807618-7e2f-4211-b053-7dad04dadc21"
                }
              ]
            }
          },
          "metadata": {
            "bento_obj_id": "140323331192432"
          },
          "execution_count": 106
        }
      ]
    },
    {
      "cell_type": "code",
      "metadata": {
        "originalKey": "5d0d9b24-383d-48a1-bad7-dc4af8496974",
        "showInput": true,
        "customInput": null,
        "code_folding": [],
        "hidden_ranges": [],
        "collapsed": false,
        "requestMsgId": "1528575f-77be-483f-a1b1-1d8ff1520fc1",
        "executionStartTime": 1642024251742,
        "executionStopTime": 1642024252131
      },
      "source": [
        "df.head(5)\n",
        ""
      ],
      "execution_count": 18,
      "outputs": [
        {
          "output_type": "execute_result",
          "data": {
            "text/plain": "                orderID  ...                       product_brandID\n0  UB7pxZQL2VYzQrK7ECyB  ...  73555b42-be1d-4542-9768-1f43ef89b6a5\n1  UB7pxZQL2VYzQrK7ECyB  ...  73555b42-be1d-4542-9768-1f43ef89b6a5\n2  UB7pxZQL2VYzQrK7ECyB  ...  73555b42-be1d-4542-9768-1f43ef89b6a5\n3  UB7pxZQL2VYzQrK7ECyB  ...  73555b42-be1d-4542-9768-1f43ef89b6a5\n4  UB7pxZQL2VYzQrK7ECyB  ...  73555b42-be1d-4542-9768-1f43ef89b6a5\n\n[5 rows x 47 columns]",
            "text/html": "<div>\n<style scoped>\n    .dataframe tbody tr th:only-of-type {\n        vertical-align: middle;\n    }\n\n    .dataframe tbody tr th {\n        vertical-align: top;\n    }\n\n    .dataframe thead th {\n        text-align: right;\n    }\n</style>\n<table border=\"1\" class=\"dataframe\">\n  <thead>\n    <tr style=\"text-align: right;\">\n      <th></th>\n      <th>orderID</th>\n      <th>storeID</th>\n      <th>distributorID</th>\n      <th>orderDate</th>\n      <th>deliveryDate</th>\n      <th>itemCount</th>\n      <th>numFreeItems</th>\n      <th>purchaseOrderNum</th>\n      <th>client</th>\n      <th>hasMisscans</th>\n      <th>orderPlaced</th>\n      <th>isVendorInitiatedOrder</th>\n      <th>totalPrice</th>\n      <th>subtotal</th>\n      <th>discount</th>\n      <th>productID</th>\n      <th>price</th>\n      <th>quantity</th>\n      <th>isCase</th>\n      <th>product_caseCRV</th>\n      <th>product_caseUPC</th>\n      <th>product_caseSize</th>\n      <th>product_description</th>\n      <th>product_itemCode</th>\n      <th>product_lastUpdated</th>\n      <th>product_packUPC</th>\n      <th>product_unitCRV</th>\n      <th>product_unitUPC</th>\n      <th>product_unitVolume</th>\n      <th>product_vendorID</th>\n      <th>product_wholesaleCasePrice</th>\n      <th>product_wholesaleUnitPrice</th>\n      <th>store_bannerID</th>\n      <th>store_storeType</th>\n      <th>vendor_allowMisScans</th>\n      <th>vendor_id</th>\n      <th>vendor_lockUOMSelection</th>\n      <th>vendor_misscanPolicy</th>\n      <th>vendor_orderDeadline</th>\n      <th>vendor_orderMin</th>\n      <th>vendor_showImages</th>\n      <th>vendor_sortCatalogBy</th>\n      <th>vendor_status</th>\n      <th>placedByUser_companyID</th>\n      <th>placedByUser_id</th>\n      <th>placedByUser_userType</th>\n      <th>product_brandID</th>\n    </tr>\n  </thead>\n  <tbody>\n    <tr>\n      <th>0</th>\n      <td>UB7pxZQL2VYzQrK7ECyB</td>\n      <td>nx7En24AnTtRjPF9cPIN</td>\n      <td>2FVIzBF12V4nhKHMGTK4</td>\n      <td>2021-08-30 23:41:02 UTC</td>\n      <td>NaN</td>\n      <td>245</td>\n      <td>0</td>\n      <td>1630366862628</td>\n      <td>IOS</td>\n      <td>False</td>\n      <td>True</td>\n      <td>False</td>\n      <td>1685.67</td>\n      <td>1685.67</td>\n      <td>0.0</td>\n      <td>Eee71UNFv5mRhAIOXyux</td>\n      <td>4.04</td>\n      <td>5</td>\n      <td>False</td>\n      <td>NaN</td>\n      <td>7.337391e+11</td>\n      <td>1.0</td>\n      <td>Rose Hip Seed Oil  1 Oz</td>\n      <td>7595</td>\n      <td>2021-09-03 21:24:05.576292 UTC</td>\n      <td>NaN</td>\n      <td>NaN</td>\n      <td>733739075956</td>\n      <td>1 OZ</td>\n      <td>2FVIzBF12V4nhKHMGTK4</td>\n      <td>539.0</td>\n      <td>539.0</td>\n      <td>Fqt9g7Ts511HTP4DUrJN</td>\n      <td>MULTI_A</td>\n      <td>NaN</td>\n      <td>2FVIzBF12V4nhKHMGTK4</td>\n      <td>eachesOnly</td>\n      <td>STANDARD</td>\n      <td>NaN</td>\n      <td>195</td>\n      <td>False</td>\n      <td>ITEM_CODE</td>\n      <td>PROVIDED_CATALOG</td>\n      <td>nx7En24AnTtRjPF9cPIN</td>\n      <td>42ZOvn2F1FRUF7hJq0PEMpzlLrQ2</td>\n      <td>buyer</td>\n      <td>73555b42-be1d-4542-9768-1f43ef89b6a5</td>\n    </tr>\n    <tr>\n      <th>1</th>\n      <td>UB7pxZQL2VYzQrK7ECyB</td>\n      <td>nx7En24AnTtRjPF9cPIN</td>\n      <td>2FVIzBF12V4nhKHMGTK4</td>\n      <td>2021-08-30 23:41:02 UTC</td>\n      <td>NaN</td>\n      <td>245</td>\n      <td>0</td>\n      <td>1630366862628</td>\n      <td>IOS</td>\n      <td>False</td>\n      <td>True</td>\n      <td>False</td>\n      <td>1685.67</td>\n      <td>1685.67</td>\n      <td>0.0</td>\n      <td>Q9AEmq8OabzRUD1J97K8</td>\n      <td>5.62</td>\n      <td>7</td>\n      <td>False</td>\n      <td>NaN</td>\n      <td>7.337390e+11</td>\n      <td>1.0</td>\n      <td>8 Billion Acidoph/bifidus 60 Vcaps</td>\n      <td>2930</td>\n      <td>2021-09-03 21:26:13.466451 UTC</td>\n      <td>NaN</td>\n      <td>NaN</td>\n      <td>733739029300</td>\n      <td>60 VCAPS</td>\n      <td>2FVIzBF12V4nhKHMGTK4</td>\n      <td>749.0</td>\n      <td>749.0</td>\n      <td>Fqt9g7Ts511HTP4DUrJN</td>\n      <td>MULTI_A</td>\n      <td>NaN</td>\n      <td>2FVIzBF12V4nhKHMGTK4</td>\n      <td>eachesOnly</td>\n      <td>STANDARD</td>\n      <td>NaN</td>\n      <td>195</td>\n      <td>False</td>\n      <td>ITEM_CODE</td>\n      <td>PROVIDED_CATALOG</td>\n      <td>nx7En24AnTtRjPF9cPIN</td>\n      <td>42ZOvn2F1FRUF7hJq0PEMpzlLrQ2</td>\n      <td>buyer</td>\n      <td>73555b42-be1d-4542-9768-1f43ef89b6a5</td>\n    </tr>\n    <tr>\n      <th>2</th>\n      <td>UB7pxZQL2VYzQrK7ECyB</td>\n      <td>nx7En24AnTtRjPF9cPIN</td>\n      <td>2FVIzBF12V4nhKHMGTK4</td>\n      <td>2021-08-30 23:41:02 UTC</td>\n      <td>NaN</td>\n      <td>245</td>\n      <td>0</td>\n      <td>1630366862628</td>\n      <td>IOS</td>\n      <td>False</td>\n      <td>True</td>\n      <td>False</td>\n      <td>1685.67</td>\n      <td>1685.67</td>\n      <td>0.0</td>\n      <td>ZIM2ZmNVLHPiLIM5cUkh</td>\n      <td>6.74</td>\n      <td>5</td>\n      <td>False</td>\n      <td>NaN</td>\n      <td>7.337391e+11</td>\n      <td>1.0</td>\n      <td>Eucalyptus Oil  4 Oz</td>\n      <td>7546</td>\n      <td>2021-09-03 21:27:59.178626 UTC</td>\n      <td>NaN</td>\n      <td>NaN</td>\n      <td>733739075468</td>\n      <td>4 OZ</td>\n      <td>2FVIzBF12V4nhKHMGTK4</td>\n      <td>899.0</td>\n      <td>899.0</td>\n      <td>Fqt9g7Ts511HTP4DUrJN</td>\n      <td>MULTI_A</td>\n      <td>NaN</td>\n      <td>2FVIzBF12V4nhKHMGTK4</td>\n      <td>eachesOnly</td>\n      <td>STANDARD</td>\n      <td>NaN</td>\n      <td>195</td>\n      <td>False</td>\n      <td>ITEM_CODE</td>\n      <td>PROVIDED_CATALOG</td>\n      <td>nx7En24AnTtRjPF9cPIN</td>\n      <td>42ZOvn2F1FRUF7hJq0PEMpzlLrQ2</td>\n      <td>buyer</td>\n      <td>73555b42-be1d-4542-9768-1f43ef89b6a5</td>\n    </tr>\n    <tr>\n      <th>3</th>\n      <td>UB7pxZQL2VYzQrK7ECyB</td>\n      <td>nx7En24AnTtRjPF9cPIN</td>\n      <td>2FVIzBF12V4nhKHMGTK4</td>\n      <td>2021-08-30 23:41:02 UTC</td>\n      <td>NaN</td>\n      <td>245</td>\n      <td>0</td>\n      <td>1630366862628</td>\n      <td>IOS</td>\n      <td>False</td>\n      <td>True</td>\n      <td>False</td>\n      <td>1685.67</td>\n      <td>1685.67</td>\n      <td>0.0</td>\n      <td>tr57ati5Z3uzqdm6jLAj</td>\n      <td>4.49</td>\n      <td>5</td>\n      <td>False</td>\n      <td>NaN</td>\n      <td>7.337390e+11</td>\n      <td>1.0</td>\n      <td>Niacin Flush Free 250mg  90 Vcaps</td>\n      <td>483</td>\n      <td>2021-09-03 21:32:10.434828 UTC</td>\n      <td>NaN</td>\n      <td>NaN</td>\n      <td>733739004833</td>\n      <td>90 VCAPS</td>\n      <td>2FVIzBF12V4nhKHMGTK4</td>\n      <td>599.0</td>\n      <td>599.0</td>\n      <td>Fqt9g7Ts511HTP4DUrJN</td>\n      <td>MULTI_A</td>\n      <td>NaN</td>\n      <td>2FVIzBF12V4nhKHMGTK4</td>\n      <td>eachesOnly</td>\n      <td>STANDARD</td>\n      <td>NaN</td>\n      <td>195</td>\n      <td>False</td>\n      <td>ITEM_CODE</td>\n      <td>PROVIDED_CATALOG</td>\n      <td>nx7En24AnTtRjPF9cPIN</td>\n      <td>42ZOvn2F1FRUF7hJq0PEMpzlLrQ2</td>\n      <td>buyer</td>\n      <td>73555b42-be1d-4542-9768-1f43ef89b6a5</td>\n    </tr>\n    <tr>\n      <th>4</th>\n      <td>UB7pxZQL2VYzQrK7ECyB</td>\n      <td>nx7En24AnTtRjPF9cPIN</td>\n      <td>2FVIzBF12V4nhKHMGTK4</td>\n      <td>2021-08-30 23:41:02 UTC</td>\n      <td>NaN</td>\n      <td>245</td>\n      <td>0</td>\n      <td>1630366862628</td>\n      <td>IOS</td>\n      <td>False</td>\n      <td>True</td>\n      <td>False</td>\n      <td>1685.67</td>\n      <td>1685.67</td>\n      <td>0.0</td>\n      <td>E6hlZzKdd2TEriBPKQWt</td>\n      <td>2.99</td>\n      <td>2</td>\n      <td>False</td>\n      <td>NaN</td>\n      <td>7.337390e+11</td>\n      <td>1.0</td>\n      <td>Potassium Gluconate 99mg  100 Tabs</td>\n      <td>1460</td>\n      <td>2021-09-03 21:23:58.047536 UTC</td>\n      <td>NaN</td>\n      <td>NaN</td>\n      <td>733739014603</td>\n      <td>100 TABS</td>\n      <td>2FVIzBF12V4nhKHMGTK4</td>\n      <td>399.0</td>\n      <td>399.0</td>\n      <td>Fqt9g7Ts511HTP4DUrJN</td>\n      <td>MULTI_A</td>\n      <td>NaN</td>\n      <td>2FVIzBF12V4nhKHMGTK4</td>\n      <td>eachesOnly</td>\n      <td>STANDARD</td>\n      <td>NaN</td>\n      <td>195</td>\n      <td>False</td>\n      <td>ITEM_CODE</td>\n      <td>PROVIDED_CATALOG</td>\n      <td>nx7En24AnTtRjPF9cPIN</td>\n      <td>42ZOvn2F1FRUF7hJq0PEMpzlLrQ2</td>\n      <td>buyer</td>\n      <td>73555b42-be1d-4542-9768-1f43ef89b6a5</td>\n    </tr>\n  </tbody>\n</table>\n</div>",
            "application/vnd.dataresource+json": {
              "schema": {
                "fields": [
                  {
                    "name": "index",
                    "type": "integer"
                  },
                  {
                    "name": "orderID",
                    "type": "string"
                  },
                  {
                    "name": "storeID",
                    "type": "string"
                  },
                  {
                    "name": "distributorID",
                    "type": "string"
                  },
                  {
                    "name": "orderDate",
                    "type": "string"
                  },
                  {
                    "name": "deliveryDate",
                    "type": "string"
                  },
                  {
                    "name": "itemCount",
                    "type": "integer"
                  },
                  {
                    "name": "numFreeItems",
                    "type": "integer"
                  },
                  {
                    "name": "purchaseOrderNum",
                    "type": "integer"
                  },
                  {
                    "name": "client",
                    "type": "string"
                  },
                  {
                    "name": "hasMisscans",
                    "type": "boolean"
                  },
                  {
                    "name": "orderPlaced",
                    "type": "boolean"
                  },
                  {
                    "name": "isVendorInitiatedOrder",
                    "type": "boolean"
                  },
                  {
                    "name": "totalPrice",
                    "type": "number"
                  },
                  {
                    "name": "subtotal",
                    "type": "number"
                  },
                  {
                    "name": "discount",
                    "type": "number"
                  },
                  {
                    "name": "productID",
                    "type": "string"
                  },
                  {
                    "name": "price",
                    "type": "number"
                  },
                  {
                    "name": "quantity",
                    "type": "integer"
                  },
                  {
                    "name": "isCase",
                    "type": "boolean"
                  },
                  {
                    "name": "product_caseCRV",
                    "type": "number"
                  },
                  {
                    "name": "product_caseUPC",
                    "type": "number"
                  },
                  {
                    "name": "product_caseSize",
                    "type": "number"
                  },
                  {
                    "name": "product_description",
                    "type": "string"
                  },
                  {
                    "name": "product_itemCode",
                    "type": "string"
                  },
                  {
                    "name": "product_lastUpdated",
                    "type": "string"
                  },
                  {
                    "name": "product_packUPC",
                    "type": "number"
                  },
                  {
                    "name": "product_unitCRV",
                    "type": "number"
                  },
                  {
                    "name": "product_unitUPC",
                    "type": "string"
                  },
                  {
                    "name": "product_unitVolume",
                    "type": "string"
                  },
                  {
                    "name": "product_vendorID",
                    "type": "string"
                  },
                  {
                    "name": "product_wholesaleCasePrice",
                    "type": "number"
                  },
                  {
                    "name": "product_wholesaleUnitPrice",
                    "type": "number"
                  },
                  {
                    "name": "store_bannerID",
                    "type": "string"
                  },
                  {
                    "name": "store_storeType",
                    "type": "string"
                  },
                  {
                    "name": "vendor_allowMisScans",
                    "type": "number"
                  },
                  {
                    "name": "vendor_id",
                    "type": "string"
                  },
                  {
                    "name": "vendor_lockUOMSelection",
                    "type": "string"
                  },
                  {
                    "name": "vendor_misscanPolicy",
                    "type": "string"
                  },
                  {
                    "name": "vendor_orderDeadline",
                    "type": "string"
                  },
                  {
                    "name": "vendor_orderMin",
                    "type": "string"
                  },
                  {
                    "name": "vendor_showImages",
                    "type": "string"
                  },
                  {
                    "name": "vendor_sortCatalogBy",
                    "type": "string"
                  },
                  {
                    "name": "vendor_status",
                    "type": "string"
                  },
                  {
                    "name": "placedByUser_companyID",
                    "type": "string"
                  },
                  {
                    "name": "placedByUser_id",
                    "type": "string"
                  },
                  {
                    "name": "placedByUser_userType",
                    "type": "string"
                  },
                  {
                    "name": "product_brandID",
                    "type": "string"
                  }
                ],
                "primaryKey": [
                  "index"
                ],
                "pandas_version": "0.20.0"
              },
              "data": [
                {
                  "index": 0,
                  "orderID": "UB7pxZQL2VYzQrK7ECyB",
                  "storeID": "nx7En24AnTtRjPF9cPIN",
                  "distributorID": "2FVIzBF12V4nhKHMGTK4",
                  "orderDate": "2021-08-30 23:41:02 UTC",
                  "deliveryDate": null,
                  "itemCount": 245,
                  "numFreeItems": 0,
                  "purchaseOrderNum": 1630366862628,
                  "client": "IOS",
                  "hasMisscans": false,
                  "orderPlaced": true,
                  "isVendorInitiatedOrder": false,
                  "totalPrice": 1685.67,
                  "subtotal": 1685.67,
                  "discount": 0,
                  "productID": "Eee71UNFv5mRhAIOXyux",
                  "price": 4.04,
                  "quantity": 5,
                  "isCase": false,
                  "product_caseCRV": null,
                  "product_caseUPC": 733739075956,
                  "product_caseSize": 1,
                  "product_description": "Rose Hip Seed Oil  1 Oz",
                  "product_itemCode": "7595",
                  "product_lastUpdated": "2021-09-03 21:24:05.576292 UTC",
                  "product_packUPC": null,
                  "product_unitCRV": null,
                  "product_unitUPC": "733739075956",
                  "product_unitVolume": "1 OZ",
                  "product_vendorID": "2FVIzBF12V4nhKHMGTK4",
                  "product_wholesaleCasePrice": 539,
                  "product_wholesaleUnitPrice": 539,
                  "store_bannerID": "Fqt9g7Ts511HTP4DUrJN",
                  "store_storeType": "MULTI_A",
                  "vendor_allowMisScans": null,
                  "vendor_id": "2FVIzBF12V4nhKHMGTK4",
                  "vendor_lockUOMSelection": "eachesOnly",
                  "vendor_misscanPolicy": "STANDARD",
                  "vendor_orderDeadline": null,
                  "vendor_orderMin": "195",
                  "vendor_showImages": false,
                  "vendor_sortCatalogBy": "ITEM_CODE",
                  "vendor_status": "PROVIDED_CATALOG",
                  "placedByUser_companyID": "nx7En24AnTtRjPF9cPIN",
                  "placedByUser_id": "42ZOvn2F1FRUF7hJq0PEMpzlLrQ2",
                  "placedByUser_userType": "buyer",
                  "product_brandID": "73555b42-be1d-4542-9768-1f43ef89b6a5"
                },
                {
                  "index": 1,
                  "orderID": "UB7pxZQL2VYzQrK7ECyB",
                  "storeID": "nx7En24AnTtRjPF9cPIN",
                  "distributorID": "2FVIzBF12V4nhKHMGTK4",
                  "orderDate": "2021-08-30 23:41:02 UTC",
                  "deliveryDate": null,
                  "itemCount": 245,
                  "numFreeItems": 0,
                  "purchaseOrderNum": 1630366862628,
                  "client": "IOS",
                  "hasMisscans": false,
                  "orderPlaced": true,
                  "isVendorInitiatedOrder": false,
                  "totalPrice": 1685.67,
                  "subtotal": 1685.67,
                  "discount": 0,
                  "productID": "Q9AEmq8OabzRUD1J97K8",
                  "price": 5.62,
                  "quantity": 7,
                  "isCase": false,
                  "product_caseCRV": null,
                  "product_caseUPC": 733739029300,
                  "product_caseSize": 1,
                  "product_description": "8 Billion Acidoph/bifidus 60 Vcaps",
                  "product_itemCode": "2930",
                  "product_lastUpdated": "2021-09-03 21:26:13.466451 UTC",
                  "product_packUPC": null,
                  "product_unitCRV": null,
                  "product_unitUPC": "733739029300",
                  "product_unitVolume": "60 VCAPS",
                  "product_vendorID": "2FVIzBF12V4nhKHMGTK4",
                  "product_wholesaleCasePrice": 749,
                  "product_wholesaleUnitPrice": 749,
                  "store_bannerID": "Fqt9g7Ts511HTP4DUrJN",
                  "store_storeType": "MULTI_A",
                  "vendor_allowMisScans": null,
                  "vendor_id": "2FVIzBF12V4nhKHMGTK4",
                  "vendor_lockUOMSelection": "eachesOnly",
                  "vendor_misscanPolicy": "STANDARD",
                  "vendor_orderDeadline": null,
                  "vendor_orderMin": "195",
                  "vendor_showImages": false,
                  "vendor_sortCatalogBy": "ITEM_CODE",
                  "vendor_status": "PROVIDED_CATALOG",
                  "placedByUser_companyID": "nx7En24AnTtRjPF9cPIN",
                  "placedByUser_id": "42ZOvn2F1FRUF7hJq0PEMpzlLrQ2",
                  "placedByUser_userType": "buyer",
                  "product_brandID": "73555b42-be1d-4542-9768-1f43ef89b6a5"
                },
                {
                  "index": 2,
                  "orderID": "UB7pxZQL2VYzQrK7ECyB",
                  "storeID": "nx7En24AnTtRjPF9cPIN",
                  "distributorID": "2FVIzBF12V4nhKHMGTK4",
                  "orderDate": "2021-08-30 23:41:02 UTC",
                  "deliveryDate": null,
                  "itemCount": 245,
                  "numFreeItems": 0,
                  "purchaseOrderNum": 1630366862628,
                  "client": "IOS",
                  "hasMisscans": false,
                  "orderPlaced": true,
                  "isVendorInitiatedOrder": false,
                  "totalPrice": 1685.67,
                  "subtotal": 1685.67,
                  "discount": 0,
                  "productID": "ZIM2ZmNVLHPiLIM5cUkh",
                  "price": 6.74,
                  "quantity": 5,
                  "isCase": false,
                  "product_caseCRV": null,
                  "product_caseUPC": 733739075468,
                  "product_caseSize": 1,
                  "product_description": "Eucalyptus Oil  4 Oz",
                  "product_itemCode": "7546",
                  "product_lastUpdated": "2021-09-03 21:27:59.178626 UTC",
                  "product_packUPC": null,
                  "product_unitCRV": null,
                  "product_unitUPC": "733739075468",
                  "product_unitVolume": "4 OZ",
                  "product_vendorID": "2FVIzBF12V4nhKHMGTK4",
                  "product_wholesaleCasePrice": 899,
                  "product_wholesaleUnitPrice": 899,
                  "store_bannerID": "Fqt9g7Ts511HTP4DUrJN",
                  "store_storeType": "MULTI_A",
                  "vendor_allowMisScans": null,
                  "vendor_id": "2FVIzBF12V4nhKHMGTK4",
                  "vendor_lockUOMSelection": "eachesOnly",
                  "vendor_misscanPolicy": "STANDARD",
                  "vendor_orderDeadline": null,
                  "vendor_orderMin": "195",
                  "vendor_showImages": false,
                  "vendor_sortCatalogBy": "ITEM_CODE",
                  "vendor_status": "PROVIDED_CATALOG",
                  "placedByUser_companyID": "nx7En24AnTtRjPF9cPIN",
                  "placedByUser_id": "42ZOvn2F1FRUF7hJq0PEMpzlLrQ2",
                  "placedByUser_userType": "buyer",
                  "product_brandID": "73555b42-be1d-4542-9768-1f43ef89b6a5"
                },
                {
                  "index": 3,
                  "orderID": "UB7pxZQL2VYzQrK7ECyB",
                  "storeID": "nx7En24AnTtRjPF9cPIN",
                  "distributorID": "2FVIzBF12V4nhKHMGTK4",
                  "orderDate": "2021-08-30 23:41:02 UTC",
                  "deliveryDate": null,
                  "itemCount": 245,
                  "numFreeItems": 0,
                  "purchaseOrderNum": 1630366862628,
                  "client": "IOS",
                  "hasMisscans": false,
                  "orderPlaced": true,
                  "isVendorInitiatedOrder": false,
                  "totalPrice": 1685.67,
                  "subtotal": 1685.67,
                  "discount": 0,
                  "productID": "tr57ati5Z3uzqdm6jLAj",
                  "price": 4.49,
                  "quantity": 5,
                  "isCase": false,
                  "product_caseCRV": null,
                  "product_caseUPC": 733739004833,
                  "product_caseSize": 1,
                  "product_description": "Niacin Flush Free 250mg  90 Vcaps",
                  "product_itemCode": "483",
                  "product_lastUpdated": "2021-09-03 21:32:10.434828 UTC",
                  "product_packUPC": null,
                  "product_unitCRV": null,
                  "product_unitUPC": "733739004833",
                  "product_unitVolume": "90 VCAPS",
                  "product_vendorID": "2FVIzBF12V4nhKHMGTK4",
                  "product_wholesaleCasePrice": 599,
                  "product_wholesaleUnitPrice": 599,
                  "store_bannerID": "Fqt9g7Ts511HTP4DUrJN",
                  "store_storeType": "MULTI_A",
                  "vendor_allowMisScans": null,
                  "vendor_id": "2FVIzBF12V4nhKHMGTK4",
                  "vendor_lockUOMSelection": "eachesOnly",
                  "vendor_misscanPolicy": "STANDARD",
                  "vendor_orderDeadline": null,
                  "vendor_orderMin": "195",
                  "vendor_showImages": false,
                  "vendor_sortCatalogBy": "ITEM_CODE",
                  "vendor_status": "PROVIDED_CATALOG",
                  "placedByUser_companyID": "nx7En24AnTtRjPF9cPIN",
                  "placedByUser_id": "42ZOvn2F1FRUF7hJq0PEMpzlLrQ2",
                  "placedByUser_userType": "buyer",
                  "product_brandID": "73555b42-be1d-4542-9768-1f43ef89b6a5"
                },
                {
                  "index": 4,
                  "orderID": "UB7pxZQL2VYzQrK7ECyB",
                  "storeID": "nx7En24AnTtRjPF9cPIN",
                  "distributorID": "2FVIzBF12V4nhKHMGTK4",
                  "orderDate": "2021-08-30 23:41:02 UTC",
                  "deliveryDate": null,
                  "itemCount": 245,
                  "numFreeItems": 0,
                  "purchaseOrderNum": 1630366862628,
                  "client": "IOS",
                  "hasMisscans": false,
                  "orderPlaced": true,
                  "isVendorInitiatedOrder": false,
                  "totalPrice": 1685.67,
                  "subtotal": 1685.67,
                  "discount": 0,
                  "productID": "E6hlZzKdd2TEriBPKQWt",
                  "price": 2.99,
                  "quantity": 2,
                  "isCase": false,
                  "product_caseCRV": null,
                  "product_caseUPC": 733739014603,
                  "product_caseSize": 1,
                  "product_description": "Potassium Gluconate 99mg  100 Tabs",
                  "product_itemCode": "1460",
                  "product_lastUpdated": "2021-09-03 21:23:58.047536 UTC",
                  "product_packUPC": null,
                  "product_unitCRV": null,
                  "product_unitUPC": "733739014603",
                  "product_unitVolume": "100 TABS",
                  "product_vendorID": "2FVIzBF12V4nhKHMGTK4",
                  "product_wholesaleCasePrice": 399,
                  "product_wholesaleUnitPrice": 399,
                  "store_bannerID": "Fqt9g7Ts511HTP4DUrJN",
                  "store_storeType": "MULTI_A",
                  "vendor_allowMisScans": null,
                  "vendor_id": "2FVIzBF12V4nhKHMGTK4",
                  "vendor_lockUOMSelection": "eachesOnly",
                  "vendor_misscanPolicy": "STANDARD",
                  "vendor_orderDeadline": null,
                  "vendor_orderMin": "195",
                  "vendor_showImages": false,
                  "vendor_sortCatalogBy": "ITEM_CODE",
                  "vendor_status": "PROVIDED_CATALOG",
                  "placedByUser_companyID": "nx7En24AnTtRjPF9cPIN",
                  "placedByUser_id": "42ZOvn2F1FRUF7hJq0PEMpzlLrQ2",
                  "placedByUser_userType": "buyer",
                  "product_brandID": "73555b42-be1d-4542-9768-1f43ef89b6a5"
                }
              ]
            }
          },
          "metadata": {
            "bento_obj_id": "140323591442192"
          },
          "execution_count": 18
        }
      ]
    },
    {
      "cell_type": "code",
      "metadata": {
        "originalKey": "c93d5dc8-1d21-4731-94cb-ed1ea3d11270",
        "showInput": true,
        "customInput": null,
        "code_folding": [],
        "hidden_ranges": [],
        "collapsed": false,
        "requestMsgId": "2d94f519-c05e-4727-96b7-58af6f88793e",
        "executionStartTime": 1642025618858,
        "executionStopTime": 1642025618975
      },
      "source": [
        "df.dtypes"
      ],
      "execution_count": 38,
      "outputs": [
        {
          "output_type": "execute_result",
          "data": {
            "text/plain": "orderID                        object\nstoreID                        object\ndistributorID                  object\norderDate                      object\ndeliveryDate                   object\nitemCount                       int64\nnumFreeItems                    int64\npurchaseOrderNum                int64\nclient                         object\nhasMisscans                      bool\norderPlaced                      bool\nisVendorInitiatedOrder           bool\ntotalPrice                    float64\nsubtotal                      float64\ndiscount                      float64\nproductID                      object\nprice                         float64\nquantity                        int64\nisCase                           bool\nproduct_caseCRV               float64\nproduct_caseUPC               float64\nproduct_caseSize              float64\nproduct_description            object\nproduct_itemCode               object\nproduct_lastUpdated            object\nproduct_packUPC               float64\nproduct_unitCRV               float64\nproduct_unitUPC                object\nproduct_unitVolume             object\nproduct_vendorID               object\nproduct_wholesaleCasePrice    float64\nproduct_wholesaleUnitPrice    float64\nstore_bannerID                 object\nstore_storeType                object\nvendor_allowMisScans          float64\nvendor_id                      object\nvendor_lockUOMSelection        object\nvendor_misscanPolicy           object\nvendor_orderDeadline           object\nvendor_orderMin                object\nvendor_showImages              object\nvendor_sortCatalogBy           object\nvendor_status                  object\nplacedByUser_companyID         object\nplacedByUser_id                object\nplacedByUser_userType          object\nproduct_brandID                object\ndtype: object",
            "application/vnd.dataresource+json": {
              "schema": {
                "fields": [
                  {
                    "name": "index",
                    "type": "string"
                  },
                  {
                    "name": "values",
                    "type": "string"
                  }
                ],
                "primaryKey": [
                  "index"
                ],
                "pandas_version": "0.20.0"
              },
              "data": [
                {
                  "index": "orderID",
                  "values": {
                    "alignment": 8,
                    "byteorder": "|",
                    "descr": [
                      [
                        "",
                        "|O"
                      ]
                    ],
                    "flags": 63,
                    "isalignedstruct": false,
                    "isnative": true,
                    "kind": "O",
                    "name": "object",
                    "ndim": 0,
                    "num": 17,
                    "str": "|O"
                  }
                },
                {
                  "index": "storeID",
                  "values": {
                    "alignment": 8,
                    "byteorder": "|",
                    "descr": [
                      [
                        "",
                        "|O"
                      ]
                    ],
                    "flags": 63,
                    "isalignedstruct": false,
                    "isnative": true,
                    "kind": "O",
                    "name": "object",
                    "ndim": 0,
                    "num": 17,
                    "str": "|O"
                  }
                },
                {
                  "index": "distributorID",
                  "values": {
                    "alignment": 8,
                    "byteorder": "|",
                    "descr": [
                      [
                        "",
                        "|O"
                      ]
                    ],
                    "flags": 63,
                    "isalignedstruct": false,
                    "isnative": true,
                    "kind": "O",
                    "name": "object",
                    "ndim": 0,
                    "num": 17,
                    "str": "|O"
                  }
                },
                {
                  "index": "orderDate",
                  "values": {
                    "alignment": 8,
                    "byteorder": "|",
                    "descr": [
                      [
                        "",
                        "|O"
                      ]
                    ],
                    "flags": 63,
                    "isalignedstruct": false,
                    "isnative": true,
                    "kind": "O",
                    "name": "object",
                    "ndim": 0,
                    "num": 17,
                    "str": "|O"
                  }
                },
                {
                  "index": "deliveryDate",
                  "values": {
                    "alignment": 8,
                    "byteorder": "|",
                    "descr": [
                      [
                        "",
                        "|O"
                      ]
                    ],
                    "flags": 63,
                    "isalignedstruct": false,
                    "isnative": true,
                    "kind": "O",
                    "name": "object",
                    "ndim": 0,
                    "num": 17,
                    "str": "|O"
                  }
                },
                {
                  "index": "itemCount",
                  "values": {
                    "alignment": 8,
                    "byteorder": "=",
                    "descr": [
                      [
                        "",
                        "<i8"
                      ]
                    ],
                    "flags": 0,
                    "isalignedstruct": false,
                    "isnative": true,
                    "kind": "i",
                    "name": "int64",
                    "ndim": 0,
                    "num": 7,
                    "str": "<i8"
                  }
                },
                {
                  "index": "numFreeItems",
                  "values": {
                    "alignment": 8,
                    "byteorder": "=",
                    "descr": [
                      [
                        "",
                        "<i8"
                      ]
                    ],
                    "flags": 0,
                    "isalignedstruct": false,
                    "isnative": true,
                    "kind": "i",
                    "name": "int64",
                    "ndim": 0,
                    "num": 7,
                    "str": "<i8"
                  }
                },
                {
                  "index": "purchaseOrderNum",
                  "values": {
                    "alignment": 8,
                    "byteorder": "=",
                    "descr": [
                      [
                        "",
                        "<i8"
                      ]
                    ],
                    "flags": 0,
                    "isalignedstruct": false,
                    "isnative": true,
                    "kind": "i",
                    "name": "int64",
                    "ndim": 0,
                    "num": 7,
                    "str": "<i8"
                  }
                },
                {
                  "index": "client",
                  "values": {
                    "alignment": 8,
                    "byteorder": "|",
                    "descr": [
                      [
                        "",
                        "|O"
                      ]
                    ],
                    "flags": 63,
                    "isalignedstruct": false,
                    "isnative": true,
                    "kind": "O",
                    "name": "object",
                    "ndim": 0,
                    "num": 17,
                    "str": "|O"
                  }
                },
                {
                  "index": "hasMisscans",
                  "values": {
                    "alignment": 1,
                    "byteorder": "|",
                    "descr": [
                      [
                        "",
                        "|b1"
                      ]
                    ],
                    "flags": 0,
                    "isalignedstruct": false,
                    "isnative": true,
                    "kind": "b",
                    "name": "bool",
                    "ndim": 0,
                    "num": 0,
                    "str": "|b1"
                  }
                },
                {
                  "index": "orderPlaced",
                  "values": {
                    "alignment": 1,
                    "byteorder": "|",
                    "descr": [
                      [
                        "",
                        "|b1"
                      ]
                    ],
                    "flags": 0,
                    "isalignedstruct": false,
                    "isnative": true,
                    "kind": "b",
                    "name": "bool",
                    "ndim": 0,
                    "num": 0,
                    "str": "|b1"
                  }
                },
                {
                  "index": "isVendorInitiatedOrder",
                  "values": {
                    "alignment": 1,
                    "byteorder": "|",
                    "descr": [
                      [
                        "",
                        "|b1"
                      ]
                    ],
                    "flags": 0,
                    "isalignedstruct": false,
                    "isnative": true,
                    "kind": "b",
                    "name": "bool",
                    "ndim": 0,
                    "num": 0,
                    "str": "|b1"
                  }
                },
                {
                  "index": "totalPrice",
                  "values": {
                    "alignment": 8,
                    "byteorder": "=",
                    "descr": [
                      [
                        "",
                        "<f8"
                      ]
                    ],
                    "flags": 0,
                    "isalignedstruct": false,
                    "isnative": true,
                    "kind": "f",
                    "name": "float64",
                    "ndim": 0,
                    "num": 12,
                    "str": "<f8"
                  }
                },
                {
                  "index": "subtotal",
                  "values": {
                    "alignment": 8,
                    "byteorder": "=",
                    "descr": [
                      [
                        "",
                        "<f8"
                      ]
                    ],
                    "flags": 0,
                    "isalignedstruct": false,
                    "isnative": true,
                    "kind": "f",
                    "name": "float64",
                    "ndim": 0,
                    "num": 12,
                    "str": "<f8"
                  }
                },
                {
                  "index": "discount",
                  "values": {
                    "alignment": 8,
                    "byteorder": "=",
                    "descr": [
                      [
                        "",
                        "<f8"
                      ]
                    ],
                    "flags": 0,
                    "isalignedstruct": false,
                    "isnative": true,
                    "kind": "f",
                    "name": "float64",
                    "ndim": 0,
                    "num": 12,
                    "str": "<f8"
                  }
                },
                {
                  "index": "productID",
                  "values": {
                    "alignment": 8,
                    "byteorder": "|",
                    "descr": [
                      [
                        "",
                        "|O"
                      ]
                    ],
                    "flags": 63,
                    "isalignedstruct": false,
                    "isnative": true,
                    "kind": "O",
                    "name": "object",
                    "ndim": 0,
                    "num": 17,
                    "str": "|O"
                  }
                },
                {
                  "index": "price",
                  "values": {
                    "alignment": 8,
                    "byteorder": "=",
                    "descr": [
                      [
                        "",
                        "<f8"
                      ]
                    ],
                    "flags": 0,
                    "isalignedstruct": false,
                    "isnative": true,
                    "kind": "f",
                    "name": "float64",
                    "ndim": 0,
                    "num": 12,
                    "str": "<f8"
                  }
                },
                {
                  "index": "quantity",
                  "values": {
                    "alignment": 8,
                    "byteorder": "=",
                    "descr": [
                      [
                        "",
                        "<i8"
                      ]
                    ],
                    "flags": 0,
                    "isalignedstruct": false,
                    "isnative": true,
                    "kind": "i",
                    "name": "int64",
                    "ndim": 0,
                    "num": 7,
                    "str": "<i8"
                  }
                },
                {
                  "index": "isCase",
                  "values": {
                    "alignment": 1,
                    "byteorder": "|",
                    "descr": [
                      [
                        "",
                        "|b1"
                      ]
                    ],
                    "flags": 0,
                    "isalignedstruct": false,
                    "isnative": true,
                    "kind": "b",
                    "name": "bool",
                    "ndim": 0,
                    "num": 0,
                    "str": "|b1"
                  }
                },
                {
                  "index": "product_caseCRV",
                  "values": {
                    "alignment": 8,
                    "byteorder": "=",
                    "descr": [
                      [
                        "",
                        "<f8"
                      ]
                    ],
                    "flags": 0,
                    "isalignedstruct": false,
                    "isnative": true,
                    "kind": "f",
                    "name": "float64",
                    "ndim": 0,
                    "num": 12,
                    "str": "<f8"
                  }
                },
                {
                  "index": "product_caseUPC",
                  "values": {
                    "alignment": 8,
                    "byteorder": "=",
                    "descr": [
                      [
                        "",
                        "<f8"
                      ]
                    ],
                    "flags": 0,
                    "isalignedstruct": false,
                    "isnative": true,
                    "kind": "f",
                    "name": "float64",
                    "ndim": 0,
                    "num": 12,
                    "str": "<f8"
                  }
                },
                {
                  "index": "product_caseSize",
                  "values": {
                    "alignment": 8,
                    "byteorder": "=",
                    "descr": [
                      [
                        "",
                        "<f8"
                      ]
                    ],
                    "flags": 0,
                    "isalignedstruct": false,
                    "isnative": true,
                    "kind": "f",
                    "name": "float64",
                    "ndim": 0,
                    "num": 12,
                    "str": "<f8"
                  }
                },
                {
                  "index": "product_description",
                  "values": {
                    "alignment": 8,
                    "byteorder": "|",
                    "descr": [
                      [
                        "",
                        "|O"
                      ]
                    ],
                    "flags": 63,
                    "isalignedstruct": false,
                    "isnative": true,
                    "kind": "O",
                    "name": "object",
                    "ndim": 0,
                    "num": 17,
                    "str": "|O"
                  }
                },
                {
                  "index": "product_itemCode",
                  "values": {
                    "alignment": 8,
                    "byteorder": "|",
                    "descr": [
                      [
                        "",
                        "|O"
                      ]
                    ],
                    "flags": 63,
                    "isalignedstruct": false,
                    "isnative": true,
                    "kind": "O",
                    "name": "object",
                    "ndim": 0,
                    "num": 17,
                    "str": "|O"
                  }
                },
                {
                  "index": "product_lastUpdated",
                  "values": {
                    "alignment": 8,
                    "byteorder": "|",
                    "descr": [
                      [
                        "",
                        "|O"
                      ]
                    ],
                    "flags": 63,
                    "isalignedstruct": false,
                    "isnative": true,
                    "kind": "O",
                    "name": "object",
                    "ndim": 0,
                    "num": 17,
                    "str": "|O"
                  }
                },
                {
                  "index": "product_packUPC",
                  "values": {
                    "alignment": 8,
                    "byteorder": "=",
                    "descr": [
                      [
                        "",
                        "<f8"
                      ]
                    ],
                    "flags": 0,
                    "isalignedstruct": false,
                    "isnative": true,
                    "kind": "f",
                    "name": "float64",
                    "ndim": 0,
                    "num": 12,
                    "str": "<f8"
                  }
                },
                {
                  "index": "product_unitCRV",
                  "values": {
                    "alignment": 8,
                    "byteorder": "=",
                    "descr": [
                      [
                        "",
                        "<f8"
                      ]
                    ],
                    "flags": 0,
                    "isalignedstruct": false,
                    "isnative": true,
                    "kind": "f",
                    "name": "float64",
                    "ndim": 0,
                    "num": 12,
                    "str": "<f8"
                  }
                },
                {
                  "index": "product_unitUPC",
                  "values": {
                    "alignment": 8,
                    "byteorder": "|",
                    "descr": [
                      [
                        "",
                        "|O"
                      ]
                    ],
                    "flags": 63,
                    "isalignedstruct": false,
                    "isnative": true,
                    "kind": "O",
                    "name": "object",
                    "ndim": 0,
                    "num": 17,
                    "str": "|O"
                  }
                },
                {
                  "index": "product_unitVolume",
                  "values": {
                    "alignment": 8,
                    "byteorder": "|",
                    "descr": [
                      [
                        "",
                        "|O"
                      ]
                    ],
                    "flags": 63,
                    "isalignedstruct": false,
                    "isnative": true,
                    "kind": "O",
                    "name": "object",
                    "ndim": 0,
                    "num": 17,
                    "str": "|O"
                  }
                },
                {
                  "index": "product_vendorID",
                  "values": {
                    "alignment": 8,
                    "byteorder": "|",
                    "descr": [
                      [
                        "",
                        "|O"
                      ]
                    ],
                    "flags": 63,
                    "isalignedstruct": false,
                    "isnative": true,
                    "kind": "O",
                    "name": "object",
                    "ndim": 0,
                    "num": 17,
                    "str": "|O"
                  }
                },
                {
                  "index": "product_wholesaleCasePrice",
                  "values": {
                    "alignment": 8,
                    "byteorder": "=",
                    "descr": [
                      [
                        "",
                        "<f8"
                      ]
                    ],
                    "flags": 0,
                    "isalignedstruct": false,
                    "isnative": true,
                    "kind": "f",
                    "name": "float64",
                    "ndim": 0,
                    "num": 12,
                    "str": "<f8"
                  }
                },
                {
                  "index": "product_wholesaleUnitPrice",
                  "values": {
                    "alignment": 8,
                    "byteorder": "=",
                    "descr": [
                      [
                        "",
                        "<f8"
                      ]
                    ],
                    "flags": 0,
                    "isalignedstruct": false,
                    "isnative": true,
                    "kind": "f",
                    "name": "float64",
                    "ndim": 0,
                    "num": 12,
                    "str": "<f8"
                  }
                },
                {
                  "index": "store_bannerID",
                  "values": {
                    "alignment": 8,
                    "byteorder": "|",
                    "descr": [
                      [
                        "",
                        "|O"
                      ]
                    ],
                    "flags": 63,
                    "isalignedstruct": false,
                    "isnative": true,
                    "kind": "O",
                    "name": "object",
                    "ndim": 0,
                    "num": 17,
                    "str": "|O"
                  }
                },
                {
                  "index": "store_storeType",
                  "values": {
                    "alignment": 8,
                    "byteorder": "|",
                    "descr": [
                      [
                        "",
                        "|O"
                      ]
                    ],
                    "flags": 63,
                    "isalignedstruct": false,
                    "isnative": true,
                    "kind": "O",
                    "name": "object",
                    "ndim": 0,
                    "num": 17,
                    "str": "|O"
                  }
                },
                {
                  "index": "vendor_allowMisScans",
                  "values": {
                    "alignment": 8,
                    "byteorder": "=",
                    "descr": [
                      [
                        "",
                        "<f8"
                      ]
                    ],
                    "flags": 0,
                    "isalignedstruct": false,
                    "isnative": true,
                    "kind": "f",
                    "name": "float64",
                    "ndim": 0,
                    "num": 12,
                    "str": "<f8"
                  }
                },
                {
                  "index": "vendor_id",
                  "values": {
                    "alignment": 8,
                    "byteorder": "|",
                    "descr": [
                      [
                        "",
                        "|O"
                      ]
                    ],
                    "flags": 63,
                    "isalignedstruct": false,
                    "isnative": true,
                    "kind": "O",
                    "name": "object",
                    "ndim": 0,
                    "num": 17,
                    "str": "|O"
                  }
                },
                {
                  "index": "vendor_lockUOMSelection",
                  "values": {
                    "alignment": 8,
                    "byteorder": "|",
                    "descr": [
                      [
                        "",
                        "|O"
                      ]
                    ],
                    "flags": 63,
                    "isalignedstruct": false,
                    "isnative": true,
                    "kind": "O",
                    "name": "object",
                    "ndim": 0,
                    "num": 17,
                    "str": "|O"
                  }
                },
                {
                  "index": "vendor_misscanPolicy",
                  "values": {
                    "alignment": 8,
                    "byteorder": "|",
                    "descr": [
                      [
                        "",
                        "|O"
                      ]
                    ],
                    "flags": 63,
                    "isalignedstruct": false,
                    "isnative": true,
                    "kind": "O",
                    "name": "object",
                    "ndim": 0,
                    "num": 17,
                    "str": "|O"
                  }
                },
                {
                  "index": "vendor_orderDeadline",
                  "values": {
                    "alignment": 8,
                    "byteorder": "|",
                    "descr": [
                      [
                        "",
                        "|O"
                      ]
                    ],
                    "flags": 63,
                    "isalignedstruct": false,
                    "isnative": true,
                    "kind": "O",
                    "name": "object",
                    "ndim": 0,
                    "num": 17,
                    "str": "|O"
                  }
                },
                {
                  "index": "vendor_orderMin",
                  "values": {
                    "alignment": 8,
                    "byteorder": "|",
                    "descr": [
                      [
                        "",
                        "|O"
                      ]
                    ],
                    "flags": 63,
                    "isalignedstruct": false,
                    "isnative": true,
                    "kind": "O",
                    "name": "object",
                    "ndim": 0,
                    "num": 17,
                    "str": "|O"
                  }
                },
                {
                  "index": "vendor_showImages",
                  "values": {
                    "alignment": 8,
                    "byteorder": "|",
                    "descr": [
                      [
                        "",
                        "|O"
                      ]
                    ],
                    "flags": 63,
                    "isalignedstruct": false,
                    "isnative": true,
                    "kind": "O",
                    "name": "object",
                    "ndim": 0,
                    "num": 17,
                    "str": "|O"
                  }
                },
                {
                  "index": "vendor_sortCatalogBy",
                  "values": {
                    "alignment": 8,
                    "byteorder": "|",
                    "descr": [
                      [
                        "",
                        "|O"
                      ]
                    ],
                    "flags": 63,
                    "isalignedstruct": false,
                    "isnative": true,
                    "kind": "O",
                    "name": "object",
                    "ndim": 0,
                    "num": 17,
                    "str": "|O"
                  }
                },
                {
                  "index": "vendor_status",
                  "values": {
                    "alignment": 8,
                    "byteorder": "|",
                    "descr": [
                      [
                        "",
                        "|O"
                      ]
                    ],
                    "flags": 63,
                    "isalignedstruct": false,
                    "isnative": true,
                    "kind": "O",
                    "name": "object",
                    "ndim": 0,
                    "num": 17,
                    "str": "|O"
                  }
                },
                {
                  "index": "placedByUser_companyID",
                  "values": {
                    "alignment": 8,
                    "byteorder": "|",
                    "descr": [
                      [
                        "",
                        "|O"
                      ]
                    ],
                    "flags": 63,
                    "isalignedstruct": false,
                    "isnative": true,
                    "kind": "O",
                    "name": "object",
                    "ndim": 0,
                    "num": 17,
                    "str": "|O"
                  }
                },
                {
                  "index": "placedByUser_id",
                  "values": {
                    "alignment": 8,
                    "byteorder": "|",
                    "descr": [
                      [
                        "",
                        "|O"
                      ]
                    ],
                    "flags": 63,
                    "isalignedstruct": false,
                    "isnative": true,
                    "kind": "O",
                    "name": "object",
                    "ndim": 0,
                    "num": 17,
                    "str": "|O"
                  }
                },
                {
                  "index": "placedByUser_userType",
                  "values": {
                    "alignment": 8,
                    "byteorder": "|",
                    "descr": [
                      [
                        "",
                        "|O"
                      ]
                    ],
                    "flags": 63,
                    "isalignedstruct": false,
                    "isnative": true,
                    "kind": "O",
                    "name": "object",
                    "ndim": 0,
                    "num": 17,
                    "str": "|O"
                  }
                },
                {
                  "index": "product_brandID",
                  "values": {
                    "alignment": 8,
                    "byteorder": "|",
                    "descr": [
                      [
                        "",
                        "|O"
                      ]
                    ],
                    "flags": 63,
                    "isalignedstruct": false,
                    "isnative": true,
                    "kind": "O",
                    "name": "object",
                    "ndim": 0,
                    "num": 17,
                    "str": "|O"
                  }
                }
              ]
            }
          },
          "metadata": {
            "bento_obj_id": "140323535285312"
          },
          "execution_count": 38
        }
      ]
    },
    {
      "cell_type": "code",
      "metadata": {
        "originalKey": "cff3e439-703e-4c68-bd48-7c78c4b2135a",
        "showInput": true,
        "customInput": null,
        "code_folding": [],
        "hidden_ranges": [],
        "collapsed": false,
        "requestMsgId": "6af20b5c-800d-4572-a844-d30f5fcbefc3",
        "executionStartTime": 1642024041227,
        "executionStopTime": 1642024041337
      },
      "source": [
        "df.placedByUser_userType.value_counts()\n",
        ""
      ],
      "execution_count": 12,
      "outputs": [
        {
          "output_type": "execute_result",
          "data": {
            "text/plain": "buyer          275372\nsalesRep        34513\nvendorAdmin      7308\nName: placedByUser_userType, dtype: int64",
            "application/vnd.dataresource+json": {
              "schema": {
                "fields": [
                  {
                    "name": "index",
                    "type": "string"
                  },
                  {
                    "name": "placedByUser_userType",
                    "type": "integer"
                  }
                ],
                "primaryKey": [
                  "index"
                ],
                "pandas_version": "0.20.0"
              },
              "data": [
                {
                  "index": "buyer",
                  "placedByUser_userType": 275372
                },
                {
                  "index": "salesRep",
                  "placedByUser_userType": 34513
                },
                {
                  "index": "vendorAdmin",
                  "placedByUser_userType": 7308
                }
              ]
            }
          },
          "metadata": {
            "bento_obj_id": "140324406144688"
          },
          "execution_count": 12
        }
      ]
    },
    {
      "cell_type": "code",
      "metadata": {
        "originalKey": "fc5128ca-83e0-45bc-bf32-df8f4e0f286c",
        "showInput": true,
        "customInput": null,
        "code_folding": [],
        "hidden_ranges": [],
        "collapsed": false,
        "requestMsgId": "6c800457-de97-453f-823b-0bb53258bdbc",
        "executionStartTime": 1642026050029,
        "executionStopTime": 1642026050511
      },
      "source": [
        "user_history_summary = df.groupby(['placedByUser_id', 'orderID']).agg(\n",
        "    products_ordered = pd.NamedAgg(column='productID', aggfunc='count'),\n",
        "    brands_ordered = pd.NamedAgg(column='product_brandID', aggfunc='count'),\n",
        "    value_of_order = pd.NamedAgg(column='price', aggfunc='sum'),\n",
        "    raw_quantity = pd.NamedAgg(column='quantity', aggfunc='sum'),\n",
        ").reset_index()\n",
        ""
      ],
      "execution_count": 65,
      "outputs": []
    },
    {
      "cell_type": "code",
      "metadata": {
        "originalKey": "24ea80df-f3b8-415a-a7d5-62b24307f450",
        "showInput": true,
        "customInput": null,
        "code_folding": [],
        "hidden_ranges": [],
        "collapsed": false,
        "requestMsgId": "e13c8d3c-3a23-421d-b969-23041b54be8a",
        "executionStartTime": 1642026052731,
        "executionStopTime": 1642026052828
      },
      "source": [
        "user_history_summary['brand_product_ratio'] = user_history_summary['products_ordered'] / user_history_summary['brands_ordered']\n",
        "user_history_summary['quantity_per_product'] = user_history_summary['raw_quantity'] / user_history_summary['products_ordered']\n",
        "user_history_summary['value_of_order'] = user_history_summary['value_of_order'] / user_history_summary['products_ordered']\n",
        "\n",
        ""
      ],
      "execution_count": 66,
      "outputs": []
    },
    {
      "cell_type": "code",
      "metadata": {
        "originalKey": "9814de75-ed9c-4afa-a824-5078c64a37a1",
        "showInput": true,
        "customInput": null,
        "code_folding": [],
        "hidden_ranges": [],
        "collapsed": false,
        "requestMsgId": "30734e8a-7428-4163-89c6-9f7fcc890f5d",
        "executionStartTime": 1642026053548,
        "executionStopTime": 1642026054128
      },
      "source": [
        "%matplotlib inline\n",
        "plt.figure(figsize=(16, 12))\n",
        "plt.style.use('ggplot')\n",
        "\n",
        "ax = sns.histplot(data=user_history_summary, x=\"products_ordered\", bins=30)\n",
        "ax.set(xlabel='Number of products/ order', ylabel='Count of Order', title='Distribution of products/ order')\n",
        "#ax.set(ylim=(20, 60))\n",
        "#ax.yaxis.set_major_formatter(mtick.PercentFormatter(1.0))\n",
        "fig = ax.get_figure()\n",
        ""
      ],
      "execution_count": 67,
      "outputs": [
        {
          "output_type": "display_data",
          "data": {
            "text/plain": "<Figure size 1152x864 with 1 Axes>",
            "image/png": "[encoded data removed]"
          },
          "metadata": {
            "bento_obj_id": "140323593184208",
            "needs_background": "light"
          }
        }
      ]
    },
    {
      "cell_type": "code",
      "metadata": {
        "originalKey": "b191c9d1-d5ca-46ee-895d-6bf5c0a050b9",
        "showInput": true,
        "customInput": null,
        "code_folding": [],
        "hidden_ranges": [],
        "collapsed": false,
        "requestMsgId": "a517de1f-c455-4269-917d-7eee473f52d6",
        "executionStartTime": 1642026139507,
        "executionStopTime": 1642026140178
      },
      "source": [
        "%matplotlib inline\n",
        "plt.figure(figsize=(16, 12))\n",
        "plt.style.use('ggplot')\n",
        "\n",
        "ax = sns.histplot(data=user_history_summary.query('quantity_per_product <= 50'), x=\"quantity_per_product\", bins=50)\n",
        "ax.set(xlabel='Quantity/ Product', ylabel='Count of Order', title='Distribution of Quantity/ Product')\n",
        "#ax.set(ylim=(20, 60))\n",
        "#ax.yaxis.set_major_formatter(mtick.PercentFormatter(1.0))\n",
        "fig = ax.get_figure()\n",
        ""
      ],
      "execution_count": 76,
      "outputs": [
        {
          "output_type": "display_data",
          "data": {
            "text/plain": "<Figure size 1152x864 with 1 Axes>",
            "image/png": "[encoded data removed]"
          },
          "metadata": {
            "bento_obj_id": "140323530676832",
            "needs_background": "light"
          }
        }
      ]
    },
    {
      "cell_type": "code",
      "metadata": {
        "originalKey": "02432361-96a8-4942-9e67-a6c75a78f89b",
        "showInput": true,
        "customInput": null,
        "code_folding": [],
        "hidden_ranges": [],
        "collapsed": false,
        "requestMsgId": "82c84535-a942-4b1d-8fba-56a9ac0ff022",
        "executionStartTime": 1642026218580,
        "executionStopTime": 1642026219311
      },
      "source": [
        "%matplotlib inline\n",
        "plt.figure(figsize=(16, 12))\n",
        "plt.style.use('ggplot')\n",
        "\n",
        "ax = sns.histplot(data=user_history_summary, x=\"value_of_order\", bins=100)\n",
        "ax.set(xlabel='Number of products/ order', ylabel='Count of Order', title='Distribution of products/ order')\n",
        "#ax.set(ylim=(20, 60))\n",
        "#ax.yaxis.set_major_formatter(mtick.PercentFormatter(1.0))\n",
        "fig = ax.get_figure()\n",
        ""
      ],
      "execution_count": 83,
      "outputs": [
        {
          "output_type": "display_data",
          "data": {
            "text/plain": "<Figure size 1152x864 with 1 Axes>",
            "image/png": "[encoded data removed]"
          },
          "metadata": {
            "bento_obj_id": "140323532421344",
            "needs_background": "light"
          }
        }
      ]
    },
    {
      "cell_type": "code",
      "metadata": {
        "originalKey": "7a800b09-76f2-4843-9d00-ab7c888062e1",
        "showInput": true,
        "customInput": null,
        "code_folding": [],
        "hidden_ranges": [],
        "collapsed": false,
        "requestMsgId": "38952ffe-8280-4a9b-9886-8605a98292d9",
        "executionStartTime": 1642027411043,
        "executionStopTime": 1642027411221
      },
      "source": [
        "product_history_summary = df.groupby(['productID']).agg(\n",
        "    total_users_ordered = pd.NamedAgg(column='placedByUser_id', aggfunc='count'),\n",
        "    total_no_of_order = pd.NamedAgg(column='orderID', aggfunc='count'),\n",
        "    value_of_order = pd.NamedAgg(column='price', aggfunc='sum'),\n",
        "    total_quantity_ordered = pd.NamedAgg(column='quantity', aggfunc='sum'),\n",
        ").reset_index()\n",
        ""
      ],
      "execution_count": 109,
      "outputs": []
    },
    {
      "cell_type": "code",
      "metadata": {
        "originalKey": "1c5c69d0-fb4b-49cc-86e9-456064b72404",
        "showInput": true,
        "customInput": null,
        "code_folding": [],
        "hidden_ranges": [],
        "collapsed": false,
        "requestMsgId": "9a186f29-fc68-4081-98eb-08e4762cc2a5",
        "executionStartTime": 1642027701753,
        "executionStopTime": 1642027702556
      },
      "source": [
        "%matplotlib inline\n",
        "plt.figure(figsize=(16, 12))\n",
        "plt.style.use('ggplot')\n",
        "\n",
        "ax = sns.histplot(data=product_history_summary, x=\"total_users_ordered\", bins = 20)\n",
        "ax.set(xlabel='Number of Users who have ordered', ylabel='Count of Products', title='Distribution of products/ order')\n",
        "#ax.set(ylim=(20, 60))\n",
        "#ax.yaxis.set_major_formatter(mtick.PercentFormatter(1.0))\n",
        "fig = ax.get_figure()\n",
        ""
      ],
      "execution_count": 123,
      "outputs": [
        {
          "output_type": "display_data",
          "data": {
            "text/plain": "<Figure size 1152x864 with 1 Axes>",
            "image/png": "[encoded data removed]"
          },
          "metadata": {
            "bento_obj_id": "140323533217216",
            "needs_background": "light"
          }
        }
      ]
    },
    {
      "cell_type": "code",
      "metadata": {
        "originalKey": "f72002b8-afdf-4487-a531-6da6d9498eed",
        "showInput": true,
        "customInput": null,
        "collapsed": false,
        "requestMsgId": "6358b0eb-e54b-4ba6-b30f-ebce1c6c0932",
        "executionStartTime": 1642027444345,
        "executionStopTime": 1642027444465,
        "code_folding": [],
        "hidden_ranges": []
      },
      "source": [
        "product_history_summary.sort_values(by='total_users_ordered', ascending=False)\n",
        ""
      ],
      "execution_count": 111,
      "outputs": [
        {
          "output_type": "execute_result",
          "data": {
            "text/plain": "                  productID  ...  total_quantity_ordered\n16823  uUsQSr4Ib6Qn081J2N06  ...                   12426\n9892   Wh3wziWf62pX3gid4uSP  ...                   19486\n4282   E7eNWO5jLHcK1nmo6cye  ...                   16529\n1106   3hpYbKPlXyRvquZPI96x  ...                   14208\n16000  rggFZSc7N1KG0SCygdcW  ...                   13684\n...                     ...  ...                     ...\n10429  YSFsRmsXBkeLOTI5pQLQ  ...                       6\n8086   Qg9Lrb1kVVV9l3hQ49ZI  ...                       1\n16196  sL6sQMp1CghBharzSawh  ...                       1\n14293  lezd1fg8Vc6he5Vb2WFA  ...                       1\n4037   DKA87t2ZTLivvBhcwOuR  ...                       1\n\n[18495 rows x 5 columns]",
            "text/html": "<div>\n<style scoped>\n    .dataframe tbody tr th:only-of-type {\n        vertical-align: middle;\n    }\n\n    .dataframe tbody tr th {\n        vertical-align: top;\n    }\n\n    .dataframe thead th {\n        text-align: right;\n    }\n</style>\n<table border=\"1\" class=\"dataframe\">\n  <thead>\n    <tr style=\"text-align: right;\">\n      <th></th>\n      <th>productID</th>\n      <th>total_users_ordered</th>\n      <th>total_no_of_order</th>\n      <th>value_of_order</th>\n      <th>total_quantity_ordered</th>\n    </tr>\n  </thead>\n  <tbody>\n    <tr>\n      <th>16823</th>\n      <td>uUsQSr4Ib6Qn081J2N06</td>\n      <td>1276</td>\n      <td>1276</td>\n      <td>14931.84</td>\n      <td>12426</td>\n    </tr>\n    <tr>\n      <th>9892</th>\n      <td>Wh3wziWf62pX3gid4uSP</td>\n      <td>1250</td>\n      <td>1250</td>\n      <td>24208.74</td>\n      <td>19486</td>\n    </tr>\n    <tr>\n      <th>4282</th>\n      <td>E7eNWO5jLHcK1nmo6cye</td>\n      <td>1240</td>\n      <td>1240</td>\n      <td>23834.56</td>\n      <td>16529</td>\n    </tr>\n    <tr>\n      <th>1106</th>\n      <td>3hpYbKPlXyRvquZPI96x</td>\n      <td>1189</td>\n      <td>1189</td>\n      <td>10291.32</td>\n      <td>14208</td>\n    </tr>\n    <tr>\n      <th>16000</th>\n      <td>rggFZSc7N1KG0SCygdcW</td>\n      <td>1188</td>\n      <td>1188</td>\n      <td>9710.81</td>\n      <td>13684</td>\n    </tr>\n    <tr>\n      <th>...</th>\n      <td>...</td>\n      <td>...</td>\n      <td>...</td>\n      <td>...</td>\n      <td>...</td>\n    </tr>\n    <tr>\n      <th>10429</th>\n      <td>YSFsRmsXBkeLOTI5pQLQ</td>\n      <td>0</td>\n      <td>1</td>\n      <td>7.50</td>\n      <td>6</td>\n    </tr>\n    <tr>\n      <th>8086</th>\n      <td>Qg9Lrb1kVVV9l3hQ49ZI</td>\n      <td>0</td>\n      <td>1</td>\n      <td>18.99</td>\n      <td>1</td>\n    </tr>\n    <tr>\n      <th>16196</th>\n      <td>sL6sQMp1CghBharzSawh</td>\n      <td>0</td>\n      <td>1</td>\n      <td>49.99</td>\n      <td>1</td>\n    </tr>\n    <tr>\n      <th>14293</th>\n      <td>lezd1fg8Vc6he5Vb2WFA</td>\n      <td>0</td>\n      <td>1</td>\n      <td>23.94</td>\n      <td>1</td>\n    </tr>\n    <tr>\n      <th>4037</th>\n      <td>DKA87t2ZTLivvBhcwOuR</td>\n      <td>0</td>\n      <td>1</td>\n      <td>24.99</td>\n      <td>1</td>\n    </tr>\n  </tbody>\n</table>\n<p>18495 rows × 5 columns</p>\n</div>",
            "application/vnd.dataresource+json": {
              "schema": {
                "fields": [
                  {
                    "name": "index",
                    "type": "integer"
                  },
                  {
                    "name": "productID",
                    "type": "string"
                  },
                  {
                    "name": "total_users_ordered",
                    "type": "integer"
                  },
                  {
                    "name": "total_no_of_order",
                    "type": "integer"
                  },
                  {
                    "name": "value_of_order",
                    "type": "number"
                  },
                  {
                    "name": "total_quantity_ordered",
                    "type": "integer"
                  }
                ],
                "primaryKey": [
                  "index"
                ],
                "pandas_version": "0.20.0"
              },
              "data": [
                {
                  "index": 16823,
                  "productID": "uUsQSr4Ib6Qn081J2N06",
                  "total_users_ordered": 1276,
                  "total_no_of_order": 1276,
                  "value_of_order": 14931.8399999999,
                  "total_quantity_ordered": 12426
                },
                {
                  "index": 9892,
                  "productID": "Wh3wziWf62pX3gid4uSP",
                  "total_users_ordered": 1250,
                  "total_no_of_order": 1250,
                  "value_of_order": 24208.7400000002,
                  "total_quantity_ordered": 19486
                },
                {
                  "index": 4282,
                  "productID": "E7eNWO5jLHcK1nmo6cye",
                  "total_users_ordered": 1240,
                  "total_no_of_order": 1240,
                  "value_of_order": 23834.5600000002,
                  "total_quantity_ordered": 16529
                },
                {
                  "index": 1106,
                  "productID": "3hpYbKPlXyRvquZPI96x",
                  "total_users_ordered": 1189,
                  "total_no_of_order": 1189,
                  "value_of_order": 10291.3199999999,
                  "total_quantity_ordered": 14208
                },
                {
                  "index": 16000,
                  "productID": "rggFZSc7N1KG0SCygdcW",
                  "total_users_ordered": 1188,
                  "total_no_of_order": 1188,
                  "value_of_order": 9710.8100000001,
                  "total_quantity_ordered": 13684
                },
                {
                  "index": 6530,
                  "productID": "LcEdmvVuIZD7fRYxpaJF",
                  "total_users_ordered": 1151,
                  "total_no_of_order": 1162,
                  "value_of_order": 24244.9200000001,
                  "total_quantity_ordered": 2943
                },
                {
                  "index": 11282,
                  "productID": "bJHp83h4vemHH81VrSdt",
                  "total_users_ordered": 1144,
                  "total_no_of_order": 1144,
                  "value_of_order": 15180.6600000002,
                  "total_quantity_ordered": 16558
                },
                {
                  "index": 9070,
                  "productID": "U4ON5t4rxCejEYQP51xe",
                  "total_users_ordered": 1123,
                  "total_no_of_order": 1123,
                  "value_of_order": 13798.3999999999,
                  "total_quantity_ordered": 9040
                },
                {
                  "index": 8320,
                  "productID": "RSZFJOguam8M4eQzsmeV",
                  "total_users_ordered": 1115,
                  "total_no_of_order": 1115,
                  "value_of_order": 15344.5199999999,
                  "total_quantity_ordered": 11729
                },
                {
                  "index": 7885,
                  "productID": "Q4z6cNMjZGvGcuwUqQw9",
                  "total_users_ordered": 1110,
                  "total_no_of_order": 1110,
                  "value_of_order": 22025.5199999999,
                  "total_quantity_ordered": 13805
                },
                {
                  "index": 8594,
                  "productID": "SSoGZ56Rsf3eDSPMxy51",
                  "total_users_ordered": 1109,
                  "total_no_of_order": 1109,
                  "value_of_order": 8992.17,
                  "total_quantity_ordered": 12619
                },
                {
                  "index": 3955,
                  "productID": "D2lCAGFka9fP6M0ZFeZv",
                  "total_users_ordered": 1101,
                  "total_no_of_order": 1101,
                  "value_of_order": 8459.9,
                  "total_quantity_ordered": 12271
                },
                {
                  "index": 12343,
                  "productID": "f2YTWKbIRpkhcnh3phq9",
                  "total_users_ordered": 1100,
                  "total_no_of_order": 1100,
                  "value_of_order": 57242.9799999989,
                  "total_quantity_ordered": 2831
                },
                {
                  "index": 7055,
                  "productID": "NGrVDkSaSUTwc6gVaeUg",
                  "total_users_ordered": 1082,
                  "total_no_of_order": 1082,
                  "value_of_order": 20255.1400000002,
                  "total_quantity_ordered": 8723
                },
                {
                  "index": 2163,
                  "productID": "7IrvO4jTSj23K9CE8Un9",
                  "total_users_ordered": 1069,
                  "total_no_of_order": 1069,
                  "value_of_order": 16286.4399999998,
                  "total_quantity_ordered": 15370
                },
                {
                  "index": 7363,
                  "productID": "OGyVEAcTM7jtmbRS2Pip",
                  "total_users_ordered": 1032,
                  "total_no_of_order": 1032,
                  "value_of_order": 13572.3599999999,
                  "total_quantity_ordered": 9067
                },
                {
                  "index": 526,
                  "productID": "1jiKhQeN2XYlxizZ5pTj",
                  "total_users_ordered": 1029,
                  "total_no_of_order": 1029,
                  "value_of_order": 9479.7199999999,
                  "total_quantity_ordered": 12379
                },
                {
                  "index": 8743,
                  "productID": "Swe3tDMMK7baxE3fOemF",
                  "total_users_ordered": 1021,
                  "total_no_of_order": 1021,
                  "value_of_order": 18543.0900000002,
                  "total_quantity_ordered": 6327
                },
                {
                  "index": 15060,
                  "productID": "oLQc1ekS6S8cNiIxE1lt",
                  "total_users_ordered": 1020,
                  "total_no_of_order": 1020,
                  "value_of_order": 9309.2100000001,
                  "total_quantity_ordered": 15888
                },
                {
                  "index": 2212,
                  "productID": "7U7T7lXXSTpBLfCmKrLe",
                  "total_users_ordered": 998,
                  "total_no_of_order": 998,
                  "value_of_order": 27746.8800000003,
                  "total_quantity_ordered": 12010
                },
                {
                  "index": 8685,
                  "productID": "Sja9KI1revZqxqOVq4Be",
                  "total_users_ordered": 988,
                  "total_no_of_order": 988,
                  "value_of_order": 8281.2000000001,
                  "total_quantity_ordered": 10114
                },
                {
                  "index": 12213,
                  "productID": "eaTL9hFavkbZUzDKTkiz",
                  "total_users_ordered": 987,
                  "total_no_of_order": 987,
                  "value_of_order": 36811.17,
                  "total_quantity_ordered": 1931
                },
                {
                  "index": 15027,
                  "productID": "oDQfmF86kR06ntFyCumX",
                  "total_users_ordered": 924,
                  "total_no_of_order": 924,
                  "value_of_order": 9731.66,
                  "total_quantity_ordered": 6032
                },
                {
                  "index": 7017,
                  "productID": "N9JP6OoIZHdZsWOUeovZ",
                  "total_users_ordered": 916,
                  "total_no_of_order": 916,
                  "value_of_order": 3068.39,
                  "total_quantity_ordered": 10545
                },
                {
                  "index": 11591,
                  "productID": "cSoKVVxG0PSkaGwOhMC2",
                  "total_users_ordered": 906,
                  "total_no_of_order": 906,
                  "value_of_order": 18911.5400000001,
                  "total_quantity_ordered": 11962
                },
                {
                  "index": 1732,
                  "productID": "5wrzr0bxhetMvWUcIWCE",
                  "total_users_ordered": 869,
                  "total_no_of_order": 869,
                  "value_of_order": 9691.68,
                  "total_quantity_ordered": 8266
                },
                {
                  "index": 16570,
                  "productID": "tc7yhjMuipFKjhaR4c5d",
                  "total_users_ordered": 869,
                  "total_no_of_order": 869,
                  "value_of_order": 10656.8,
                  "total_quantity_ordered": 3757
                },
                {
                  "index": 16863,
                  "productID": "uboXPAJKQUooZH3wB7OG",
                  "total_users_ordered": 864,
                  "total_no_of_order": 864,
                  "value_of_order": 6864.5300000001,
                  "total_quantity_ordered": 3830
                },
                {
                  "index": 9945,
                  "productID": "WuahWdMc0cH3TIpkBasc",
                  "total_users_ordered": 857,
                  "total_no_of_order": 857,
                  "value_of_order": 5966.0000000001,
                  "total_quantity_ordered": 6095
                },
                {
                  "index": 13707,
                  "productID": "jhHhmwVBgHw1SPALo4W0",
                  "total_users_ordered": 850,
                  "total_no_of_order": 850,
                  "value_of_order": 35898.3899999996,
                  "total_quantity_ordered": 9150
                },
                {
                  "index": 1967,
                  "productID": "6kYefTRNqvjHcZMja0ee",
                  "total_users_ordered": 841,
                  "total_no_of_order": 841,
                  "value_of_order": 7378.32,
                  "total_quantity_ordered": 5479
                },
                {
                  "index": 5680,
                  "productID": "InY6TIhuOz61IrMBx3OH",
                  "total_users_ordered": 835,
                  "total_no_of_order": 839,
                  "value_of_order": 25711.8200000002,
                  "total_quantity_ordered": 1551
                },
                {
                  "index": 18252,
                  "productID": "zBKFvMoR7eK4xRhNMHs3",
                  "total_users_ordered": 814,
                  "total_no_of_order": 814,
                  "value_of_order": 1824.04,
                  "total_quantity_ordered": 7658
                },
                {
                  "index": 9268,
                  "productID": "UnAd0x72rcIaV1NRsR0v",
                  "total_users_ordered": 812,
                  "total_no_of_order": 817,
                  "value_of_order": 14798.6999999998,
                  "total_quantity_ordered": 1453
                },
                {
                  "index": 17494,
                  "productID": "wfHjYc3fTe0eEOi1bYbi",
                  "total_users_ordered": 805,
                  "total_no_of_order": 805,
                  "value_of_order": 4287.54,
                  "total_quantity_ordered": 5056
                },
                {
                  "index": 14666,
                  "productID": "muoFLdxGYMQn2mTBrI3q",
                  "total_users_ordered": 803,
                  "total_no_of_order": 803,
                  "value_of_order": 28447.1099999996,
                  "total_quantity_ordered": 1581
                },
                {
                  "index": 15694,
                  "productID": "qb78NyPbpFz0GJRQW9R5",
                  "total_users_ordered": 802,
                  "total_no_of_order": 802,
                  "value_of_order": 7335.0599999999,
                  "total_quantity_ordered": 12563
                },
                {
                  "index": 14736,
                  "productID": "n7a62oJFaDNIZbGGzz90",
                  "total_users_ordered": 801,
                  "total_no_of_order": 801,
                  "value_of_order": 7271.6099999999,
                  "total_quantity_ordered": 5923
                },
                {
                  "index": 7796,
                  "productID": "PlVZsiDUBw64ABGF4WGd",
                  "total_users_ordered": 787,
                  "total_no_of_order": 787,
                  "value_of_order": 7023.6800000001,
                  "total_quantity_ordered": 10873
                },
                {
                  "index": 2197,
                  "productID": "7Pp3Jskmo8CnTD5goTm5",
                  "total_users_ordered": 764,
                  "total_no_of_order": 764,
                  "value_of_order": 9706.0800000001,
                  "total_quantity_ordered": 3799
                },
                {
                  "index": 1012,
                  "productID": "3JJzevkagkHwSbdMS0hf",
                  "total_users_ordered": 764,
                  "total_no_of_order": 764,
                  "value_of_order": 16056.3799999997,
                  "total_quantity_ordered": 1201
                },
                {
                  "index": 15212,
                  "productID": "orl72vJIxQIj2hR7UzfG",
                  "total_users_ordered": 738,
                  "total_no_of_order": 738,
                  "value_of_order": 26136.3599999997,
                  "total_quantity_ordered": 1385
                },
                {
                  "index": 6017,
                  "productID": "Jrpuk3Vly33SywChPckF",
                  "total_users_ordered": 736,
                  "total_no_of_order": 736,
                  "value_of_order": 6485.76,
                  "total_quantity_ordered": 5176
                },
                {
                  "index": 830,
                  "productID": "2ktTYCTdOmTmIeF4y1Ye",
                  "total_users_ordered": 729,
                  "total_no_of_order": 729,
                  "value_of_order": 17364.0999999998,
                  "total_quantity_ordered": 1532
                },
                {
                  "index": 17367,
                  "productID": "wCreELPidMPSnn9J4lQY",
                  "total_users_ordered": 718,
                  "total_no_of_order": 718,
                  "value_of_order": 6558.27,
                  "total_quantity_ordered": 3925
                },
                {
                  "index": 15669,
                  "productID": "qWnCuonL2dACBYFteQPW",
                  "total_users_ordered": 706,
                  "total_no_of_order": 706,
                  "value_of_order": 31640.6999999997,
                  "total_quantity_ordered": 7541
                },
                {
                  "index": 2928,
                  "productID": "9lh6sRGJWY3CsRWDMEjw",
                  "total_users_ordered": 704,
                  "total_no_of_order": 704,
                  "value_of_order": 8778,
                  "total_quantity_ordered": 2351
                },
                {
                  "index": 13602,
                  "productID": "jK7KsfBuuDSoWXiROHjD",
                  "total_users_ordered": 698,
                  "total_no_of_order": 698,
                  "value_of_order": 7854.0000000001,
                  "total_quantity_ordered": 2867
                },
                {
                  "index": 16096,
                  "productID": "s1pnRb9lOlWoOJ4eEkbQ",
                  "total_users_ordered": 696,
                  "total_no_of_order": 696,
                  "value_of_order": 5600.52,
                  "total_quantity_ordered": 9481
                },
                {
                  "index": 9223,
                  "productID": "UcnH8p2aJVMTmVwEhawZ",
                  "total_users_ordered": 677,
                  "total_no_of_order": 677,
                  "value_of_order": 6183.39,
                  "total_quantity_ordered": 6019
                },
                {
                  "index": 6283,
                  "productID": "KjXtCBTnJO6OhNP81y62",
                  "total_users_ordered": 675,
                  "total_no_of_order": 675,
                  "value_of_order": 5641.02,
                  "total_quantity_ordered": 3735
                },
                {
                  "index": 18308,
                  "productID": "zNYBpSEaGPGkM58SLAiz",
                  "total_users_ordered": 674,
                  "total_no_of_order": 674,
                  "value_of_order": 21861.1999999999,
                  "total_quantity_ordered": 5855
                },
                {
                  "index": 11299,
                  "productID": "bNO5z1kzYTqzmyIYs8cf",
                  "total_users_ordered": 659,
                  "total_no_of_order": 659,
                  "value_of_order": 8513.34,
                  "total_quantity_ordered": 2493
                },
                {
                  "index": 13943,
                  "productID": "kUchDmFPOzfSAWLDHt7o",
                  "total_users_ordered": 651,
                  "total_no_of_order": 651,
                  "value_of_order": 8340.47,
                  "total_quantity_ordered": 3163
                },
                {
                  "index": 11131,
                  "productID": "aqmYYGgmd3rkOqLdFqc7",
                  "total_users_ordered": 644,
                  "total_no_of_order": 644,
                  "value_of_order": 6890.8,
                  "total_quantity_ordered": 8478
                },
                {
                  "index": 14140,
                  "productID": "lBnLMEqifMTC5o9FZdt7",
                  "total_users_ordered": 643,
                  "total_no_of_order": 643,
                  "value_of_order": 7352.4000000001,
                  "total_quantity_ordered": 2668
                },
                {
                  "index": 3791,
                  "productID": "CX8xXk70fx6ildgHCAiu",
                  "total_users_ordered": 633,
                  "total_no_of_order": 633,
                  "value_of_order": 5686.04,
                  "total_quantity_ordered": 4397
                },
                {
                  "index": 12559,
                  "productID": "fqRtHnhePPDhrg8rHPlh",
                  "total_users_ordered": 612,
                  "total_no_of_order": 612,
                  "value_of_order": 7077.56,
                  "total_quantity_ordered": 2491
                },
                {
                  "index": 5862,
                  "productID": "JMZvJ1VTgaXZHT29DAZK",
                  "total_users_ordered": 611,
                  "total_no_of_order": 611,
                  "value_of_order": 12592.8199999999,
                  "total_quantity_ordered": 1026
                },
                {
                  "index": 12657,
                  "productID": "g8gQ4s9U5Z1o5xBH0USI",
                  "total_users_ordered": 591,
                  "total_no_of_order": 596,
                  "value_of_order": 13034.4799999999,
                  "total_quantity_ordered": 1698
                }
              ]
            }
          },
          "metadata": {
            "bento_obj_id": "140323316016464"
          },
          "execution_count": 111
        }
      ]
    },
    {
      "cell_type": "code",
      "metadata": {
        "originalKey": "ef90fdc2-df18-4bfa-80f0-dad3a783bf56",
        "showInput": true,
        "customInput": null,
        "code_folding": [],
        "hidden_ranges": [],
        "collapsed": false,
        "requestMsgId": "33b53485-d3dd-47ed-893e-cce745a96542",
        "executionStartTime": 1642029274393,
        "executionStopTime": 1642029274705
      },
      "source": [
        "product_user_history = df.groupby(['productID', 'placedByUser_id', 'product_description']).agg(\n",
        "    total_no_of_order = pd.NamedAgg(column='orderID', aggfunc='count'),\n",
        "    value_of_order = pd.NamedAgg(column='price', aggfunc='sum'),\n",
        "    total_quantity_ordered = pd.NamedAgg(column='quantity', aggfunc='sum')\n",
        ").reset_index()\n",
        "\n",
        "\n",
        "\n",
        "\n",
        ""
      ],
      "execution_count": 190,
      "outputs": []
    },
    {
      "cell_type": "code",
      "metadata": {
        "originalKey": "837c91cc-21eb-4573-b7fc-eb83dcfc5ca5",
        "showInput": true,
        "customInput": null,
        "collapsed": false,
        "requestMsgId": "edd03b12-cfe4-4975-bdaf-739295d080f9",
        "executionStartTime": 1642029275449,
        "executionStopTime": 1642029275545
      },
      "source": [
        "product_user_history"
      ],
      "execution_count": 191,
      "outputs": [
        {
          "output_type": "execute_result",
          "data": {
            "text/plain": "                  productID  ... total_quantity_ordered\n0      005d6DvEOtAGrcXWqK8T  ...                      4\n1      005d6DvEOtAGrcXWqK8T  ...                      8\n2      00GcWM9rlfkxHzRTB2w3  ...                      1\n3      00sodUf9w98QTb39bEVH  ...                      1\n4      00xBw0Z6NvHHMsrOli8N  ...                      3\n...                     ...  ...                    ...\n68176  zyrRHAcEvlJ2HOlZhtw1  ...                      1\n68177  zzCiyRvRJ484dDKIitmU  ...                      3\n68178  zztOg5esPPwpoBOaM3O5  ...                      1\n68179  zztOg5esPPwpoBOaM3O5  ...                      2\n68180  zzvnQmo84PVx1C9eGWXk  ...                      7\n\n[68181 rows x 6 columns]",
            "text/html": "<div>\n<style scoped>\n    .dataframe tbody tr th:only-of-type {\n        vertical-align: middle;\n    }\n\n    .dataframe tbody tr th {\n        vertical-align: top;\n    }\n\n    .dataframe thead th {\n        text-align: right;\n    }\n</style>\n<table border=\"1\" class=\"dataframe\">\n  <thead>\n    <tr style=\"text-align: right;\">\n      <th></th>\n      <th>productID</th>\n      <th>placedByUser_id</th>\n      <th>product_description</th>\n      <th>total_no_of_order</th>\n      <th>value_of_order</th>\n      <th>total_quantity_ordered</th>\n    </tr>\n  </thead>\n  <tbody>\n    <tr>\n      <th>0</th>\n      <td>005d6DvEOtAGrcXWqK8T</td>\n      <td>2uqfcPtYHyS8lIjJshzpNmKlBZj2</td>\n      <td>Small****savia Aloe Vera 20pk/16.9oz - Original</td>\n      <td>1</td>\n      <td>18.99</td>\n      <td>4</td>\n    </tr>\n    <tr>\n      <th>1</th>\n      <td>005d6DvEOtAGrcXWqK8T</td>\n      <td>rpGRHYHfOSOB7LmpczWeIcJGkn32</td>\n      <td>Small****savia Aloe Vera 20pk/16.9oz - Original</td>\n      <td>2</td>\n      <td>37.98</td>\n      <td>8</td>\n    </tr>\n    <tr>\n      <th>2</th>\n      <td>00GcWM9rlfkxHzRTB2w3</td>\n      <td>c5YizuDDitVz7IBn3xPbt9QcQli1</td>\n      <td>Preserves Damson Plum</td>\n      <td>1</td>\n      <td>39.00</td>\n      <td>1</td>\n    </tr>\n    <tr>\n      <th>3</th>\n      <td>00sodUf9w98QTb39bEVH</td>\n      <td>u4L2qK3Dmle4q3nq6xU0JNjWsLN2</td>\n      <td>Mini Oreo</td>\n      <td>1</td>\n      <td>12.48</td>\n      <td>1</td>\n    </tr>\n    <tr>\n      <th>4</th>\n      <td>00xBw0Z6NvHHMsrOli8N</td>\n      <td>YBLX1TPrSyNizSK9mVZ8sc0asSt2</td>\n      <td>Organic Marinara Sauce</td>\n      <td>2</td>\n      <td>107.04</td>\n      <td>3</td>\n    </tr>\n    <tr>\n      <th>...</th>\n      <td>...</td>\n      <td>...</td>\n      <td>...</td>\n      <td>...</td>\n      <td>...</td>\n      <td>...</td>\n    </tr>\n    <tr>\n      <th>68176</th>\n      <td>zyrRHAcEvlJ2HOlZhtw1</td>\n      <td>zJ0dIzGZ11VjUARvZLYrYJ7nNAn2</td>\n      <td>Organic Cane Sugar</td>\n      <td>1</td>\n      <td>31.20</td>\n      <td>1</td>\n    </tr>\n    <tr>\n      <th>68177</th>\n      <td>zzCiyRvRJ484dDKIitmU</td>\n      <td>a6X3GujkHbX5uZeqVBHjbHFganc2</td>\n      <td>Cacao Paste</td>\n      <td>1</td>\n      <td>9.00</td>\n      <td>3</td>\n    </tr>\n    <tr>\n      <th>68178</th>\n      <td>zztOg5esPPwpoBOaM3O5</td>\n      <td>F9JpJHnbIge30V0a3x1Ud0YbQ0p2</td>\n      <td>Lid Clear Deli Container 8-32 Oz</td>\n      <td>1</td>\n      <td>29.99</td>\n      <td>1</td>\n    </tr>\n    <tr>\n      <th>68179</th>\n      <td>zztOg5esPPwpoBOaM3O5</td>\n      <td>mj9iywQ9d7MKcuR05wzWmI2wHQ82</td>\n      <td>Lid Clear Deli Container 8-32 Oz</td>\n      <td>2</td>\n      <td>59.98</td>\n      <td>2</td>\n    </tr>\n    <tr>\n      <th>68180</th>\n      <td>zzvnQmo84PVx1C9eGWXk</td>\n      <td>tldkjiy0AdghFGtKyN6FZIfnpAf2</td>\n      <td>Wp Kizami Shoga 12/11.50 Fz</td>\n      <td>5</td>\n      <td>138.60</td>\n      <td>7</td>\n    </tr>\n  </tbody>\n</table>\n<p>68181 rows × 6 columns</p>\n</div>",
            "application/vnd.dataresource+json": {
              "schema": {
                "fields": [
                  {
                    "name": "index",
                    "type": "integer"
                  },
                  {
                    "name": "productID",
                    "type": "string"
                  },
                  {
                    "name": "placedByUser_id",
                    "type": "string"
                  },
                  {
                    "name": "product_description",
                    "type": "string"
                  },
                  {
                    "name": "total_no_of_order",
                    "type": "integer"
                  },
                  {
                    "name": "value_of_order",
                    "type": "number"
                  },
                  {
                    "name": "total_quantity_ordered",
                    "type": "integer"
                  }
                ],
                "primaryKey": [
                  "index"
                ],
                "pandas_version": "0.20.0"
              },
              "data": [
                {
                  "index": 0,
                  "productID": "005d6DvEOtAGrcXWqK8T",
                  "placedByUser_id": "2uqfcPtYHyS8lIjJshzpNmKlBZj2",
                  "product_description": "Small****savia Aloe Vera 20pk/16.9oz - Original",
                  "total_no_of_order": 1,
                  "value_of_order": 18.99,
                  "total_quantity_ordered": 4
                },
                {
                  "index": 1,
                  "productID": "005d6DvEOtAGrcXWqK8T",
                  "placedByUser_id": "rpGRHYHfOSOB7LmpczWeIcJGkn32",
                  "product_description": "Small****savia Aloe Vera 20pk/16.9oz - Original",
                  "total_no_of_order": 2,
                  "value_of_order": 37.98,
                  "total_quantity_ordered": 8
                },
                {
                  "index": 2,
                  "productID": "00GcWM9rlfkxHzRTB2w3",
                  "placedByUser_id": "c5YizuDDitVz7IBn3xPbt9QcQli1",
                  "product_description": "Preserves Damson Plum",
                  "total_no_of_order": 1,
                  "value_of_order": 39,
                  "total_quantity_ordered": 1
                },
                {
                  "index": 3,
                  "productID": "00sodUf9w98QTb39bEVH",
                  "placedByUser_id": "u4L2qK3Dmle4q3nq6xU0JNjWsLN2",
                  "product_description": "Mini Oreo",
                  "total_no_of_order": 1,
                  "value_of_order": 12.48,
                  "total_quantity_ordered": 1
                },
                {
                  "index": 4,
                  "productID": "00xBw0Z6NvHHMsrOli8N",
                  "placedByUser_id": "YBLX1TPrSyNizSK9mVZ8sc0asSt2",
                  "product_description": "Organic Marinara Sauce",
                  "total_no_of_order": 2,
                  "value_of_order": 107.04,
                  "total_quantity_ordered": 3
                },
                {
                  "index": 5,
                  "productID": "00xBw0Z6NvHHMsrOli8N",
                  "placedByUser_id": "laIoO7ftyJZzaYmBbxM2uVoLNuw2",
                  "product_description": "Organic Marinara Sauce",
                  "total_no_of_order": 3,
                  "value_of_order": 160.56,
                  "total_quantity_ordered": 4
                },
                {
                  "index": 6,
                  "productID": "00xBw0Z6NvHHMsrOli8N",
                  "placedByUser_id": "ur3LFHdm7JQsWxvkVzqidbn8rgQ2",
                  "product_description": "Organic Marinara Sauce",
                  "total_no_of_order": 1,
                  "value_of_order": 53.52,
                  "total_quantity_ordered": 1
                },
                {
                  "index": 7,
                  "productID": "01Rrl2aZaqUXz6Z2DAnO",
                  "placedByUser_id": "A0DyVplNV8fGni1C33HCojUWqea2",
                  "product_description": "Jam Santa Cruz 6 Pk 9.5 Oz Raspberry \"sj-04\"",
                  "total_no_of_order": 1,
                  "value_of_order": 17.99,
                  "total_quantity_ordered": 1
                },
                {
                  "index": 8,
                  "productID": "01Y343EVC7QKYKM1Y36k",
                  "placedByUser_id": "c5YizuDDitVz7IBn3xPbt9QcQli1",
                  "product_description": "Cinnamon Caramel Ice Cream",
                  "total_no_of_order": 1,
                  "value_of_order": 36.4,
                  "total_quantity_ordered": 1
                },
                {
                  "index": 9,
                  "productID": "01Y343EVC7QKYKM1Y36k",
                  "placedByUser_id": "j5L3B1ifOKXlan3okcgnHDdHJLm2",
                  "product_description": "Cinnamon Caramel Ice Cream",
                  "total_no_of_order": 8,
                  "value_of_order": 36.4,
                  "total_quantity_ordered": 88
                },
                {
                  "index": 10,
                  "productID": "01kh3NSudw08xzPvKGdi",
                  "placedByUser_id": "U3p3TOIfESX7CHeu8FFvdV5Al1g2",
                  "product_description": "Turmeric Supreme Pain",
                  "total_no_of_order": 4,
                  "value_of_order": 102,
                  "total_quantity_ordered": 33
                },
                {
                  "index": 11,
                  "productID": "01mHKOHeqe3Tl4BuzQgz",
                  "placedByUser_id": "U3p3TOIfESX7CHeu8FFvdV5Al1g2",
                  "product_description": "Women's One Non-gmo 120ct",
                  "total_no_of_order": 1,
                  "value_of_order": 19,
                  "total_quantity_ordered": 6
                },
                {
                  "index": 12,
                  "productID": "01sOzGs5Ap4JQHnTBmaJ",
                  "placedByUser_id": "MU9TwfKa9sebaCjVLcJCoLoYsru1",
                  "product_description": "Whole Cashew Raw Meat",
                  "total_no_of_order": 1,
                  "value_of_order": 6.99,
                  "total_quantity_ordered": 10
                },
                {
                  "index": 13,
                  "productID": "02Y3VFFRwTuc5Yjz9onv",
                  "placedByUser_id": "9txvybogBcdM412MvoRP9SUMPmH2",
                  "product_description": "Vicenzi-amaretto D'italia 7.06oz",
                  "total_no_of_order": 5,
                  "value_of_order": 192.6,
                  "total_quantity_ordered": 5
                },
                {
                  "index": 14,
                  "productID": "02Y3VFFRwTuc5Yjz9onv",
                  "placedByUser_id": "PNHsciGdXbfezfkD9xKeMuwnHsW2",
                  "product_description": "Vicenzi-amaretto D'italia 7.06oz",
                  "total_no_of_order": 8,
                  "value_of_order": 308.16,
                  "total_quantity_ordered": 8
                },
                {
                  "index": 15,
                  "productID": "02d1KDLFYirsUlsnAcVv",
                  "placedByUser_id": "0xlTWzCsGlTTnqQUalmPvtYEMIT2",
                  "product_description": "Vanilla Almond Milk",
                  "total_no_of_order": 1,
                  "value_of_order": 16.67,
                  "total_quantity_ordered": 1
                },
                {
                  "index": 16,
                  "productID": "02d1KDLFYirsUlsnAcVv",
                  "placedByUser_id": "3UuJCcI0GXg3JUgZuvIvhCOAQe13",
                  "product_description": "Vanilla Almond Milk",
                  "total_no_of_order": 9,
                  "value_of_order": 150.03,
                  "total_quantity_ordered": 9
                },
                {
                  "index": 17,
                  "productID": "02d1KDLFYirsUlsnAcVv",
                  "placedByUser_id": "6AIGBF065ddOZ6kpgYasWlt71WO2",
                  "product_description": "Vanilla Almond Milk",
                  "total_no_of_order": 14,
                  "value_of_order": 233.38,
                  "total_quantity_ordered": 14
                },
                {
                  "index": 18,
                  "productID": "02d1KDLFYirsUlsnAcVv",
                  "placedByUser_id": "6lpVcWvPZJWRdqszuR8L3su5Fpq2",
                  "product_description": "Vanilla Almond Milk",
                  "total_no_of_order": 2,
                  "value_of_order": 33.34,
                  "total_quantity_ordered": 2
                },
                {
                  "index": 19,
                  "productID": "02d1KDLFYirsUlsnAcVv",
                  "placedByUser_id": "7xy2daVOpkcwzSog4bLeZYWeYLD3",
                  "product_description": "Vanilla Almond Milk",
                  "total_no_of_order": 7,
                  "value_of_order": 116.69,
                  "total_quantity_ordered": 7
                },
                {
                  "index": 20,
                  "productID": "02d1KDLFYirsUlsnAcVv",
                  "placedByUser_id": "CRtgyD7zZGh2HjlDafJXlvanLnB3",
                  "product_description": "Vanilla Almond Milk",
                  "total_no_of_order": 2,
                  "value_of_order": 33.34,
                  "total_quantity_ordered": 2
                },
                {
                  "index": 21,
                  "productID": "02d1KDLFYirsUlsnAcVv",
                  "placedByUser_id": "DszHM5IcRCUGsuVrecT55YEBL523",
                  "product_description": "Vanilla Almond Milk",
                  "total_no_of_order": 4,
                  "value_of_order": 66.68,
                  "total_quantity_ordered": 4
                },
                {
                  "index": 22,
                  "productID": "02d1KDLFYirsUlsnAcVv",
                  "placedByUser_id": "FgNAUGGyF1g0B7vVHN7dOjmw8uf2",
                  "product_description": "Vanilla Almond Milk",
                  "total_no_of_order": 1,
                  "value_of_order": 16.67,
                  "total_quantity_ordered": 1
                },
                {
                  "index": 23,
                  "productID": "02d1KDLFYirsUlsnAcVv",
                  "placedByUser_id": "Fnb7yA1NPsbABwMnnuBmSvDaijg2",
                  "product_description": "Vanilla Almond Milk",
                  "total_no_of_order": 8,
                  "value_of_order": 133.36,
                  "total_quantity_ordered": 9
                },
                {
                  "index": 24,
                  "productID": "02d1KDLFYirsUlsnAcVv",
                  "placedByUser_id": "KoqofJAtlLbKFopD135eQSFq0qI3",
                  "product_description": "Vanilla Almond Milk",
                  "total_no_of_order": 10,
                  "value_of_order": 166.7,
                  "total_quantity_ordered": 11
                },
                {
                  "index": 25,
                  "productID": "02d1KDLFYirsUlsnAcVv",
                  "placedByUser_id": "LcFGDAW36Yc0ybs8eYO2612FIIp2",
                  "product_description": "Vanilla Almond Milk",
                  "total_no_of_order": 7,
                  "value_of_order": 116.69,
                  "total_quantity_ordered": 7
                },
                {
                  "index": 26,
                  "productID": "02d1KDLFYirsUlsnAcVv",
                  "placedByUser_id": "MFqX6SFTfedUNtlHeUGxwvvO08a2",
                  "product_description": "Vanilla Almond Milk",
                  "total_no_of_order": 4,
                  "value_of_order": 66.68,
                  "total_quantity_ordered": 4
                },
                {
                  "index": 27,
                  "productID": "02d1KDLFYirsUlsnAcVv",
                  "placedByUser_id": "O6pfJZxIoVYtRid7plF4lvpgwFA2",
                  "product_description": "Vanilla Almond Milk",
                  "total_no_of_order": 1,
                  "value_of_order": 16.67,
                  "total_quantity_ordered": 1
                },
                {
                  "index": 28,
                  "productID": "02d1KDLFYirsUlsnAcVv",
                  "placedByUser_id": "PVAlIVhX00UiQtBOmKwDk812xi42",
                  "product_description": "Vanilla Almond Milk",
                  "total_no_of_order": 3,
                  "value_of_order": 50.01,
                  "total_quantity_ordered": 3
                },
                {
                  "index": 29,
                  "productID": "02d1KDLFYirsUlsnAcVv",
                  "placedByUser_id": "TduJhPrGICV4i4l4YobFQiJTxwp2",
                  "product_description": "Vanilla Almond Milk",
                  "total_no_of_order": 10,
                  "value_of_order": 166.7,
                  "total_quantity_ordered": 21
                },
                {
                  "index": 30,
                  "productID": "02d1KDLFYirsUlsnAcVv",
                  "placedByUser_id": "U7u0oNw8ywO5gz3Q8iezuKbdxaf2",
                  "product_description": "Vanilla Almond Milk",
                  "total_no_of_order": 4,
                  "value_of_order": 66.68,
                  "total_quantity_ordered": 4
                },
                {
                  "index": 31,
                  "productID": "02d1KDLFYirsUlsnAcVv",
                  "placedByUser_id": "UI3BMZbKExT76mEKC37OJvZ7SNj1",
                  "product_description": "Vanilla Almond Milk",
                  "total_no_of_order": 6,
                  "value_of_order": 100.02,
                  "total_quantity_ordered": 6
                },
                {
                  "index": 32,
                  "productID": "02d1KDLFYirsUlsnAcVv",
                  "placedByUser_id": "aSMyylQnnwZ1kmO9psLUGB0cBYq1",
                  "product_description": "Vanilla Almond Milk",
                  "total_no_of_order": 7,
                  "value_of_order": 116.69,
                  "total_quantity_ordered": 11
                },
                {
                  "index": 33,
                  "productID": "02d1KDLFYirsUlsnAcVv",
                  "placedByUser_id": "b9XKZzo54yagE61gfEQ0SM9B4c03",
                  "product_description": "Vanilla Almond Milk",
                  "total_no_of_order": 3,
                  "value_of_order": 50.01,
                  "total_quantity_ordered": 3
                },
                {
                  "index": 34,
                  "productID": "02d1KDLFYirsUlsnAcVv",
                  "placedByUser_id": "gChcipWxWSMNdRSTpPkqYHTa4nC2",
                  "product_description": "Vanilla Almond Milk",
                  "total_no_of_order": 2,
                  "value_of_order": 33.34,
                  "total_quantity_ordered": 2
                },
                {
                  "index": 35,
                  "productID": "02d1KDLFYirsUlsnAcVv",
                  "placedByUser_id": "gSoz80regjh87XNvWl2r7JQBOzV2",
                  "product_description": "Vanilla Almond Milk",
                  "total_no_of_order": 14,
                  "value_of_order": 233.38,
                  "total_quantity_ordered": 14
                },
                {
                  "index": 36,
                  "productID": "02d1KDLFYirsUlsnAcVv",
                  "placedByUser_id": "h4hK1U5hz0gB9XARIoUEcnsLveB3",
                  "product_description": "Vanilla Almond Milk",
                  "total_no_of_order": 3,
                  "value_of_order": 50.01,
                  "total_quantity_ordered": 5
                },
                {
                  "index": 37,
                  "productID": "02d1KDLFYirsUlsnAcVv",
                  "placedByUser_id": "hHs6m8sZklXLwJYXDXGylrMqKPF2",
                  "product_description": "Vanilla Almond Milk",
                  "total_no_of_order": 3,
                  "value_of_order": 50.01,
                  "total_quantity_ordered": 3
                },
                {
                  "index": 38,
                  "productID": "02d1KDLFYirsUlsnAcVv",
                  "placedByUser_id": "l1erujnuegNMkQpPggfThWboNS62",
                  "product_description": "Vanilla Almond Milk",
                  "total_no_of_order": 9,
                  "value_of_order": 150.03,
                  "total_quantity_ordered": 9
                },
                {
                  "index": 39,
                  "productID": "02d1KDLFYirsUlsnAcVv",
                  "placedByUser_id": "mNNssTrwTHgXXrrvThK66S2yj8w1",
                  "product_description": "Vanilla Almond Milk",
                  "total_no_of_order": 9,
                  "value_of_order": 150.03,
                  "total_quantity_ordered": 9
                },
                {
                  "index": 40,
                  "productID": "02d1KDLFYirsUlsnAcVv",
                  "placedByUser_id": "nnSZiz2Z3SZ4FTNDI3NX0yJ9IRB2",
                  "product_description": "Vanilla Almond Milk",
                  "total_no_of_order": 8,
                  "value_of_order": 133.36,
                  "total_quantity_ordered": 10
                },
                {
                  "index": 41,
                  "productID": "02d1KDLFYirsUlsnAcVv",
                  "placedByUser_id": "skHRHhEKaRZKzOzsUxi7JCwsnXG2",
                  "product_description": "Vanilla Almond Milk",
                  "total_no_of_order": 7,
                  "value_of_order": 116.69,
                  "total_quantity_ordered": 7
                },
                {
                  "index": 42,
                  "productID": "02d1KDLFYirsUlsnAcVv",
                  "placedByUser_id": "tgKWy2S9PIdViTmb9MqXET5cdCF3",
                  "product_description": "Vanilla Almond Milk",
                  "total_no_of_order": 7,
                  "value_of_order": 116.69,
                  "total_quantity_ordered": 7
                },
                {
                  "index": 43,
                  "productID": "02d1KDLFYirsUlsnAcVv",
                  "placedByUser_id": "vLK86SXHZZTs787fmcWsyvu4mKZ2",
                  "product_description": "Vanilla Almond Milk",
                  "total_no_of_order": 3,
                  "value_of_order": 50.01,
                  "total_quantity_ordered": 3
                },
                {
                  "index": 44,
                  "productID": "02d1KDLFYirsUlsnAcVv",
                  "placedByUser_id": "yU5LhKqclQb5BLOFHHR7yGHKdEC2",
                  "product_description": "Vanilla Almond Milk",
                  "total_no_of_order": 11,
                  "value_of_order": 183.37,
                  "total_quantity_ordered": 11
                },
                {
                  "index": 45,
                  "productID": "02jEKnpKOa5VU75auZjp",
                  "placedByUser_id": "zT7PpJWqKOetX6VnwCcLf8D5SQy1",
                  "product_description": "Multidophilus 12 Strain 20 Bn : 49301: Vcp, (btl-plastic) 20bil 50ct",
                  "total_no_of_order": 2,
                  "value_of_order": 19.2,
                  "total_quantity_ordered": 3
                },
                {
                  "index": 46,
                  "productID": "02x8x6PALK0DrLMLhMrr",
                  "placedByUser_id": "3QyIqMBdM7PJPm90BwA4jF4JYGx1",
                  "product_description": "Sound Sleep®",
                  "total_no_of_order": 1,
                  "value_of_order": 13.34,
                  "total_quantity_ordered": 5
                },
                {
                  "index": 47,
                  "productID": "02x8x6PALK0DrLMLhMrr",
                  "placedByUser_id": "AEGdSvLRBcef0hc4aD0vkMIQp6q1",
                  "product_description": "Sound Sleep®",
                  "total_no_of_order": 1,
                  "value_of_order": 14.5,
                  "total_quantity_ordered": 2
                },
                {
                  "index": 48,
                  "productID": "02x8x6PALK0DrLMLhMrr",
                  "placedByUser_id": "U3p3TOIfESX7CHeu8FFvdV5Al1g2",
                  "product_description": "Sound Sleep®",
                  "total_no_of_order": 1,
                  "value_of_order": 14.5,
                  "total_quantity_ordered": 6
                },
                {
                  "index": 49,
                  "productID": "02x8x6PALK0DrLMLhMrr",
                  "placedByUser_id": "zT7PpJWqKOetX6VnwCcLf8D5SQy1",
                  "product_description": "Sound Sleep®",
                  "total_no_of_order": 3,
                  "value_of_order": 43.5,
                  "total_quantity_ordered": 6
                },
                {
                  "index": 50,
                  "productID": "0366JJAZOaDhNGqEUZhk",
                  "placedByUser_id": "AEGdSvLRBcef0hc4aD0vkMIQp6q1",
                  "product_description": "Skin Eternal® Dmae Cream",
                  "total_no_of_order": 1,
                  "value_of_order": 26.99,
                  "total_quantity_ordered": 1
                },
                {
                  "index": 51,
                  "productID": "03N14DohtSSwVNUzM9c7",
                  "placedByUser_id": "fOihUCOIb5V5wMW99gUSx8NwHrw2",
                  "product_description": "Ultrasonic Faux Wood Grain Diffuser",
                  "total_no_of_order": 1,
                  "value_of_order": 29.99,
                  "total_quantity_ordered": 4
                },
                {
                  "index": 52,
                  "productID": "03g4kydwMoBgvRjUDImO",
                  "placedByUser_id": "bZimJ00UfnUDyyYoOMEAkAQsV9E3",
                  "product_description": "Chips Iberico Ham",
                  "total_no_of_order": 3,
                  "value_of_order": 134.49,
                  "total_quantity_ordered": 5
                },
                {
                  "index": 53,
                  "productID": "03kTIQXmz3slBIGBb8tl",
                  "placedByUser_id": "U3p3TOIfESX7CHeu8FFvdV5Al1g2",
                  "product_description": "Vegan bioenhanced vitamin d3 5,000 iu",
                  "total_no_of_order": 1,
                  "value_of_order": 15,
                  "total_quantity_ordered": 4
                },
                {
                  "index": 54,
                  "productID": "0456alw7rmIC4PjzN9Nm",
                  "placedByUser_id": "42ZOvn2F1FRUF7hJq0PEMpzlLrQ2",
                  "product_description": "Whey To Go® Protein Powder* Natural Chocolate Flavor",
                  "total_no_of_order": 2,
                  "value_of_order": 62.4,
                  "total_quantity_ordered": 8
                },
                {
                  "index": 55,
                  "productID": "0456alw7rmIC4PjzN9Nm",
                  "placedByUser_id": "zT7PpJWqKOetX6VnwCcLf8D5SQy1",
                  "product_description": "Whey To Go® Protein Powder* Natural Chocolate Flavor",
                  "total_no_of_order": 1,
                  "value_of_order": 31.2,
                  "total_quantity_ordered": 3
                },
                {
                  "index": 56,
                  "productID": "04LVqYXwb1rn0Ua4JDxC",
                  "placedByUser_id": "9txvybogBcdM412MvoRP9SUMPmH2",
                  "product_description": "Pocky Choc Covered Cookie Sticks 1.41oz",
                  "total_no_of_order": 3,
                  "value_of_order": 60,
                  "total_quantity_ordered": 3
                },
                {
                  "index": 57,
                  "productID": "04nwoIsYHvlsLPoDdWvG",
                  "placedByUser_id": "bZimJ00UfnUDyyYoOMEAkAQsV9E3",
                  "product_description": "Golden Potato Pancake",
                  "total_no_of_order": 2,
                  "value_of_order": 87,
                  "total_quantity_ordered": 2
                },
                {
                  "index": 58,
                  "productID": "04nwoIsYHvlsLPoDdWvG",
                  "placedByUser_id": "jLIdZ7UVEXZgc7Rb5gyUJLNdFpw1",
                  "product_description": "Golden Potato Pancake",
                  "total_no_of_order": 1,
                  "value_of_order": 43.5,
                  "total_quantity_ordered": 1
                },
                {
                  "index": 59,
                  "productID": "04rWs5ATAaHvfTaBsbyo",
                  "placedByUser_id": "LVQ48uyOsScy5iPAITYHqwhTCd43",
                  "product_description": "Rice",
                  "total_no_of_order": 1,
                  "value_of_order": 13.8,
                  "total_quantity_ordered": 1
                }
              ]
            }
          },
          "metadata": {
            "bento_obj_id": "140323347702880"
          },
          "execution_count": 191
        }
      ]
    },
    {
      "cell_type": "code",
      "metadata": {
        "originalKey": "a40f7aa0-414a-4cab-bd5f-223afb670582",
        "showInput": true,
        "customInput": null,
        "code_folding": [],
        "hidden_ranges": [],
        "collapsed": false,
        "requestMsgId": "9e592de5-8df8-4b5e-b426-b71813174d72",
        "executionStartTime": 1642030232556,
        "executionStopTime": 1642030233434
      },
      "source": [
        "test_matrix = product_user_history.pivot_table(index='placedByUser_id',columns='product_description',values='total_no_of_order').fillna(0)\n",
        ""
      ],
      "execution_count": 236,
      "outputs": []
    },
    {
      "cell_type": "code",
      "metadata": {
        "originalKey": "51d350f7-c1c9-4768-86b3-6918b4aba26e",
        "showInput": true,
        "customInput": null
      },
      "source": [
        "X = test_matrix.T\n",
        "from sklearn.decomposition import TruncatedSVD\n",
        "SVD = TruncatedSVD(n_components=12, random_state=5)\n",
        "resultant_matrix = SVD.fit_transform(X)\n",
        "resultant_matrix.shape\n",
        "corr_mat = np.corrcoef(resultant_matrix)\n",
        "corr_mat.shape\n",
        ""
      ],
      "execution_count": null,
      "outputs": []
    },
    {
      "cell_type": "code",
      "metadata": {
        "originalKey": "e76d5b59-d101-4dfa-9563-a3038074af5c",
        "showInput": true,
        "customInput": null
      },
      "source": [
        "col_idx = test_matrix.columns.get_loc(\"Organic Matcha Latte\")\n",
        "corr_specific = corr_mat[col_idx]\n",
        "pd.DataFrame({'corr_specific':corr_specific, 'Product Name': test_matrix.columns})\\\n",
        ".sort_values('corr_specific', ascending=False)\\\n",
        ".head(10)\n",
        "\n",
        ""
      ],
      "execution_count": null,
      "outputs": []
    },
    {
      "cell_type": "code",
      "metadata": {
        "originalKey": "b9311f99-24aa-4a85-9dab-442074826abf",
        "showInput": true,
        "customInput": null,
        "collapsed": false,
        "requestMsgId": "fa428ad0-1378-464d-b065-21bfe6a0fc3a",
        "executionStartTime": 1642031486097,
        "executionStopTime": 1642031486410,
        "code_folding": [],
        "hidden_ranges": []
      },
      "source": [
        "sparse_mat_user_product = csr_matrix(test_matrix.values)\n",
        "sparse_mat_user_product\n",
        ""
      ],
      "execution_count": 246,
      "outputs": [
        {
          "output_type": "execute_result",
          "data": {
            "text/plain": "<369x16974 sparse matrix of type '<class 'numpy.float64'>'\n\twith 65898 stored elements in Compressed Sparse Row format>"
          },
          "metadata": {
            "bento_obj_id": "140323363231104"
          },
          "execution_count": 246
        }
      ]
    },
    {
      "cell_type": "code",
      "metadata": {
        "originalKey": "24155bfd-7c4b-44ff-bef5-20acbb610469",
        "showInput": true,
        "customInput": null,
        "code_folding": [],
        "hidden_ranges": [],
        "collapsed": false,
        "requestMsgId": "79e05ee2-209f-4aa8-b86b-9a7aeb0c5894",
        "executionStartTime": 1642031489836,
        "executionStopTime": 1642031490005
      },
      "source": [
        "from sklearn.neighbors import NearestNeighbors\n",
        "model_knn = NearestNeighbors(metric='cosine',algorithm='brute', n_neighbors=20, n_jobs=-1)\n",
        ""
      ],
      "execution_count": 247,
      "outputs": []
    },
    {
      "cell_type": "code",
      "metadata": {
        "originalKey": "8c60c33e-3302-43cd-918f-9968972c9fe8",
        "showInput": true,
        "customInput": null,
        "collapsed": false,
        "requestMsgId": "d77e3894-f94f-408d-8fae-0ac22d395a73",
        "executionStartTime": 1642031511886,
        "executionStopTime": 1642031512113,
        "code_folding": [],
        "hidden_ranges": []
      },
      "source": [
        "model_knn.fit(sparse_mat_user_product)\n",
        "distances, indices = model_knn.kneighbors(sparse_mat_user_product)\n",
        "\n",
        "indices"
      ],
      "execution_count": 249,
      "outputs": [
        {
          "output_type": "execute_result",
          "data": {
            "text/plain": "array([[  0,  30, 226, ..., 187, 284,  12],\n       [  1, 196, 192, ...,  23, 127, 315],\n       [  2, 220,  30, ..., 184, 226, 186],\n       ...,\n       [366,  54, 268, ..., 161, 332, 130],\n       [367, 115,  77, ...,  55,  82, 274],\n       [368, 209, 139, ..., 114, 133,  70]])"
          },
          "metadata": {
            "bento_obj_id": "140323473772016"
          },
          "execution_count": 249
        }
      ]
    },
    {
      "cell_type": "code",
      "metadata": {
        "originalKey": "e4c66523-a896-4907-92b5-02d898714926",
        "showInput": true,
        "customInput": null,
        "code_folding": [],
        "hidden_ranges": [],
        "collapsed": false,
        "requestMsgId": "60cb329a-c591-4293-b295-c87bc32c0788",
        "executionStartTime": 1642030241934,
        "executionStopTime": 1642030303195
      },
      "source": [
        ""
      ],
      "execution_count": 237,
      "outputs": [
        {
          "output_type": "execute_result",
          "data": {
            "text/plain": "(16974, 16974)"
          },
          "metadata": {
            "bento_obj_id": "140323367136256"
          },
          "execution_count": 237
        }
      ]
    },
    {
      "cell_type": "code",
      "metadata": {
        "originalKey": "c6694076-c23a-4e97-bdfa-c880c73cd7a1",
        "showInput": true,
        "customInput": null,
        "collapsed": false,
        "requestMsgId": "1b89ce79-5e08-4081-8fca-5a7179695835",
        "executionStartTime": 1642030327852,
        "executionStopTime": 1642030328068,
        "code_folding": [],
        "hidden_ranges": []
      },
      "source": [
        ""
      ],
      "execution_count": 241,
      "outputs": [
        {
          "output_type": "execute_result",
          "data": {
            "text/plain": "       corr_specific                      Product Name\n11305       1.000000              Organic Matcha Latte\n6110        0.984190          Ginger Lemon Antioxident\n11296       0.976609            Organic Maca Cold Brew\n11086       0.964690  Organic Cold Brew Coffee Protein\n11128       0.964530    Organic Dark Chocolate Protein\n11297       0.958808                Organic Maca Mocha\n8963        0.949817      Marin Cheese Sliced American\n15741       0.927265         Turmeric Pear Antioxident\n3926        0.900502                            Coffee\n10623       0.894496             Org Antioxidant Detox",
            "text/html": "<div>\n<style scoped>\n    .dataframe tbody tr th:only-of-type {\n        vertical-align: middle;\n    }\n\n    .dataframe tbody tr th {\n        vertical-align: top;\n    }\n\n    .dataframe thead th {\n        text-align: right;\n    }\n</style>\n<table border=\"1\" class=\"dataframe\">\n  <thead>\n    <tr style=\"text-align: right;\">\n      <th></th>\n      <th>corr_specific</th>\n      <th>Product Name</th>\n    </tr>\n  </thead>\n  <tbody>\n    <tr>\n      <th>11305</th>\n      <td>1.000000</td>\n      <td>Organic Matcha Latte</td>\n    </tr>\n    <tr>\n      <th>6110</th>\n      <td>0.984190</td>\n      <td>Ginger Lemon Antioxident</td>\n    </tr>\n    <tr>\n      <th>11296</th>\n      <td>0.976609</td>\n      <td>Organic Maca Cold Brew</td>\n    </tr>\n    <tr>\n      <th>11086</th>\n      <td>0.964690</td>\n      <td>Organic Cold Brew Coffee Protein</td>\n    </tr>\n    <tr>\n      <th>11128</th>\n      <td>0.964530</td>\n      <td>Organic Dark Chocolate Protein</td>\n    </tr>\n    <tr>\n      <th>11297</th>\n      <td>0.958808</td>\n      <td>Organic Maca Mocha</td>\n    </tr>\n    <tr>\n      <th>8963</th>\n      <td>0.949817</td>\n      <td>Marin Cheese Sliced American</td>\n    </tr>\n    <tr>\n      <th>15741</th>\n      <td>0.927265</td>\n      <td>Turmeric Pear Antioxident</td>\n    </tr>\n    <tr>\n      <th>3926</th>\n      <td>0.900502</td>\n      <td>Coffee</td>\n    </tr>\n    <tr>\n      <th>10623</th>\n      <td>0.894496</td>\n      <td>Org Antioxidant Detox</td>\n    </tr>\n  </tbody>\n</table>\n</div>",
            "application/vnd.dataresource+json": {
              "schema": {
                "fields": [
                  {
                    "name": "index",
                    "type": "integer"
                  },
                  {
                    "name": "corr_specific",
                    "type": "number"
                  },
                  {
                    "name": "Product Name",
                    "type": "string"
                  }
                ],
                "primaryKey": [
                  "index"
                ],
                "pandas_version": "0.20.0"
              },
              "data": [
                {
                  "index": 11305,
                  "corr_specific": 1,
                  "Product Name": "Organic Matcha Latte"
                },
                {
                  "index": 6110,
                  "corr_specific": 0.9841898772,
                  "Product Name": "Ginger Lemon Antioxident"
                },
                {
                  "index": 11296,
                  "corr_specific": 0.9766087012,
                  "Product Name": "Organic Maca Cold Brew"
                },
                {
                  "index": 11086,
                  "corr_specific": 0.9646903382,
                  "Product Name": "Organic Cold Brew Coffee Protein"
                },
                {
                  "index": 11128,
                  "corr_specific": 0.9645303171,
                  "Product Name": "Organic Dark Chocolate Protein"
                },
                {
                  "index": 11297,
                  "corr_specific": 0.9588081274,
                  "Product Name": "Organic Maca Mocha"
                },
                {
                  "index": 8963,
                  "corr_specific": 0.9498165681,
                  "Product Name": "Marin Cheese Sliced American"
                },
                {
                  "index": 15741,
                  "corr_specific": 0.9272648382,
                  "Product Name": "Turmeric Pear Antioxident"
                },
                {
                  "index": 3926,
                  "corr_specific": 0.9005020955,
                  "Product Name": "Coffee"
                },
                {
                  "index": 10623,
                  "corr_specific": 0.8944956793,
                  "Product Name": "Org Antioxidant Detox"
                }
              ]
            }
          },
          "metadata": {
            "bento_obj_id": "140323377761920"
          },
          "execution_count": 241
        }
      ]
    },
    {
      "cell_type": "code",
      "metadata": {
        "originalKey": "af20cb69-e2cc-4fb9-b4b0-0bd8a3620779",
        "showInput": true,
        "customInput": null
      },
      "source": [
        ""
      ],
      "execution_count": null,
      "outputs": []
    }
  ]
}
